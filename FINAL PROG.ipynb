{
 "cells": [
  {
   "cell_type": "markdown",
   "id": "5a38c4a5",
   "metadata": {},
   "source": [
    " ## JOHN OHIGBAI OHIOSIKHA\n",
    "\n",
    "## Unicorn Companies\n",
    "\n",
    "**Private companies with a valuation over $1 Billion as of March 2022, including each company's current valuation, funding, country of origin, industry, select investors, and the years they were founded and became unicorns.**"
   ]
  },
  {
   "cell_type": "markdown",
   "id": "d1f05e4c",
   "metadata": {},
   "source": [
    "**Recommended Analysis**\n",
    "\n",
    "1. Which unicorn companies have had the biggest return on investment?\n",
    "\n",
    "2. How long does it usually take for a company to become a unicorn? Has it always been this way?\n",
    "\n",
    "3. Which countries have the most unicorns? Are there any cities that appear to be industry hubs?\n",
    "\n",
    "4. Which investors have funded the most unicorns?"
   ]
  },
  {
   "cell_type": "code",
   "execution_count": 268,
   "id": "55ebd128",
   "metadata": {},
   "outputs": [],
   "source": [
    "import pandas as pd\n",
    "import numpy as np\n",
    "import scipy.stats as stats\n",
    "import datetime as datetime\n",
    "from datetime import datetime\n",
    "\n",
    "from sklearn.linear_model import LinearRegression\n",
    "import seaborn as sns\n",
    "import matplotlib.pyplot as plt\n",
    "import plotly\n",
    "import plotly.express as px\n",
    "from matplotlib.pyplot import figure\n",
    "from plotly.offline import init_notebook_mode, iplot\n",
    "import plotly.graph_objects as go\n",
    "\n",
    "%matplotlib inline"
   ]
  },
  {
   "cell_type": "markdown",
   "id": "2bb81e93",
   "metadata": {},
   "source": [
    "## Step 1: Imports\n",
    "\n",
    "### Import libraries"
   ]
  },
  {
   "cell_type": "code",
   "execution_count": 269,
   "id": "67eb7105",
   "metadata": {},
   "outputs": [
    {
     "data": {
      "text/html": [
       "<div>\n",
       "<style scoped>\n",
       "    .dataframe tbody tr th:only-of-type {\n",
       "        vertical-align: middle;\n",
       "    }\n",
       "\n",
       "    .dataframe tbody tr th {\n",
       "        vertical-align: top;\n",
       "    }\n",
       "\n",
       "    .dataframe thead th {\n",
       "        text-align: right;\n",
       "    }\n",
       "</style>\n",
       "<table border=\"1\" class=\"dataframe\">\n",
       "  <thead>\n",
       "    <tr style=\"text-align: right;\">\n",
       "      <th></th>\n",
       "      <th>Company</th>\n",
       "      <th>Valuation</th>\n",
       "      <th>Date Joined</th>\n",
       "      <th>Industry</th>\n",
       "      <th>City</th>\n",
       "      <th>Country</th>\n",
       "      <th>Continent</th>\n",
       "      <th>Year Founded</th>\n",
       "      <th>Funding</th>\n",
       "      <th>Select Investors</th>\n",
       "    </tr>\n",
       "  </thead>\n",
       "  <tbody>\n",
       "    <tr>\n",
       "      <th>0</th>\n",
       "      <td>Bytedance</td>\n",
       "      <td>$180B</td>\n",
       "      <td>2017-04-07</td>\n",
       "      <td>Artificial intelligence</td>\n",
       "      <td>Beijing</td>\n",
       "      <td>China</td>\n",
       "      <td>Asia</td>\n",
       "      <td>2012</td>\n",
       "      <td>$8B</td>\n",
       "      <td>Sequoia Capital China, SIG Asia Investments, S...</td>\n",
       "    </tr>\n",
       "    <tr>\n",
       "      <th>1</th>\n",
       "      <td>SpaceX</td>\n",
       "      <td>$100B</td>\n",
       "      <td>2012-12-01</td>\n",
       "      <td>Other</td>\n",
       "      <td>Hawthorne</td>\n",
       "      <td>United States</td>\n",
       "      <td>North America</td>\n",
       "      <td>2002</td>\n",
       "      <td>$7B</td>\n",
       "      <td>Founders Fund, Draper Fisher Jurvetson, Rothen...</td>\n",
       "    </tr>\n",
       "    <tr>\n",
       "      <th>2</th>\n",
       "      <td>SHEIN</td>\n",
       "      <td>$100B</td>\n",
       "      <td>2018-07-03</td>\n",
       "      <td>E-commerce &amp; direct-to-consumer</td>\n",
       "      <td>Shenzhen</td>\n",
       "      <td>China</td>\n",
       "      <td>Asia</td>\n",
       "      <td>2008</td>\n",
       "      <td>$2B</td>\n",
       "      <td>Tiger Global Management, Sequoia Capital China...</td>\n",
       "    </tr>\n",
       "    <tr>\n",
       "      <th>3</th>\n",
       "      <td>Stripe</td>\n",
       "      <td>$95B</td>\n",
       "      <td>2014-01-23</td>\n",
       "      <td>Fintech</td>\n",
       "      <td>San Francisco</td>\n",
       "      <td>United States</td>\n",
       "      <td>North America</td>\n",
       "      <td>2010</td>\n",
       "      <td>$2B</td>\n",
       "      <td>Khosla Ventures, LowercaseCapital, capitalG</td>\n",
       "    </tr>\n",
       "    <tr>\n",
       "      <th>4</th>\n",
       "      <td>Klarna</td>\n",
       "      <td>$46B</td>\n",
       "      <td>2011-12-12</td>\n",
       "      <td>Fintech</td>\n",
       "      <td>Stockholm</td>\n",
       "      <td>Sweden</td>\n",
       "      <td>Europe</td>\n",
       "      <td>2005</td>\n",
       "      <td>$4B</td>\n",
       "      <td>Institutional Venture Partners, Sequoia Capita...</td>\n",
       "    </tr>\n",
       "    <tr>\n",
       "      <th>...</th>\n",
       "      <td>...</td>\n",
       "      <td>...</td>\n",
       "      <td>...</td>\n",
       "      <td>...</td>\n",
       "      <td>...</td>\n",
       "      <td>...</td>\n",
       "      <td>...</td>\n",
       "      <td>...</td>\n",
       "      <td>...</td>\n",
       "      <td>...</td>\n",
       "    </tr>\n",
       "    <tr>\n",
       "      <th>1069</th>\n",
       "      <td>Zhaogang</td>\n",
       "      <td>$1B</td>\n",
       "      <td>2017-06-29</td>\n",
       "      <td>E-commerce &amp; direct-to-consumer</td>\n",
       "      <td>Shanghai</td>\n",
       "      <td>China</td>\n",
       "      <td>Asia</td>\n",
       "      <td>2012</td>\n",
       "      <td>$379M</td>\n",
       "      <td>K2 Ventures, Matrix Partners China, IDG Capital</td>\n",
       "    </tr>\n",
       "    <tr>\n",
       "      <th>1070</th>\n",
       "      <td>Zhuan Zhuan</td>\n",
       "      <td>$1B</td>\n",
       "      <td>2017-04-18</td>\n",
       "      <td>E-commerce &amp; direct-to-consumer</td>\n",
       "      <td>Beijing</td>\n",
       "      <td>China</td>\n",
       "      <td>Asia</td>\n",
       "      <td>2015</td>\n",
       "      <td>$990M</td>\n",
       "      <td>58.com, Tencent Holdings</td>\n",
       "    </tr>\n",
       "    <tr>\n",
       "      <th>1071</th>\n",
       "      <td>Zihaiguo</td>\n",
       "      <td>$1B</td>\n",
       "      <td>2021-05-06</td>\n",
       "      <td>Consumer &amp; retail</td>\n",
       "      <td>Chongqing</td>\n",
       "      <td>China</td>\n",
       "      <td>Asia</td>\n",
       "      <td>2018</td>\n",
       "      <td>$80M</td>\n",
       "      <td>Xingwang Investment Management, China Capital ...</td>\n",
       "    </tr>\n",
       "    <tr>\n",
       "      <th>1072</th>\n",
       "      <td>Zopa</td>\n",
       "      <td>$1B</td>\n",
       "      <td>2021-10-19</td>\n",
       "      <td>Fintech</td>\n",
       "      <td>London</td>\n",
       "      <td>United Kingdom</td>\n",
       "      <td>Europe</td>\n",
       "      <td>2005</td>\n",
       "      <td>$792M</td>\n",
       "      <td>IAG Capital Partners, Augmentum Fintech, North...</td>\n",
       "    </tr>\n",
       "    <tr>\n",
       "      <th>1073</th>\n",
       "      <td>Zwift</td>\n",
       "      <td>$1B</td>\n",
       "      <td>2020-09-16</td>\n",
       "      <td>E-commerce &amp; direct-to-consumer</td>\n",
       "      <td>Long Beach</td>\n",
       "      <td>United States</td>\n",
       "      <td>North America</td>\n",
       "      <td>2014</td>\n",
       "      <td>$620M</td>\n",
       "      <td>Novator Partners, True, Causeway Media Partners</td>\n",
       "    </tr>\n",
       "  </tbody>\n",
       "</table>\n",
       "<p>1074 rows × 10 columns</p>\n",
       "</div>"
      ],
      "text/plain": [
       "          Company Valuation Date Joined                         Industry  \\\n",
       "0       Bytedance     $180B  2017-04-07          Artificial intelligence   \n",
       "1          SpaceX     $100B  2012-12-01                            Other   \n",
       "2           SHEIN     $100B  2018-07-03  E-commerce & direct-to-consumer   \n",
       "3          Stripe      $95B  2014-01-23                          Fintech   \n",
       "4          Klarna      $46B  2011-12-12                          Fintech   \n",
       "...           ...       ...         ...                              ...   \n",
       "1069     Zhaogang       $1B  2017-06-29  E-commerce & direct-to-consumer   \n",
       "1070  Zhuan Zhuan       $1B  2017-04-18  E-commerce & direct-to-consumer   \n",
       "1071     Zihaiguo       $1B  2021-05-06                Consumer & retail   \n",
       "1072         Zopa       $1B  2021-10-19                          Fintech   \n",
       "1073        Zwift       $1B  2020-09-16  E-commerce & direct-to-consumer   \n",
       "\n",
       "               City         Country      Continent  Year Founded Funding  \\\n",
       "0           Beijing           China           Asia          2012     $8B   \n",
       "1         Hawthorne   United States  North America          2002     $7B   \n",
       "2          Shenzhen           China           Asia          2008     $2B   \n",
       "3     San Francisco   United States  North America          2010     $2B   \n",
       "4         Stockholm          Sweden         Europe          2005     $4B   \n",
       "...             ...             ...            ...           ...     ...   \n",
       "1069       Shanghai           China           Asia          2012   $379M   \n",
       "1070        Beijing           China           Asia          2015   $990M   \n",
       "1071      Chongqing           China           Asia          2018    $80M   \n",
       "1072         London  United Kingdom         Europe          2005   $792M   \n",
       "1073     Long Beach   United States  North America          2014   $620M   \n",
       "\n",
       "                                       Select Investors  \n",
       "0     Sequoia Capital China, SIG Asia Investments, S...  \n",
       "1     Founders Fund, Draper Fisher Jurvetson, Rothen...  \n",
       "2     Tiger Global Management, Sequoia Capital China...  \n",
       "3           Khosla Ventures, LowercaseCapital, capitalG  \n",
       "4     Institutional Venture Partners, Sequoia Capita...  \n",
       "...                                                 ...  \n",
       "1069    K2 Ventures, Matrix Partners China, IDG Capital  \n",
       "1070                           58.com, Tencent Holdings  \n",
       "1071  Xingwang Investment Management, China Capital ...  \n",
       "1072  IAG Capital Partners, Augmentum Fintech, North...  \n",
       "1073    Novator Partners, True, Causeway Media Partners  \n",
       "\n",
       "[1074 rows x 10 columns]"
      ]
     },
     "execution_count": 269,
     "metadata": {},
     "output_type": "execute_result"
    }
   ],
   "source": [
    "#Importing the Dataset from CSV file\n",
    "df = pd.read_csv(r\"C:\\Users\\Windows 11\\Downloads\\Unicorn_Companies.csv\")\n",
    "df"
   ]
  },
  {
   "cell_type": "markdown",
   "id": "1bce2738",
   "metadata": {},
   "source": [
    "## Step 2: Data exploration\n",
    "\n",
    "### Display top 10 rows\n",
    "\n",
    "Display the first 10 rows of the data to understand how the dataset is structured."
   ]
  },
  {
   "cell_type": "code",
   "execution_count": 232,
   "id": "c4f4641c",
   "metadata": {
    "scrolled": false
   },
   "outputs": [
    {
     "data": {
      "text/html": [
       "<div>\n",
       "<style scoped>\n",
       "    .dataframe tbody tr th:only-of-type {\n",
       "        vertical-align: middle;\n",
       "    }\n",
       "\n",
       "    .dataframe tbody tr th {\n",
       "        vertical-align: top;\n",
       "    }\n",
       "\n",
       "    .dataframe thead th {\n",
       "        text-align: right;\n",
       "    }\n",
       "</style>\n",
       "<table border=\"1\" class=\"dataframe\">\n",
       "  <thead>\n",
       "    <tr style=\"text-align: right;\">\n",
       "      <th></th>\n",
       "      <th>Company</th>\n",
       "      <th>Valuation</th>\n",
       "      <th>Date Joined</th>\n",
       "      <th>Industry</th>\n",
       "      <th>City</th>\n",
       "      <th>Country</th>\n",
       "      <th>Continent</th>\n",
       "      <th>Year Founded</th>\n",
       "      <th>Funding</th>\n",
       "      <th>Select Investors</th>\n",
       "    </tr>\n",
       "  </thead>\n",
       "  <tbody>\n",
       "    <tr>\n",
       "      <th>0</th>\n",
       "      <td>Bytedance</td>\n",
       "      <td>$180B</td>\n",
       "      <td>2017-04-07</td>\n",
       "      <td>Artificial intelligence</td>\n",
       "      <td>Beijing</td>\n",
       "      <td>China</td>\n",
       "      <td>Asia</td>\n",
       "      <td>2012</td>\n",
       "      <td>$8B</td>\n",
       "      <td>Sequoia Capital China, SIG Asia Investments, S...</td>\n",
       "    </tr>\n",
       "    <tr>\n",
       "      <th>1</th>\n",
       "      <td>SpaceX</td>\n",
       "      <td>$100B</td>\n",
       "      <td>2012-12-01</td>\n",
       "      <td>Other</td>\n",
       "      <td>Hawthorne</td>\n",
       "      <td>United States</td>\n",
       "      <td>North America</td>\n",
       "      <td>2002</td>\n",
       "      <td>$7B</td>\n",
       "      <td>Founders Fund, Draper Fisher Jurvetson, Rothen...</td>\n",
       "    </tr>\n",
       "    <tr>\n",
       "      <th>2</th>\n",
       "      <td>SHEIN</td>\n",
       "      <td>$100B</td>\n",
       "      <td>2018-07-03</td>\n",
       "      <td>E-commerce &amp; direct-to-consumer</td>\n",
       "      <td>Shenzhen</td>\n",
       "      <td>China</td>\n",
       "      <td>Asia</td>\n",
       "      <td>2008</td>\n",
       "      <td>$2B</td>\n",
       "      <td>Tiger Global Management, Sequoia Capital China...</td>\n",
       "    </tr>\n",
       "    <tr>\n",
       "      <th>3</th>\n",
       "      <td>Stripe</td>\n",
       "      <td>$95B</td>\n",
       "      <td>2014-01-23</td>\n",
       "      <td>Fintech</td>\n",
       "      <td>San Francisco</td>\n",
       "      <td>United States</td>\n",
       "      <td>North America</td>\n",
       "      <td>2010</td>\n",
       "      <td>$2B</td>\n",
       "      <td>Khosla Ventures, LowercaseCapital, capitalG</td>\n",
       "    </tr>\n",
       "    <tr>\n",
       "      <th>4</th>\n",
       "      <td>Klarna</td>\n",
       "      <td>$46B</td>\n",
       "      <td>2011-12-12</td>\n",
       "      <td>Fintech</td>\n",
       "      <td>Stockholm</td>\n",
       "      <td>Sweden</td>\n",
       "      <td>Europe</td>\n",
       "      <td>2005</td>\n",
       "      <td>$4B</td>\n",
       "      <td>Institutional Venture Partners, Sequoia Capita...</td>\n",
       "    </tr>\n",
       "    <tr>\n",
       "      <th>5</th>\n",
       "      <td>Canva</td>\n",
       "      <td>$40B</td>\n",
       "      <td>2018-01-08</td>\n",
       "      <td>Internet software &amp; services</td>\n",
       "      <td>Surry Hills</td>\n",
       "      <td>Australia</td>\n",
       "      <td>Oceania</td>\n",
       "      <td>2012</td>\n",
       "      <td>$572M</td>\n",
       "      <td>Sequoia Capital China, Blackbird Ventures, Mat...</td>\n",
       "    </tr>\n",
       "    <tr>\n",
       "      <th>6</th>\n",
       "      <td>Checkout.com</td>\n",
       "      <td>$40B</td>\n",
       "      <td>2019-05-02</td>\n",
       "      <td>Fintech</td>\n",
       "      <td>London</td>\n",
       "      <td>United Kingdom</td>\n",
       "      <td>Europe</td>\n",
       "      <td>2012</td>\n",
       "      <td>$2B</td>\n",
       "      <td>Tiger Global Management, Insight Partners, DST...</td>\n",
       "    </tr>\n",
       "    <tr>\n",
       "      <th>7</th>\n",
       "      <td>Instacart</td>\n",
       "      <td>$39B</td>\n",
       "      <td>2014-12-30</td>\n",
       "      <td>Supply chain, logistics, &amp; delivery</td>\n",
       "      <td>San Francisco</td>\n",
       "      <td>United States</td>\n",
       "      <td>North America</td>\n",
       "      <td>2012</td>\n",
       "      <td>$3B</td>\n",
       "      <td>Khosla Ventures, Kleiner Perkins Caufield &amp; By...</td>\n",
       "    </tr>\n",
       "    <tr>\n",
       "      <th>8</th>\n",
       "      <td>JUUL Labs</td>\n",
       "      <td>$38B</td>\n",
       "      <td>2017-12-20</td>\n",
       "      <td>Consumer &amp; retail</td>\n",
       "      <td>San Francisco</td>\n",
       "      <td>United States</td>\n",
       "      <td>North America</td>\n",
       "      <td>2015</td>\n",
       "      <td>$14B</td>\n",
       "      <td>Tiger Global Management</td>\n",
       "    </tr>\n",
       "    <tr>\n",
       "      <th>9</th>\n",
       "      <td>Databricks</td>\n",
       "      <td>$38B</td>\n",
       "      <td>2019-02-05</td>\n",
       "      <td>Data management &amp; analytics</td>\n",
       "      <td>San Francisco</td>\n",
       "      <td>United States</td>\n",
       "      <td>North America</td>\n",
       "      <td>2013</td>\n",
       "      <td>$3B</td>\n",
       "      <td>Andreessen Horowitz, New Enterprise Associates...</td>\n",
       "    </tr>\n",
       "  </tbody>\n",
       "</table>\n",
       "</div>"
      ],
      "text/plain": [
       "        Company Valuation Date Joined                             Industry  \\\n",
       "0     Bytedance     $180B  2017-04-07              Artificial intelligence   \n",
       "1        SpaceX     $100B  2012-12-01                                Other   \n",
       "2         SHEIN     $100B  2018-07-03      E-commerce & direct-to-consumer   \n",
       "3        Stripe      $95B  2014-01-23                              Fintech   \n",
       "4        Klarna      $46B  2011-12-12                              Fintech   \n",
       "5         Canva      $40B  2018-01-08         Internet software & services   \n",
       "6  Checkout.com      $40B  2019-05-02                              Fintech   \n",
       "7     Instacart      $39B  2014-12-30  Supply chain, logistics, & delivery   \n",
       "8     JUUL Labs      $38B  2017-12-20                    Consumer & retail   \n",
       "9    Databricks      $38B  2019-02-05          Data management & analytics   \n",
       "\n",
       "            City         Country      Continent  Year Founded Funding  \\\n",
       "0        Beijing           China           Asia          2012     $8B   \n",
       "1      Hawthorne   United States  North America          2002     $7B   \n",
       "2       Shenzhen           China           Asia          2008     $2B   \n",
       "3  San Francisco   United States  North America          2010     $2B   \n",
       "4      Stockholm          Sweden         Europe          2005     $4B   \n",
       "5    Surry Hills       Australia        Oceania          2012   $572M   \n",
       "6         London  United Kingdom         Europe          2012     $2B   \n",
       "7  San Francisco   United States  North America          2012     $3B   \n",
       "8  San Francisco   United States  North America          2015    $14B   \n",
       "9  San Francisco   United States  North America          2013     $3B   \n",
       "\n",
       "                                    Select Investors  \n",
       "0  Sequoia Capital China, SIG Asia Investments, S...  \n",
       "1  Founders Fund, Draper Fisher Jurvetson, Rothen...  \n",
       "2  Tiger Global Management, Sequoia Capital China...  \n",
       "3        Khosla Ventures, LowercaseCapital, capitalG  \n",
       "4  Institutional Venture Partners, Sequoia Capita...  \n",
       "5  Sequoia Capital China, Blackbird Ventures, Mat...  \n",
       "6  Tiger Global Management, Insight Partners, DST...  \n",
       "7  Khosla Ventures, Kleiner Perkins Caufield & By...  \n",
       "8                            Tiger Global Management  \n",
       "9  Andreessen Horowitz, New Enterprise Associates...  "
      ]
     },
     "execution_count": 232,
     "metadata": {},
     "output_type": "execute_result"
    }
   ],
   "source": [
    "# Display the first 10 rows of the data.\n",
    "df.head(10)"
   ]
  },
  {
   "cell_type": "code",
   "execution_count": 226,
   "id": "d7edfcfd",
   "metadata": {},
   "outputs": [
    {
     "data": {
      "text/html": [
       "<div>\n",
       "<style scoped>\n",
       "    .dataframe tbody tr th:only-of-type {\n",
       "        vertical-align: middle;\n",
       "    }\n",
       "\n",
       "    .dataframe tbody tr th {\n",
       "        vertical-align: top;\n",
       "    }\n",
       "\n",
       "    .dataframe thead th {\n",
       "        text-align: right;\n",
       "    }\n",
       "</style>\n",
       "<table border=\"1\" class=\"dataframe\">\n",
       "  <thead>\n",
       "    <tr style=\"text-align: right;\">\n",
       "      <th></th>\n",
       "      <th>Company Name</th>\n",
       "      <th>Valuation</th>\n",
       "      <th>Date</th>\n",
       "      <th>Industry</th>\n",
       "      <th>City</th>\n",
       "      <th>Country</th>\n",
       "      <th>Continent</th>\n",
       "      <th>Year Founded</th>\n",
       "      <th>Funding</th>\n",
       "      <th>Investors</th>\n",
       "      <th>Year Joined</th>\n",
       "      <th>ROI</th>\n",
       "      <th>Time to Unicorn</th>\n",
       "    </tr>\n",
       "  </thead>\n",
       "  <tbody>\n",
       "    <tr>\n",
       "      <th>567</th>\n",
       "      <td>ISN</td>\n",
       "      <td>2</td>\n",
       "      <td>2020-12-17</td>\n",
       "      <td>Supply chain, logistics, &amp; delivery</td>\n",
       "      <td>Dallas</td>\n",
       "      <td>United States</td>\n",
       "      <td>North America</td>\n",
       "      <td>2001</td>\n",
       "      <td>NaN</td>\n",
       "      <td>Blackstone</td>\n",
       "      <td>2020</td>\n",
       "      <td>NaN</td>\n",
       "      <td>19</td>\n",
       "    </tr>\n",
       "    <tr>\n",
       "      <th>639</th>\n",
       "      <td>SITECH DEV</td>\n",
       "      <td>1</td>\n",
       "      <td>2019-05-16</td>\n",
       "      <td>Other</td>\n",
       "      <td>Guiyang</td>\n",
       "      <td>China</td>\n",
       "      <td>Asia</td>\n",
       "      <td>2017</td>\n",
       "      <td>NaN</td>\n",
       "      <td>China Prosperity Capital</td>\n",
       "      <td>2019</td>\n",
       "      <td>NaN</td>\n",
       "      <td>2</td>\n",
       "    </tr>\n",
       "    <tr>\n",
       "      <th>651</th>\n",
       "      <td>Xiaobing</td>\n",
       "      <td>1</td>\n",
       "      <td>2021-07-12</td>\n",
       "      <td>Fintech</td>\n",
       "      <td>Beijing</td>\n",
       "      <td>China</td>\n",
       "      <td>Asia</td>\n",
       "      <td>2020</td>\n",
       "      <td>NaN</td>\n",
       "      <td>NetEase Capital, Northern Light Venture Capita...</td>\n",
       "      <td>2021</td>\n",
       "      <td>NaN</td>\n",
       "      <td>1</td>\n",
       "    </tr>\n",
       "    <tr>\n",
       "      <th>717</th>\n",
       "      <td>Veepee</td>\n",
       "      <td>1</td>\n",
       "      <td>2007-07-02</td>\n",
       "      <td>E-commerce &amp; direct-to-consumer</td>\n",
       "      <td>La Plaine Saint-Denis</td>\n",
       "      <td>France</td>\n",
       "      <td>Europe</td>\n",
       "      <td>2001</td>\n",
       "      <td>NaN</td>\n",
       "      <td>Summit Partners, Qatar Holding</td>\n",
       "      <td>2007</td>\n",
       "      <td>NaN</td>\n",
       "      <td>6</td>\n",
       "    </tr>\n",
       "    <tr>\n",
       "      <th>733</th>\n",
       "      <td>DistroKid</td>\n",
       "      <td>1</td>\n",
       "      <td>2021-08-16</td>\n",
       "      <td>Internet software &amp; services</td>\n",
       "      <td>New York</td>\n",
       "      <td>United States</td>\n",
       "      <td>North America</td>\n",
       "      <td>2013</td>\n",
       "      <td>NaN</td>\n",
       "      <td>Insight Partners, Silversmith Capital Partners...</td>\n",
       "      <td>2021</td>\n",
       "      <td>NaN</td>\n",
       "      <td>8</td>\n",
       "    </tr>\n",
       "    <tr>\n",
       "      <th>866</th>\n",
       "      <td>Assembly</td>\n",
       "      <td>1</td>\n",
       "      <td>2021-09-21</td>\n",
       "      <td>Internet software &amp; services</td>\n",
       "      <td>Culver City</td>\n",
       "      <td>United States</td>\n",
       "      <td>North America</td>\n",
       "      <td>2019</td>\n",
       "      <td>NaN</td>\n",
       "      <td>Advent International, PSG, Providence Equity P...</td>\n",
       "      <td>2021</td>\n",
       "      <td>NaN</td>\n",
       "      <td>2</td>\n",
       "    </tr>\n",
       "    <tr>\n",
       "      <th>890</th>\n",
       "      <td>Carson Group</td>\n",
       "      <td>1</td>\n",
       "      <td>2021-07-14</td>\n",
       "      <td>Fintech</td>\n",
       "      <td>Lincoln</td>\n",
       "      <td>United States</td>\n",
       "      <td>North America</td>\n",
       "      <td>2012</td>\n",
       "      <td>NaN</td>\n",
       "      <td>Bain Capital</td>\n",
       "      <td>2021</td>\n",
       "      <td>NaN</td>\n",
       "      <td>9</td>\n",
       "    </tr>\n",
       "    <tr>\n",
       "      <th>945</th>\n",
       "      <td>Iodine Software</td>\n",
       "      <td>1</td>\n",
       "      <td>2021-12-01</td>\n",
       "      <td>Data management &amp; analytics</td>\n",
       "      <td>Austin</td>\n",
       "      <td>United States</td>\n",
       "      <td>North America</td>\n",
       "      <td>2010</td>\n",
       "      <td>NaN</td>\n",
       "      <td>Advent International, Bain Capital Ventures, S...</td>\n",
       "      <td>2021</td>\n",
       "      <td>NaN</td>\n",
       "      <td>11</td>\n",
       "    </tr>\n",
       "    <tr>\n",
       "      <th>947</th>\n",
       "      <td>Kendra Scott</td>\n",
       "      <td>1</td>\n",
       "      <td>2016-12-21</td>\n",
       "      <td>Consumer &amp; retail</td>\n",
       "      <td>Austin</td>\n",
       "      <td>United States</td>\n",
       "      <td>North America</td>\n",
       "      <td>2002</td>\n",
       "      <td>NaN</td>\n",
       "      <td>Berkshire Partners, Norwest Venture Partners</td>\n",
       "      <td>2016</td>\n",
       "      <td>NaN</td>\n",
       "      <td>14</td>\n",
       "    </tr>\n",
       "    <tr>\n",
       "      <th>1002</th>\n",
       "      <td>Poizon</td>\n",
       "      <td>1</td>\n",
       "      <td>2019-04-29</td>\n",
       "      <td>Mobile &amp; telecommunications</td>\n",
       "      <td>Shanghai</td>\n",
       "      <td>China</td>\n",
       "      <td>Asia</td>\n",
       "      <td>2015</td>\n",
       "      <td>NaN</td>\n",
       "      <td>DST Global, Sequoia Capital China, Gaorong Cap...</td>\n",
       "      <td>2019</td>\n",
       "      <td>NaN</td>\n",
       "      <td>4</td>\n",
       "    </tr>\n",
       "  </tbody>\n",
       "</table>\n",
       "</div>"
      ],
      "text/plain": [
       "         Company Name  Valuation       Date  \\\n",
       "567               ISN          2 2020-12-17   \n",
       "639        SITECH DEV          1 2019-05-16   \n",
       "651          Xiaobing          1 2021-07-12   \n",
       "717            Veepee          1 2007-07-02   \n",
       "733         DistroKid          1 2021-08-16   \n",
       "866          Assembly          1 2021-09-21   \n",
       "890      Carson Group          1 2021-07-14   \n",
       "945   Iodine Software          1 2021-12-01   \n",
       "947      Kendra Scott          1 2016-12-21   \n",
       "1002           Poizon          1 2019-04-29   \n",
       "\n",
       "                                 Industry                   City  \\\n",
       "567   Supply chain, logistics, & delivery                 Dallas   \n",
       "639                                 Other                Guiyang   \n",
       "651                               Fintech                Beijing   \n",
       "717       E-commerce & direct-to-consumer  La Plaine Saint-Denis   \n",
       "733          Internet software & services               New York   \n",
       "866          Internet software & services            Culver City   \n",
       "890                               Fintech                Lincoln   \n",
       "945           Data management & analytics                 Austin   \n",
       "947                     Consumer & retail                 Austin   \n",
       "1002          Mobile & telecommunications               Shanghai   \n",
       "\n",
       "            Country      Continent  Year Founded  Funding  \\\n",
       "567   United States  North America          2001      NaN   \n",
       "639           China           Asia          2017      NaN   \n",
       "651           China           Asia          2020      NaN   \n",
       "717          France         Europe          2001      NaN   \n",
       "733   United States  North America          2013      NaN   \n",
       "866   United States  North America          2019      NaN   \n",
       "890   United States  North America          2012      NaN   \n",
       "945   United States  North America          2010      NaN   \n",
       "947   United States  North America          2002      NaN   \n",
       "1002          China           Asia          2015      NaN   \n",
       "\n",
       "                                              Investors  Year Joined  ROI  \\\n",
       "567                                          Blackstone         2020  NaN   \n",
       "639                            China Prosperity Capital         2019  NaN   \n",
       "651   NetEase Capital, Northern Light Venture Capita...         2021  NaN   \n",
       "717                      Summit Partners, Qatar Holding         2007  NaN   \n",
       "733   Insight Partners, Silversmith Capital Partners...         2021  NaN   \n",
       "866   Advent International, PSG, Providence Equity P...         2021  NaN   \n",
       "890                                        Bain Capital         2021  NaN   \n",
       "945   Advent International, Bain Capital Ventures, S...         2021  NaN   \n",
       "947        Berkshire Partners, Norwest Venture Partners         2016  NaN   \n",
       "1002  DST Global, Sequoia Capital China, Gaorong Cap...         2019  NaN   \n",
       "\n",
       "      Time to Unicorn  \n",
       "567                19  \n",
       "639                 2  \n",
       "651                 1  \n",
       "717                 6  \n",
       "733                 8  \n",
       "866                 2  \n",
       "890                 9  \n",
       "945                11  \n",
       "947                14  \n",
       "1002                4  "
      ]
     },
     "execution_count": 226,
     "metadata": {},
     "output_type": "execute_result"
    }
   ],
   "source": [
    "# Display the last 10 rows of the data\n",
    "df.tail(10)"
   ]
  },
  {
   "cell_type": "markdown",
   "id": "fe5f39ab",
   "metadata": {},
   "source": [
    "### Statistical properties of the dataset"
   ]
  },
  {
   "cell_type": "code",
   "execution_count": 4,
   "id": "b354182c",
   "metadata": {},
   "outputs": [
    {
     "data": {
      "text/plain": [
       "(1074, 10)"
      ]
     },
     "execution_count": 4,
     "metadata": {},
     "output_type": "execute_result"
    }
   ],
   "source": [
    "# Get the shape of the dataset\n",
    "df.shape"
   ]
  },
  {
   "cell_type": "code",
   "execution_count": 167,
   "id": "a5ca05a6",
   "metadata": {},
   "outputs": [
    {
     "name": "stdout",
     "output_type": "stream",
     "text": [
      "<class 'pandas.core.frame.DataFrame'>\n",
      "RangeIndex: 1074 entries, 0 to 1073\n",
      "Data columns (total 10 columns):\n",
      " #   Column            Non-Null Count  Dtype \n",
      "---  ------            --------------  ----- \n",
      " 0   Company           1074 non-null   object\n",
      " 1   Valuation         1074 non-null   object\n",
      " 2   Date Joined       1074 non-null   object\n",
      " 3   Industry          1074 non-null   object\n",
      " 4   City              1058 non-null   object\n",
      " 5   Country           1074 non-null   object\n",
      " 6   Continent         1074 non-null   object\n",
      " 7   Year Founded      1074 non-null   int64 \n",
      " 8   Funding           1074 non-null   object\n",
      " 9   Select Investors  1073 non-null   object\n",
      "dtypes: int64(1), object(9)\n",
      "memory usage: 84.0+ KB\n"
     ]
    }
   ],
   "source": [
    "# Get the data types and number of non-null values in the dataset.\n",
    "df.info()"
   ]
  },
  {
   "cell_type": "markdown",
   "id": "385345af",
   "metadata": {},
   "source": [
    "**Some observations:**\n",
    "\n",
    "Except for the Year Funded column, which is int64, the data type for all other columns is object.\n",
    "Columns City and Select Investors contain fewer non-null values than the total number of rows in the dataset, which indicates that they are missing values."
   ]
  },
  {
   "cell_type": "code",
   "execution_count": 6,
   "id": "9103c2f7",
   "metadata": {},
   "outputs": [
    {
     "data": {
      "text/html": [
       "<div>\n",
       "<style scoped>\n",
       "    .dataframe tbody tr th:only-of-type {\n",
       "        vertical-align: middle;\n",
       "    }\n",
       "\n",
       "    .dataframe tbody tr th {\n",
       "        vertical-align: top;\n",
       "    }\n",
       "\n",
       "    .dataframe thead th {\n",
       "        text-align: right;\n",
       "    }\n",
       "</style>\n",
       "<table border=\"1\" class=\"dataframe\">\n",
       "  <thead>\n",
       "    <tr style=\"text-align: right;\">\n",
       "      <th></th>\n",
       "      <th>Year Founded</th>\n",
       "    </tr>\n",
       "  </thead>\n",
       "  <tbody>\n",
       "    <tr>\n",
       "      <th>count</th>\n",
       "      <td>1074.000000</td>\n",
       "    </tr>\n",
       "    <tr>\n",
       "      <th>mean</th>\n",
       "      <td>2012.895717</td>\n",
       "    </tr>\n",
       "    <tr>\n",
       "      <th>std</th>\n",
       "      <td>5.698573</td>\n",
       "    </tr>\n",
       "    <tr>\n",
       "      <th>min</th>\n",
       "      <td>1919.000000</td>\n",
       "    </tr>\n",
       "    <tr>\n",
       "      <th>25%</th>\n",
       "      <td>2011.000000</td>\n",
       "    </tr>\n",
       "    <tr>\n",
       "      <th>50%</th>\n",
       "      <td>2014.000000</td>\n",
       "    </tr>\n",
       "    <tr>\n",
       "      <th>75%</th>\n",
       "      <td>2016.000000</td>\n",
       "    </tr>\n",
       "    <tr>\n",
       "      <th>max</th>\n",
       "      <td>2021.000000</td>\n",
       "    </tr>\n",
       "  </tbody>\n",
       "</table>\n",
       "</div>"
      ],
      "text/plain": [
       "       Year Founded\n",
       "count   1074.000000\n",
       "mean    2012.895717\n",
       "std        5.698573\n",
       "min     1919.000000\n",
       "25%     2011.000000\n",
       "50%     2014.000000\n",
       "75%     2016.000000\n",
       "max     2021.000000"
      ]
     },
     "execution_count": 6,
     "metadata": {},
     "output_type": "execute_result"
    }
   ],
   "source": [
    "# Get descriptive statistics such as mean, standard deviation, and range of the numerical columns in the dataset.\n",
    "df.describe()"
   ]
  },
  {
   "cell_type": "markdown",
   "id": "54b8ab3f",
   "metadata": {},
   "source": [
    "**Some observations:**\n",
    "- The oldest company in the list was founded in 1919. This is the minimum value in `Year Funded`. "
   ]
  },
  {
   "cell_type": "markdown",
   "id": "fcea1b06",
   "metadata": {},
   "source": [
    "## STEP 3: Data preprocessing\n",
    "\n",
    "**In order to answer the questions, some data preprocessing steps are required. The first step is to add a new column to the dataframe containing just the year each company became a unicorn company.**"
   ]
  },
  {
   "cell_type": "code",
   "execution_count": 270,
   "id": "a0e25ba5",
   "metadata": {},
   "outputs": [],
   "source": [
    "# Create a new column `Year Joined`\n",
    "df[\"Year Joined\"] = pd.to_datetime(df[\"Date Joined\"]).dt.year"
   ]
  },
  {
   "cell_type": "markdown",
   "id": "5b44b869",
   "metadata": {},
   "source": [
    "For each country, I want to calculate the sum of all valuations of companies from that country. However, in order to do this, I'll need to first prepare the data. Currently, the data in the Valuation column is a string that starts with a $ and ends with a B. Because this column is not in a numeric datatype, pandas cannot perform mathematical operations on its values. The data in this column needs to be converted to a numeric datatype.\n",
    "\n",
    "I define a function called str_to_num() to do this."
   ]
  },
  {
   "cell_type": "code",
   "execution_count": 271,
   "id": "10c3c0c9",
   "metadata": {},
   "outputs": [],
   "source": [
    "# Define the `str_to_num()` function\n",
    "\n",
    "def str_to_num(x):\n",
    "    '''\n",
    "    Input: a string in the format of the values contained in the Valuation column\n",
    "    Output: an int of the number represented by the input string\n",
    "    '''\n",
    "    x = x.strip('$B')\n",
    "    x = int(x)\n",
    "    \n",
    "    return x"
   ]
  },
  {
   "cell_type": "code",
   "execution_count": 235,
   "id": "eccab3ef",
   "metadata": {},
   "outputs": [
    {
     "data": {
      "text/plain": [
       "Company              0\n",
       "Valuation            0\n",
       "Date Joined          0\n",
       "Industry             0\n",
       "City                16\n",
       "Country              0\n",
       "Continent            0\n",
       "Year Founded         0\n",
       "Funding              0\n",
       "Select Investors     1\n",
       "Year Joined          0\n",
       "dtype: int64"
      ]
     },
     "execution_count": 235,
     "metadata": {},
     "output_type": "execute_result"
    }
   ],
   "source": [
    "# Find the number of missing values in each column in this dataset.\n",
    "df.isna().sum()"
   ]
  },
  {
   "cell_type": "markdown",
   "id": "41907b72",
   "metadata": {},
   "source": [
    "|**Some observations:**\n",
    "- There is a single missing value in the `Select Investors` column and 16 missing cities. There are no missing values in other columns."
   ]
  },
  {
   "cell_type": "markdown",
   "id": "d75324b2",
   "metadata": {},
   "source": [
    "**Review rows with missing values**\n",
    "\n",
    "**Before dealing with missing values, it's important to understand the nature of the missing value that is being filled. Display all rows with missing values from df.**"
   ]
  },
  {
   "cell_type": "code",
   "execution_count": 272,
   "id": "b3e16281",
   "metadata": {},
   "outputs": [
    {
     "data": {
      "text/html": [
       "<div>\n",
       "<style scoped>\n",
       "    .dataframe tbody tr th:only-of-type {\n",
       "        vertical-align: middle;\n",
       "    }\n",
       "\n",
       "    .dataframe tbody tr th {\n",
       "        vertical-align: top;\n",
       "    }\n",
       "\n",
       "    .dataframe thead th {\n",
       "        text-align: right;\n",
       "    }\n",
       "</style>\n",
       "<table border=\"1\" class=\"dataframe\">\n",
       "  <thead>\n",
       "    <tr style=\"text-align: right;\">\n",
       "      <th></th>\n",
       "      <th>Company</th>\n",
       "      <th>Valuation</th>\n",
       "      <th>Date Joined</th>\n",
       "      <th>Industry</th>\n",
       "      <th>City</th>\n",
       "      <th>Country</th>\n",
       "      <th>Continent</th>\n",
       "      <th>Year Founded</th>\n",
       "      <th>Funding</th>\n",
       "      <th>Select Investors</th>\n",
       "      <th>Year Joined</th>\n",
       "    </tr>\n",
       "  </thead>\n",
       "  <tbody>\n",
       "    <tr>\n",
       "      <th>1069</th>\n",
       "      <td>False</td>\n",
       "      <td>False</td>\n",
       "      <td>False</td>\n",
       "      <td>False</td>\n",
       "      <td>False</td>\n",
       "      <td>False</td>\n",
       "      <td>False</td>\n",
       "      <td>False</td>\n",
       "      <td>False</td>\n",
       "      <td>False</td>\n",
       "      <td>False</td>\n",
       "    </tr>\n",
       "    <tr>\n",
       "      <th>1070</th>\n",
       "      <td>False</td>\n",
       "      <td>False</td>\n",
       "      <td>False</td>\n",
       "      <td>False</td>\n",
       "      <td>False</td>\n",
       "      <td>False</td>\n",
       "      <td>False</td>\n",
       "      <td>False</td>\n",
       "      <td>False</td>\n",
       "      <td>False</td>\n",
       "      <td>False</td>\n",
       "    </tr>\n",
       "    <tr>\n",
       "      <th>1071</th>\n",
       "      <td>False</td>\n",
       "      <td>False</td>\n",
       "      <td>False</td>\n",
       "      <td>False</td>\n",
       "      <td>False</td>\n",
       "      <td>False</td>\n",
       "      <td>False</td>\n",
       "      <td>False</td>\n",
       "      <td>False</td>\n",
       "      <td>False</td>\n",
       "      <td>False</td>\n",
       "    </tr>\n",
       "    <tr>\n",
       "      <th>1072</th>\n",
       "      <td>False</td>\n",
       "      <td>False</td>\n",
       "      <td>False</td>\n",
       "      <td>False</td>\n",
       "      <td>False</td>\n",
       "      <td>False</td>\n",
       "      <td>False</td>\n",
       "      <td>False</td>\n",
       "      <td>False</td>\n",
       "      <td>False</td>\n",
       "      <td>False</td>\n",
       "    </tr>\n",
       "    <tr>\n",
       "      <th>1073</th>\n",
       "      <td>False</td>\n",
       "      <td>False</td>\n",
       "      <td>False</td>\n",
       "      <td>False</td>\n",
       "      <td>False</td>\n",
       "      <td>False</td>\n",
       "      <td>False</td>\n",
       "      <td>False</td>\n",
       "      <td>False</td>\n",
       "      <td>False</td>\n",
       "      <td>False</td>\n",
       "    </tr>\n",
       "  </tbody>\n",
       "</table>\n",
       "</div>"
      ],
      "text/plain": [
       "      Company  Valuation  Date Joined  Industry   City  Country  Continent  \\\n",
       "1069    False      False        False     False  False    False      False   \n",
       "1070    False      False        False     False  False    False      False   \n",
       "1071    False      False        False     False  False    False      False   \n",
       "1072    False      False        False     False  False    False      False   \n",
       "1073    False      False        False     False  False    False      False   \n",
       "\n",
       "      Year Founded  Funding  Select Investors  Year Joined  \n",
       "1069         False    False             False        False  \n",
       "1070         False    False             False        False  \n",
       "1071         False    False             False        False  \n",
       "1072         False    False             False        False  \n",
       "1073         False    False             False        False  "
      ]
     },
     "execution_count": 272,
     "metadata": {},
     "output_type": "execute_result"
    }
   ],
   "source": [
    "# 1. Apply the `isna()` method to the `df_companies` dataframe and assign back to `mask`\n",
    "mask = df.isna()\n",
    "mask.tail()"
   ]
  },
  {
   "cell_type": "code",
   "execution_count": 273,
   "id": "762e75dd",
   "metadata": {},
   "outputs": [
    {
     "data": {
      "text/plain": [
       "0    False\n",
       "1    False\n",
       "2    False\n",
       "3    False\n",
       "4    False\n",
       "dtype: bool"
      ]
     },
     "execution_count": 273,
     "metadata": {},
     "output_type": "execute_result"
    }
   ],
   "source": [
    "# 2. Apply the `any()` method to `mask` and assign the results back to `mask`\n",
    "mask = mask.any(axis=1)\n",
    "mask.head()"
   ]
  },
  {
   "cell_type": "code",
   "execution_count": 88,
   "id": "6d79980f",
   "metadata": {},
   "outputs": [
    {
     "data": {
      "text/html": [
       "<div>\n",
       "<style scoped>\n",
       "    .dataframe tbody tr th:only-of-type {\n",
       "        vertical-align: middle;\n",
       "    }\n",
       "\n",
       "    .dataframe tbody tr th {\n",
       "        vertical-align: top;\n",
       "    }\n",
       "\n",
       "    .dataframe thead th {\n",
       "        text-align: right;\n",
       "    }\n",
       "</style>\n",
       "<table border=\"1\" class=\"dataframe\">\n",
       "  <thead>\n",
       "    <tr style=\"text-align: right;\">\n",
       "      <th></th>\n",
       "      <th>Company</th>\n",
       "      <th>Valuation</th>\n",
       "      <th>Date Joined</th>\n",
       "      <th>Industry</th>\n",
       "      <th>City</th>\n",
       "      <th>Country</th>\n",
       "      <th>Continent</th>\n",
       "      <th>Year Founded</th>\n",
       "      <th>Funding</th>\n",
       "      <th>Select Investors</th>\n",
       "    </tr>\n",
       "  </thead>\n",
       "  <tbody>\n",
       "    <tr>\n",
       "      <th>12</th>\n",
       "      <td>FTX</td>\n",
       "      <td>$32B</td>\n",
       "      <td>2021-07-20</td>\n",
       "      <td>Fintech</td>\n",
       "      <td>NaN</td>\n",
       "      <td>Bahamas</td>\n",
       "      <td>North America</td>\n",
       "      <td>2018</td>\n",
       "      <td>$2B</td>\n",
       "      <td>Sequoia Capital, Thoma Bravo, Softbank</td>\n",
       "    </tr>\n",
       "    <tr>\n",
       "      <th>170</th>\n",
       "      <td>HyalRoute</td>\n",
       "      <td>$4B</td>\n",
       "      <td>2020-05-26</td>\n",
       "      <td>Mobile &amp; telecommunications</td>\n",
       "      <td>NaN</td>\n",
       "      <td>Singapore</td>\n",
       "      <td>Asia</td>\n",
       "      <td>2015</td>\n",
       "      <td>$263M</td>\n",
       "      <td>Kuang-Chi</td>\n",
       "    </tr>\n",
       "    <tr>\n",
       "      <th>242</th>\n",
       "      <td>Moglix</td>\n",
       "      <td>$3B</td>\n",
       "      <td>2021-05-17</td>\n",
       "      <td>E-commerce &amp; direct-to-consumer</td>\n",
       "      <td>NaN</td>\n",
       "      <td>Singapore</td>\n",
       "      <td>Asia</td>\n",
       "      <td>2015</td>\n",
       "      <td>$471M</td>\n",
       "      <td>Jungle Ventures, Accel, Venture Highway</td>\n",
       "    </tr>\n",
       "    <tr>\n",
       "      <th>251</th>\n",
       "      <td>Trax</td>\n",
       "      <td>$3B</td>\n",
       "      <td>2019-07-22</td>\n",
       "      <td>Artificial intelligence</td>\n",
       "      <td>NaN</td>\n",
       "      <td>Singapore</td>\n",
       "      <td>Asia</td>\n",
       "      <td>2010</td>\n",
       "      <td>$1B</td>\n",
       "      <td>Hopu Investment Management, Boyu Capital, DC T...</td>\n",
       "    </tr>\n",
       "    <tr>\n",
       "      <th>325</th>\n",
       "      <td>Amber Group</td>\n",
       "      <td>$3B</td>\n",
       "      <td>2021-06-21</td>\n",
       "      <td>Fintech</td>\n",
       "      <td>NaN</td>\n",
       "      <td>Hong Kong</td>\n",
       "      <td>Asia</td>\n",
       "      <td>2015</td>\n",
       "      <td>$328M</td>\n",
       "      <td>Tiger Global Management, Tiger Brokers, DCM Ve...</td>\n",
       "    </tr>\n",
       "    <tr>\n",
       "      <th>382</th>\n",
       "      <td>Ninja Van</td>\n",
       "      <td>$2B</td>\n",
       "      <td>2021-09-27</td>\n",
       "      <td>Supply chain, logistics, &amp; delivery</td>\n",
       "      <td>NaN</td>\n",
       "      <td>Singapore</td>\n",
       "      <td>Asia</td>\n",
       "      <td>2014</td>\n",
       "      <td>$975M</td>\n",
       "      <td>B Capital Group, Monk's Hill Ventures, Dynamic...</td>\n",
       "    </tr>\n",
       "    <tr>\n",
       "      <th>541</th>\n",
       "      <td>Advance Intelligence Group</td>\n",
       "      <td>$2B</td>\n",
       "      <td>2021-09-23</td>\n",
       "      <td>Artificial intelligence</td>\n",
       "      <td>NaN</td>\n",
       "      <td>Singapore</td>\n",
       "      <td>Asia</td>\n",
       "      <td>2016</td>\n",
       "      <td>$536M</td>\n",
       "      <td>Vision Plus Capital, GSR Ventures, ZhenFund</td>\n",
       "    </tr>\n",
       "    <tr>\n",
       "      <th>629</th>\n",
       "      <td>LinkSure Network</td>\n",
       "      <td>$1B</td>\n",
       "      <td>2015-01-01</td>\n",
       "      <td>Mobile &amp; telecommunications</td>\n",
       "      <td>Shanghai</td>\n",
       "      <td>China</td>\n",
       "      <td>Asia</td>\n",
       "      <td>2013</td>\n",
       "      <td>$52M</td>\n",
       "      <td>NaN</td>\n",
       "    </tr>\n",
       "    <tr>\n",
       "      <th>811</th>\n",
       "      <td>Carousell</td>\n",
       "      <td>$1B</td>\n",
       "      <td>2021-09-15</td>\n",
       "      <td>E-commerce &amp; direct-to-consumer</td>\n",
       "      <td>NaN</td>\n",
       "      <td>Singapore</td>\n",
       "      <td>Asia</td>\n",
       "      <td>2012</td>\n",
       "      <td>$288M</td>\n",
       "      <td>500 Global, Rakuten Ventures, Golden Gate Vent...</td>\n",
       "    </tr>\n",
       "    <tr>\n",
       "      <th>848</th>\n",
       "      <td>Matrixport</td>\n",
       "      <td>$1B</td>\n",
       "      <td>2021-06-01</td>\n",
       "      <td>Fintech</td>\n",
       "      <td>NaN</td>\n",
       "      <td>Singapore</td>\n",
       "      <td>Asia</td>\n",
       "      <td>2019</td>\n",
       "      <td>$100M</td>\n",
       "      <td>Dragonfly Captial, Qiming Venture Partners, DS...</td>\n",
       "    </tr>\n",
       "    <tr>\n",
       "      <th>880</th>\n",
       "      <td>bolttech</td>\n",
       "      <td>$1B</td>\n",
       "      <td>2021-07-01</td>\n",
       "      <td>Fintech</td>\n",
       "      <td>NaN</td>\n",
       "      <td>Singapore</td>\n",
       "      <td>Asia</td>\n",
       "      <td>2018</td>\n",
       "      <td>$210M</td>\n",
       "      <td>Mundi Ventures, Doqling Capital Partners, Acti...</td>\n",
       "    </tr>\n",
       "    <tr>\n",
       "      <th>889</th>\n",
       "      <td>Carro</td>\n",
       "      <td>$1B</td>\n",
       "      <td>2021-06-14</td>\n",
       "      <td>E-commerce &amp; direct-to-consumer</td>\n",
       "      <td>NaN</td>\n",
       "      <td>Singapore</td>\n",
       "      <td>Asia</td>\n",
       "      <td>2015</td>\n",
       "      <td>$595M</td>\n",
       "      <td>SingTel Innov8, Alpha JWC Ventures, Golden Gat...</td>\n",
       "    </tr>\n",
       "    <tr>\n",
       "      <th>893</th>\n",
       "      <td>Cider</td>\n",
       "      <td>$1B</td>\n",
       "      <td>2021-09-02</td>\n",
       "      <td>E-commerce &amp; direct-to-consumer</td>\n",
       "      <td>NaN</td>\n",
       "      <td>Hong Kong</td>\n",
       "      <td>Asia</td>\n",
       "      <td>2020</td>\n",
       "      <td>$140M</td>\n",
       "      <td>Andreessen Horowitz, DST Global, IDG Capital</td>\n",
       "    </tr>\n",
       "    <tr>\n",
       "      <th>980</th>\n",
       "      <td>NIUM</td>\n",
       "      <td>$1B</td>\n",
       "      <td>2021-07-13</td>\n",
       "      <td>Fintech</td>\n",
       "      <td>NaN</td>\n",
       "      <td>Singapore</td>\n",
       "      <td>Asia</td>\n",
       "      <td>2014</td>\n",
       "      <td>$285M</td>\n",
       "      <td>Vertex Ventures SE Asia, Global Founders Capit...</td>\n",
       "    </tr>\n",
       "    <tr>\n",
       "      <th>986</th>\n",
       "      <td>ONE</td>\n",
       "      <td>$1B</td>\n",
       "      <td>2021-12-08</td>\n",
       "      <td>Internet software &amp; services</td>\n",
       "      <td>NaN</td>\n",
       "      <td>Singapore</td>\n",
       "      <td>Asia</td>\n",
       "      <td>2011</td>\n",
       "      <td>$515M</td>\n",
       "      <td>Temasek, Guggenheim Investments, Qatar Investm...</td>\n",
       "    </tr>\n",
       "    <tr>\n",
       "      <th>994</th>\n",
       "      <td>PatSnap</td>\n",
       "      <td>$1B</td>\n",
       "      <td>2021-03-16</td>\n",
       "      <td>Internet software &amp; services</td>\n",
       "      <td>NaN</td>\n",
       "      <td>Singapore</td>\n",
       "      <td>Asia</td>\n",
       "      <td>2007</td>\n",
       "      <td>$352M</td>\n",
       "      <td>Sequoia Capital China, Shunwei Capital Partner...</td>\n",
       "    </tr>\n",
       "    <tr>\n",
       "      <th>1061</th>\n",
       "      <td>WeLab</td>\n",
       "      <td>$1B</td>\n",
       "      <td>2017-11-08</td>\n",
       "      <td>Fintech</td>\n",
       "      <td>NaN</td>\n",
       "      <td>Hong Kong</td>\n",
       "      <td>Asia</td>\n",
       "      <td>2013</td>\n",
       "      <td>$871M</td>\n",
       "      <td>Sequoia Capital China, ING, Alibaba Entreprene...</td>\n",
       "    </tr>\n",
       "  </tbody>\n",
       "</table>\n",
       "</div>"
      ],
      "text/plain": [
       "                         Company Valuation Date Joined  \\\n",
       "12                           FTX      $32B  2021-07-20   \n",
       "170                    HyalRoute       $4B  2020-05-26   \n",
       "242                       Moglix       $3B  2021-05-17   \n",
       "251                         Trax       $3B  2019-07-22   \n",
       "325                  Amber Group       $3B  2021-06-21   \n",
       "382                    Ninja Van       $2B  2021-09-27   \n",
       "541   Advance Intelligence Group       $2B  2021-09-23   \n",
       "629             LinkSure Network       $1B  2015-01-01   \n",
       "811                    Carousell       $1B  2021-09-15   \n",
       "848                   Matrixport       $1B  2021-06-01   \n",
       "880                     bolttech       $1B  2021-07-01   \n",
       "889                        Carro       $1B  2021-06-14   \n",
       "893                        Cider       $1B  2021-09-02   \n",
       "980                         NIUM       $1B  2021-07-13   \n",
       "986                          ONE       $1B  2021-12-08   \n",
       "994                      PatSnap       $1B  2021-03-16   \n",
       "1061                       WeLab       $1B  2017-11-08   \n",
       "\n",
       "                                 Industry      City    Country      Continent  \\\n",
       "12                                Fintech       NaN    Bahamas  North America   \n",
       "170           Mobile & telecommunications       NaN  Singapore           Asia   \n",
       "242       E-commerce & direct-to-consumer       NaN  Singapore           Asia   \n",
       "251               Artificial intelligence       NaN  Singapore           Asia   \n",
       "325                               Fintech       NaN  Hong Kong           Asia   \n",
       "382   Supply chain, logistics, & delivery       NaN  Singapore           Asia   \n",
       "541               Artificial intelligence       NaN  Singapore           Asia   \n",
       "629           Mobile & telecommunications  Shanghai      China           Asia   \n",
       "811       E-commerce & direct-to-consumer       NaN  Singapore           Asia   \n",
       "848                               Fintech       NaN  Singapore           Asia   \n",
       "880                               Fintech       NaN  Singapore           Asia   \n",
       "889       E-commerce & direct-to-consumer       NaN  Singapore           Asia   \n",
       "893       E-commerce & direct-to-consumer       NaN  Hong Kong           Asia   \n",
       "980                               Fintech       NaN  Singapore           Asia   \n",
       "986          Internet software & services       NaN  Singapore           Asia   \n",
       "994          Internet software & services       NaN  Singapore           Asia   \n",
       "1061                              Fintech       NaN  Hong Kong           Asia   \n",
       "\n",
       "      Year Founded Funding                                   Select Investors  \n",
       "12            2018     $2B             Sequoia Capital, Thoma Bravo, Softbank  \n",
       "170           2015   $263M                                          Kuang-Chi  \n",
       "242           2015   $471M            Jungle Ventures, Accel, Venture Highway  \n",
       "251           2010     $1B  Hopu Investment Management, Boyu Capital, DC T...  \n",
       "325           2015   $328M  Tiger Global Management, Tiger Brokers, DCM Ve...  \n",
       "382           2014   $975M  B Capital Group, Monk's Hill Ventures, Dynamic...  \n",
       "541           2016   $536M        Vision Plus Capital, GSR Ventures, ZhenFund  \n",
       "629           2013    $52M                                                NaN  \n",
       "811           2012   $288M  500 Global, Rakuten Ventures, Golden Gate Vent...  \n",
       "848           2019   $100M  Dragonfly Captial, Qiming Venture Partners, DS...  \n",
       "880           2018   $210M  Mundi Ventures, Doqling Capital Partners, Acti...  \n",
       "889           2015   $595M  SingTel Innov8, Alpha JWC Ventures, Golden Gat...  \n",
       "893           2020   $140M       Andreessen Horowitz, DST Global, IDG Capital  \n",
       "980           2014   $285M  Vertex Ventures SE Asia, Global Founders Capit...  \n",
       "986           2011   $515M  Temasek, Guggenheim Investments, Qatar Investm...  \n",
       "994           2007   $352M  Sequoia Capital China, Shunwei Capital Partner...  \n",
       "1061          2013   $871M  Sequoia Capital China, ING, Alibaba Entreprene...  "
      ]
     },
     "execution_count": 88,
     "metadata": {},
     "output_type": "execute_result"
    }
   ],
   "source": [
    "# 3. Apply `mask` as a Boolean mask to `df_companies` and assign results to `df_missing_rows`\n",
    "df_missing_rows = df[mask]\n",
    "df_missing_rows"
   ]
  },
  {
   "cell_type": "markdown",
   "id": "c0813536",
   "metadata": {},
   "source": [
    "**Some observations:**\n",
    "\n",
    "Twelve of the 17 rows with missing values are for companies from Singapore.\n",
    "Missing values can take different forms and are usually context-specific. Not every missing value is labeled as na or None, or Null."
   ]
  },
  {
   "cell_type": "markdown",
   "id": "251bb364",
   "metadata": {},
   "source": [
    "**Step 3: Model building**\n",
    "\n",
    "Two ways to address missing values\n",
    "There are several ways to address missing values, which is critical in EDA. The two primary methods are removing them and imputing other values in their place. Choosing the proper method depends on the business problem and the value the solution will add or take away from the dataset.\n",
    "\n",
    "Here, I will try both."
   ]
  },
  {
   "cell_type": "markdown",
   "id": "d7bc24db",
   "metadata": {},
   "source": [
    "**Method 1:** \n",
    "    \n",
    "Remove missing values\n",
    "To compare the effect of different actions, first store the original number of values in a variable. Create a variable called count_total that is an integer representing the total number of values in df."
   ]
  },
  {
   "cell_type": "code",
   "execution_count": 238,
   "id": "9a7d941d",
   "metadata": {},
   "outputs": [
    {
     "name": "stdout",
     "output_type": "stream",
     "text": [
      "Percentage removed, rows: 0.016\n",
      "Percentage removed, columns: 0.182\n"
     ]
    }
   ],
   "source": [
    "# Store the total number of values in a variable called `count_total`\n",
    "count_total = df.size\n",
    "\n",
    "# Drop the rows containing missing values, determine number of remaining values\n",
    "count_dropna_rows = df.dropna().size\n",
    "\n",
    "# Drop the columns containing missing values, determine number of remaining values\n",
    "count_dropna_columns = df.dropna(axis=1).size\n",
    "\n",
    "# Print the percentage of values removed by dropping rows.\n",
    "row_percent = (count_total - count_dropna_rows) / count_total\n",
    "print(f'Percentage removed, rows: {row_percent:.3f}')\n",
    "\n",
    "# Print the percentage of values removed by dropping columns.\n",
    "col_percent = (count_total - count_dropna_columns) / count_total\n",
    "print(f'Percentage removed, columns: {col_percent:.3f}')"
   ]
  },
  {
   "cell_type": "markdown",
   "id": "e3d5527b",
   "metadata": {},
   "source": [
    "**Method 2: Imputation**"
   ]
  },
  {
   "cell_type": "code",
   "execution_count": 275,
   "id": "c52ce4c2",
   "metadata": {
    "scrolled": false
   },
   "outputs": [
    {
     "data": {
      "text/html": [
       "<div>\n",
       "<style scoped>\n",
       "    .dataframe tbody tr th:only-of-type {\n",
       "        vertical-align: middle;\n",
       "    }\n",
       "\n",
       "    .dataframe tbody tr th {\n",
       "        vertical-align: top;\n",
       "    }\n",
       "\n",
       "    .dataframe thead th {\n",
       "        text-align: right;\n",
       "    }\n",
       "</style>\n",
       "<table border=\"1\" class=\"dataframe\">\n",
       "  <thead>\n",
       "    <tr style=\"text-align: right;\">\n",
       "      <th></th>\n",
       "      <th>Company</th>\n",
       "      <th>Valuation</th>\n",
       "      <th>Date Joined</th>\n",
       "      <th>Industry</th>\n",
       "      <th>City</th>\n",
       "      <th>Country</th>\n",
       "      <th>Continent</th>\n",
       "      <th>Year Founded</th>\n",
       "      <th>Funding</th>\n",
       "      <th>Select Investors</th>\n",
       "      <th>Year Joined</th>\n",
       "    </tr>\n",
       "  </thead>\n",
       "  <tbody>\n",
       "    <tr>\n",
       "      <th>12</th>\n",
       "      <td>FTX</td>\n",
       "      <td>$32B</td>\n",
       "      <td>2021-07-20</td>\n",
       "      <td>Fintech</td>\n",
       "      <td>Jacksonville</td>\n",
       "      <td>Bahamas</td>\n",
       "      <td>North America</td>\n",
       "      <td>2018</td>\n",
       "      <td>$2B</td>\n",
       "      <td>Sequoia Capital, Thoma Bravo, Softbank</td>\n",
       "      <td>2021</td>\n",
       "    </tr>\n",
       "    <tr>\n",
       "      <th>170</th>\n",
       "      <td>HyalRoute</td>\n",
       "      <td>$4B</td>\n",
       "      <td>2020-05-26</td>\n",
       "      <td>Mobile &amp; telecommunications</td>\n",
       "      <td>El Segundo</td>\n",
       "      <td>Singapore</td>\n",
       "      <td>Asia</td>\n",
       "      <td>2015</td>\n",
       "      <td>$263M</td>\n",
       "      <td>Kuang-Chi</td>\n",
       "      <td>2020</td>\n",
       "    </tr>\n",
       "    <tr>\n",
       "      <th>242</th>\n",
       "      <td>Moglix</td>\n",
       "      <td>$3B</td>\n",
       "      <td>2021-05-17</td>\n",
       "      <td>E-commerce &amp; direct-to-consumer</td>\n",
       "      <td>San Francisco</td>\n",
       "      <td>Singapore</td>\n",
       "      <td>Asia</td>\n",
       "      <td>2015</td>\n",
       "      <td>$471M</td>\n",
       "      <td>Jungle Ventures, Accel, Venture Highway</td>\n",
       "      <td>2021</td>\n",
       "    </tr>\n",
       "    <tr>\n",
       "      <th>251</th>\n",
       "      <td>Trax</td>\n",
       "      <td>$3B</td>\n",
       "      <td>2019-07-22</td>\n",
       "      <td>Artificial intelligence</td>\n",
       "      <td>Amsterdam</td>\n",
       "      <td>Singapore</td>\n",
       "      <td>Asia</td>\n",
       "      <td>2010</td>\n",
       "      <td>$1B</td>\n",
       "      <td>Hopu Investment Management, Boyu Capital, DC T...</td>\n",
       "      <td>2019</td>\n",
       "    </tr>\n",
       "    <tr>\n",
       "      <th>325</th>\n",
       "      <td>Amber Group</td>\n",
       "      <td>$3B</td>\n",
       "      <td>2021-06-21</td>\n",
       "      <td>Fintech</td>\n",
       "      <td>San Francisco</td>\n",
       "      <td>Hong Kong</td>\n",
       "      <td>Asia</td>\n",
       "      <td>2015</td>\n",
       "      <td>$328M</td>\n",
       "      <td>Tiger Global Management, Tiger Brokers, DCM Ve...</td>\n",
       "      <td>2021</td>\n",
       "    </tr>\n",
       "    <tr>\n",
       "      <th>382</th>\n",
       "      <td>Ninja Van</td>\n",
       "      <td>$2B</td>\n",
       "      <td>2021-09-27</td>\n",
       "      <td>Supply chain, logistics, &amp; delivery</td>\n",
       "      <td>San Francisco</td>\n",
       "      <td>Singapore</td>\n",
       "      <td>Asia</td>\n",
       "      <td>2014</td>\n",
       "      <td>$975M</td>\n",
       "      <td>B Capital Group, Monk's Hill Ventures, Dynamic...</td>\n",
       "      <td>2021</td>\n",
       "    </tr>\n",
       "    <tr>\n",
       "      <th>541</th>\n",
       "      <td>Advance Intelligence Group</td>\n",
       "      <td>$2B</td>\n",
       "      <td>2021-09-23</td>\n",
       "      <td>Artificial intelligence</td>\n",
       "      <td>Helsinki</td>\n",
       "      <td>Singapore</td>\n",
       "      <td>Asia</td>\n",
       "      <td>2016</td>\n",
       "      <td>$536M</td>\n",
       "      <td>Vision Plus Capital, GSR Ventures, ZhenFund</td>\n",
       "      <td>2021</td>\n",
       "    </tr>\n",
       "    <tr>\n",
       "      <th>629</th>\n",
       "      <td>LinkSure Network</td>\n",
       "      <td>$1B</td>\n",
       "      <td>2015-01-01</td>\n",
       "      <td>Mobile &amp; telecommunications</td>\n",
       "      <td>Shanghai</td>\n",
       "      <td>China</td>\n",
       "      <td>Asia</td>\n",
       "      <td>2013</td>\n",
       "      <td>$52M</td>\n",
       "      <td>Sequoia Capital India, The Times Group, GMO Ve...</td>\n",
       "      <td>2015</td>\n",
       "    </tr>\n",
       "    <tr>\n",
       "      <th>811</th>\n",
       "      <td>Carousell</td>\n",
       "      <td>$1B</td>\n",
       "      <td>2021-09-15</td>\n",
       "      <td>E-commerce &amp; direct-to-consumer</td>\n",
       "      <td>New York</td>\n",
       "      <td>Singapore</td>\n",
       "      <td>Asia</td>\n",
       "      <td>2012</td>\n",
       "      <td>$288M</td>\n",
       "      <td>500 Global, Rakuten Ventures, Golden Gate Vent...</td>\n",
       "      <td>2021</td>\n",
       "    </tr>\n",
       "    <tr>\n",
       "      <th>848</th>\n",
       "      <td>Matrixport</td>\n",
       "      <td>$1B</td>\n",
       "      <td>2021-06-01</td>\n",
       "      <td>Fintech</td>\n",
       "      <td>San Francisco</td>\n",
       "      <td>Singapore</td>\n",
       "      <td>Asia</td>\n",
       "      <td>2019</td>\n",
       "      <td>$100M</td>\n",
       "      <td>Dragonfly Captial, Qiming Venture Partners, DS...</td>\n",
       "      <td>2021</td>\n",
       "    </tr>\n",
       "    <tr>\n",
       "      <th>880</th>\n",
       "      <td>bolttech</td>\n",
       "      <td>$1B</td>\n",
       "      <td>2021-07-01</td>\n",
       "      <td>Fintech</td>\n",
       "      <td>Englewood</td>\n",
       "      <td>Singapore</td>\n",
       "      <td>Asia</td>\n",
       "      <td>2018</td>\n",
       "      <td>$210M</td>\n",
       "      <td>Mundi Ventures, Doqling Capital Partners, Acti...</td>\n",
       "      <td>2021</td>\n",
       "    </tr>\n",
       "    <tr>\n",
       "      <th>889</th>\n",
       "      <td>Carro</td>\n",
       "      <td>$1B</td>\n",
       "      <td>2021-06-14</td>\n",
       "      <td>E-commerce &amp; direct-to-consumer</td>\n",
       "      <td>Lincoln</td>\n",
       "      <td>Singapore</td>\n",
       "      <td>Asia</td>\n",
       "      <td>2015</td>\n",
       "      <td>$595M</td>\n",
       "      <td>SingTel Innov8, Alpha JWC Ventures, Golden Gat...</td>\n",
       "      <td>2021</td>\n",
       "    </tr>\n",
       "    <tr>\n",
       "      <th>893</th>\n",
       "      <td>Cider</td>\n",
       "      <td>$1B</td>\n",
       "      <td>2021-09-02</td>\n",
       "      <td>E-commerce &amp; direct-to-consumer</td>\n",
       "      <td>Mexico City</td>\n",
       "      <td>Hong Kong</td>\n",
       "      <td>Asia</td>\n",
       "      <td>2020</td>\n",
       "      <td>$140M</td>\n",
       "      <td>Andreessen Horowitz, DST Global, IDG Capital</td>\n",
       "      <td>2021</td>\n",
       "    </tr>\n",
       "    <tr>\n",
       "      <th>980</th>\n",
       "      <td>NIUM</td>\n",
       "      <td>$1B</td>\n",
       "      <td>2021-07-13</td>\n",
       "      <td>Fintech</td>\n",
       "      <td>Bengaluru</td>\n",
       "      <td>Singapore</td>\n",
       "      <td>Asia</td>\n",
       "      <td>2014</td>\n",
       "      <td>$285M</td>\n",
       "      <td>Vertex Ventures SE Asia, Global Founders Capit...</td>\n",
       "      <td>2021</td>\n",
       "    </tr>\n",
       "    <tr>\n",
       "      <th>986</th>\n",
       "      <td>ONE</td>\n",
       "      <td>$1B</td>\n",
       "      <td>2021-12-08</td>\n",
       "      <td>Internet software &amp; services</td>\n",
       "      <td>New York</td>\n",
       "      <td>Singapore</td>\n",
       "      <td>Asia</td>\n",
       "      <td>2011</td>\n",
       "      <td>$515M</td>\n",
       "      <td>Temasek, Guggenheim Investments, Qatar Investm...</td>\n",
       "      <td>2021</td>\n",
       "    </tr>\n",
       "    <tr>\n",
       "      <th>994</th>\n",
       "      <td>PatSnap</td>\n",
       "      <td>$1B</td>\n",
       "      <td>2021-03-16</td>\n",
       "      <td>Internet software &amp; services</td>\n",
       "      <td>London</td>\n",
       "      <td>Singapore</td>\n",
       "      <td>Asia</td>\n",
       "      <td>2007</td>\n",
       "      <td>$352M</td>\n",
       "      <td>Sequoia Capital China, Shunwei Capital Partner...</td>\n",
       "      <td>2021</td>\n",
       "    </tr>\n",
       "    <tr>\n",
       "      <th>1061</th>\n",
       "      <td>WeLab</td>\n",
       "      <td>$1B</td>\n",
       "      <td>2017-11-08</td>\n",
       "      <td>Fintech</td>\n",
       "      <td>Beijing</td>\n",
       "      <td>Hong Kong</td>\n",
       "      <td>Asia</td>\n",
       "      <td>2013</td>\n",
       "      <td>$871M</td>\n",
       "      <td>Sequoia Capital China, ING, Alibaba Entreprene...</td>\n",
       "      <td>2017</td>\n",
       "    </tr>\n",
       "  </tbody>\n",
       "</table>\n",
       "</div>"
      ],
      "text/plain": [
       "                         Company Valuation Date Joined  \\\n",
       "12                           FTX      $32B  2021-07-20   \n",
       "170                    HyalRoute       $4B  2020-05-26   \n",
       "242                       Moglix       $3B  2021-05-17   \n",
       "251                         Trax       $3B  2019-07-22   \n",
       "325                  Amber Group       $3B  2021-06-21   \n",
       "382                    Ninja Van       $2B  2021-09-27   \n",
       "541   Advance Intelligence Group       $2B  2021-09-23   \n",
       "629             LinkSure Network       $1B  2015-01-01   \n",
       "811                    Carousell       $1B  2021-09-15   \n",
       "848                   Matrixport       $1B  2021-06-01   \n",
       "880                     bolttech       $1B  2021-07-01   \n",
       "889                        Carro       $1B  2021-06-14   \n",
       "893                        Cider       $1B  2021-09-02   \n",
       "980                         NIUM       $1B  2021-07-13   \n",
       "986                          ONE       $1B  2021-12-08   \n",
       "994                      PatSnap       $1B  2021-03-16   \n",
       "1061                       WeLab       $1B  2017-11-08   \n",
       "\n",
       "                                 Industry           City    Country  \\\n",
       "12                                Fintech   Jacksonville    Bahamas   \n",
       "170           Mobile & telecommunications     El Segundo  Singapore   \n",
       "242       E-commerce & direct-to-consumer  San Francisco  Singapore   \n",
       "251               Artificial intelligence      Amsterdam  Singapore   \n",
       "325                               Fintech  San Francisco  Hong Kong   \n",
       "382   Supply chain, logistics, & delivery  San Francisco  Singapore   \n",
       "541               Artificial intelligence       Helsinki  Singapore   \n",
       "629           Mobile & telecommunications       Shanghai      China   \n",
       "811       E-commerce & direct-to-consumer       New York  Singapore   \n",
       "848                               Fintech  San Francisco  Singapore   \n",
       "880                               Fintech      Englewood  Singapore   \n",
       "889       E-commerce & direct-to-consumer        Lincoln  Singapore   \n",
       "893       E-commerce & direct-to-consumer    Mexico City  Hong Kong   \n",
       "980                               Fintech      Bengaluru  Singapore   \n",
       "986          Internet software & services       New York  Singapore   \n",
       "994          Internet software & services         London  Singapore   \n",
       "1061                              Fintech        Beijing  Hong Kong   \n",
       "\n",
       "          Continent  Year Founded Funding  \\\n",
       "12    North America          2018     $2B   \n",
       "170            Asia          2015   $263M   \n",
       "242            Asia          2015   $471M   \n",
       "251            Asia          2010     $1B   \n",
       "325            Asia          2015   $328M   \n",
       "382            Asia          2014   $975M   \n",
       "541            Asia          2016   $536M   \n",
       "629            Asia          2013    $52M   \n",
       "811            Asia          2012   $288M   \n",
       "848            Asia          2019   $100M   \n",
       "880            Asia          2018   $210M   \n",
       "889            Asia          2015   $595M   \n",
       "893            Asia          2020   $140M   \n",
       "980            Asia          2014   $285M   \n",
       "986            Asia          2011   $515M   \n",
       "994            Asia          2007   $352M   \n",
       "1061           Asia          2013   $871M   \n",
       "\n",
       "                                       Select Investors  Year Joined  \n",
       "12               Sequoia Capital, Thoma Bravo, Softbank         2021  \n",
       "170                                           Kuang-Chi         2020  \n",
       "242             Jungle Ventures, Accel, Venture Highway         2021  \n",
       "251   Hopu Investment Management, Boyu Capital, DC T...         2019  \n",
       "325   Tiger Global Management, Tiger Brokers, DCM Ve...         2021  \n",
       "382   B Capital Group, Monk's Hill Ventures, Dynamic...         2021  \n",
       "541         Vision Plus Capital, GSR Ventures, ZhenFund         2021  \n",
       "629   Sequoia Capital India, The Times Group, GMO Ve...         2015  \n",
       "811   500 Global, Rakuten Ventures, Golden Gate Vent...         2021  \n",
       "848   Dragonfly Captial, Qiming Venture Partners, DS...         2021  \n",
       "880   Mundi Ventures, Doqling Capital Partners, Acti...         2021  \n",
       "889   SingTel Innov8, Alpha JWC Ventures, Golden Gat...         2021  \n",
       "893        Andreessen Horowitz, DST Global, IDG Capital         2021  \n",
       "980   Vertex Ventures SE Asia, Global Founders Capit...         2021  \n",
       "986   Temasek, Guggenheim Investments, Qatar Investm...         2021  \n",
       "994   Sequoia Capital China, Shunwei Capital Partner...         2021  \n",
       "1061  Sequoia Capital China, ING, Alibaba Entreprene...         2017  "
      ]
     },
     "execution_count": 275,
     "metadata": {},
     "output_type": "execute_result"
    }
   ],
   "source": [
    "# 1. Fill missing values using the 'fillna()' method, back-filling\n",
    "df_backfill = df.fillna(method='backfill')\n",
    "\n",
    "# 2. Show the rows that previously had missing values\n",
    "df_backfill.iloc[df_missing_rows.index, :]"
   ]
  },
  {
   "cell_type": "markdown",
   "id": "e6669769",
   "metadata": {},
   "source": [
    "**Some observations:**\n",
    "\n",
    "The values that were used to fill in for the missing values don't make any sense. They seem to be added without consideration of the country those cities are located in.\n",
    "Another option is to fill the values with a certain value, such as 'Unknown'. However, doing so doesn’t add any value to the dataset and could make finding the missing values difficult in the future. Reviewing the missing values in this dataset determines that it is fine to leave the values as they are. This also avoids adding bias to the dataset."
   ]
  },
  {
   "cell_type": "code",
   "execution_count": 276,
   "id": "5c25ebad",
   "metadata": {
    "scrolled": false
   },
   "outputs": [
    {
     "name": "stderr",
     "output_type": "stream",
     "text": [
      "C:\\Users\\Windows 11\\AppData\\Local\\Temp\\ipykernel_15488\\2404949324.py:2: FutureWarning:\n",
      "\n",
      "The default value of regex will change from True to False in a future version. In addition, single character regular expressions will *not* be treated as literal strings when regex=True.\n",
      "\n"
     ]
    },
    {
     "data": {
      "text/html": [
       "<div>\n",
       "<style scoped>\n",
       "    .dataframe tbody tr th:only-of-type {\n",
       "        vertical-align: middle;\n",
       "    }\n",
       "\n",
       "    .dataframe tbody tr th {\n",
       "        vertical-align: top;\n",
       "    }\n",
       "\n",
       "    .dataframe thead th {\n",
       "        text-align: right;\n",
       "    }\n",
       "</style>\n",
       "<table border=\"1\" class=\"dataframe\">\n",
       "  <thead>\n",
       "    <tr style=\"text-align: right;\">\n",
       "      <th></th>\n",
       "      <th>Company</th>\n",
       "      <th>Valuation</th>\n",
       "      <th>Date Joined</th>\n",
       "      <th>Industry</th>\n",
       "      <th>City</th>\n",
       "      <th>Country</th>\n",
       "      <th>Continent</th>\n",
       "      <th>Year Founded</th>\n",
       "      <th>Funding</th>\n",
       "      <th>Select Investors</th>\n",
       "      <th>Year Joined</th>\n",
       "    </tr>\n",
       "  </thead>\n",
       "  <tbody>\n",
       "    <tr>\n",
       "      <th>0</th>\n",
       "      <td>Bytedance</td>\n",
       "      <td>180</td>\n",
       "      <td>2017-04-07</td>\n",
       "      <td>Artificial intelligence</td>\n",
       "      <td>Beijing</td>\n",
       "      <td>China</td>\n",
       "      <td>Asia</td>\n",
       "      <td>2012</td>\n",
       "      <td>$8B</td>\n",
       "      <td>Sequoia Capital China, SIG Asia Investments, S...</td>\n",
       "      <td>2017</td>\n",
       "    </tr>\n",
       "    <tr>\n",
       "      <th>1</th>\n",
       "      <td>SpaceX</td>\n",
       "      <td>100</td>\n",
       "      <td>2012-12-01</td>\n",
       "      <td>Other</td>\n",
       "      <td>Hawthorne</td>\n",
       "      <td>United States</td>\n",
       "      <td>North America</td>\n",
       "      <td>2002</td>\n",
       "      <td>$7B</td>\n",
       "      <td>Founders Fund, Draper Fisher Jurvetson, Rothen...</td>\n",
       "      <td>2012</td>\n",
       "    </tr>\n",
       "    <tr>\n",
       "      <th>2</th>\n",
       "      <td>SHEIN</td>\n",
       "      <td>100</td>\n",
       "      <td>2018-07-03</td>\n",
       "      <td>E-commerce &amp; direct-to-consumer</td>\n",
       "      <td>Shenzhen</td>\n",
       "      <td>China</td>\n",
       "      <td>Asia</td>\n",
       "      <td>2008</td>\n",
       "      <td>$2B</td>\n",
       "      <td>Tiger Global Management, Sequoia Capital China...</td>\n",
       "      <td>2018</td>\n",
       "    </tr>\n",
       "    <tr>\n",
       "      <th>3</th>\n",
       "      <td>Stripe</td>\n",
       "      <td>95</td>\n",
       "      <td>2014-01-23</td>\n",
       "      <td>Fintech</td>\n",
       "      <td>San Francisco</td>\n",
       "      <td>United States</td>\n",
       "      <td>North America</td>\n",
       "      <td>2010</td>\n",
       "      <td>$2B</td>\n",
       "      <td>Khosla Ventures, LowercaseCapital, capitalG</td>\n",
       "      <td>2014</td>\n",
       "    </tr>\n",
       "    <tr>\n",
       "      <th>4</th>\n",
       "      <td>Klarna</td>\n",
       "      <td>46</td>\n",
       "      <td>2011-12-12</td>\n",
       "      <td>Fintech</td>\n",
       "      <td>Stockholm</td>\n",
       "      <td>Sweden</td>\n",
       "      <td>Europe</td>\n",
       "      <td>2005</td>\n",
       "      <td>$4B</td>\n",
       "      <td>Institutional Venture Partners, Sequoia Capita...</td>\n",
       "      <td>2011</td>\n",
       "    </tr>\n",
       "    <tr>\n",
       "      <th>...</th>\n",
       "      <td>...</td>\n",
       "      <td>...</td>\n",
       "      <td>...</td>\n",
       "      <td>...</td>\n",
       "      <td>...</td>\n",
       "      <td>...</td>\n",
       "      <td>...</td>\n",
       "      <td>...</td>\n",
       "      <td>...</td>\n",
       "      <td>...</td>\n",
       "      <td>...</td>\n",
       "    </tr>\n",
       "    <tr>\n",
       "      <th>1069</th>\n",
       "      <td>Zhaogang</td>\n",
       "      <td>1</td>\n",
       "      <td>2017-06-29</td>\n",
       "      <td>E-commerce &amp; direct-to-consumer</td>\n",
       "      <td>Shanghai</td>\n",
       "      <td>China</td>\n",
       "      <td>Asia</td>\n",
       "      <td>2012</td>\n",
       "      <td>$379M</td>\n",
       "      <td>K2 Ventures, Matrix Partners China, IDG Capital</td>\n",
       "      <td>2017</td>\n",
       "    </tr>\n",
       "    <tr>\n",
       "      <th>1070</th>\n",
       "      <td>Zhuan Zhuan</td>\n",
       "      <td>1</td>\n",
       "      <td>2017-04-18</td>\n",
       "      <td>E-commerce &amp; direct-to-consumer</td>\n",
       "      <td>Beijing</td>\n",
       "      <td>China</td>\n",
       "      <td>Asia</td>\n",
       "      <td>2015</td>\n",
       "      <td>$990M</td>\n",
       "      <td>58.com, Tencent Holdings</td>\n",
       "      <td>2017</td>\n",
       "    </tr>\n",
       "    <tr>\n",
       "      <th>1071</th>\n",
       "      <td>Zihaiguo</td>\n",
       "      <td>1</td>\n",
       "      <td>2021-05-06</td>\n",
       "      <td>Consumer &amp; retail</td>\n",
       "      <td>Chongqing</td>\n",
       "      <td>China</td>\n",
       "      <td>Asia</td>\n",
       "      <td>2018</td>\n",
       "      <td>$80M</td>\n",
       "      <td>Xingwang Investment Management, China Capital ...</td>\n",
       "      <td>2021</td>\n",
       "    </tr>\n",
       "    <tr>\n",
       "      <th>1072</th>\n",
       "      <td>Zopa</td>\n",
       "      <td>1</td>\n",
       "      <td>2021-10-19</td>\n",
       "      <td>Fintech</td>\n",
       "      <td>London</td>\n",
       "      <td>United Kingdom</td>\n",
       "      <td>Europe</td>\n",
       "      <td>2005</td>\n",
       "      <td>$792M</td>\n",
       "      <td>IAG Capital Partners, Augmentum Fintech, North...</td>\n",
       "      <td>2021</td>\n",
       "    </tr>\n",
       "    <tr>\n",
       "      <th>1073</th>\n",
       "      <td>Zwift</td>\n",
       "      <td>1</td>\n",
       "      <td>2020-09-16</td>\n",
       "      <td>E-commerce &amp; direct-to-consumer</td>\n",
       "      <td>Long Beach</td>\n",
       "      <td>United States</td>\n",
       "      <td>North America</td>\n",
       "      <td>2014</td>\n",
       "      <td>$620M</td>\n",
       "      <td>Novator Partners, True, Causeway Media Partners</td>\n",
       "      <td>2020</td>\n",
       "    </tr>\n",
       "  </tbody>\n",
       "</table>\n",
       "<p>1074 rows × 11 columns</p>\n",
       "</div>"
      ],
      "text/plain": [
       "          Company  Valuation Date Joined                         Industry  \\\n",
       "0       Bytedance        180  2017-04-07          Artificial intelligence   \n",
       "1          SpaceX        100  2012-12-01                            Other   \n",
       "2           SHEIN        100  2018-07-03  E-commerce & direct-to-consumer   \n",
       "3          Stripe         95  2014-01-23                          Fintech   \n",
       "4          Klarna         46  2011-12-12                          Fintech   \n",
       "...           ...        ...         ...                              ...   \n",
       "1069     Zhaogang          1  2017-06-29  E-commerce & direct-to-consumer   \n",
       "1070  Zhuan Zhuan          1  2017-04-18  E-commerce & direct-to-consumer   \n",
       "1071     Zihaiguo          1  2021-05-06                Consumer & retail   \n",
       "1072         Zopa          1  2021-10-19                          Fintech   \n",
       "1073        Zwift          1  2020-09-16  E-commerce & direct-to-consumer   \n",
       "\n",
       "               City         Country      Continent  Year Founded Funding  \\\n",
       "0           Beijing           China           Asia          2012     $8B   \n",
       "1         Hawthorne   United States  North America          2002     $7B   \n",
       "2          Shenzhen           China           Asia          2008     $2B   \n",
       "3     San Francisco   United States  North America          2010     $2B   \n",
       "4         Stockholm          Sweden         Europe          2005     $4B   \n",
       "...             ...             ...            ...           ...     ...   \n",
       "1069       Shanghai           China           Asia          2012   $379M   \n",
       "1070        Beijing           China           Asia          2015   $990M   \n",
       "1071      Chongqing           China           Asia          2018    $80M   \n",
       "1072         London  United Kingdom         Europe          2005   $792M   \n",
       "1073     Long Beach   United States  North America          2014   $620M   \n",
       "\n",
       "                                       Select Investors  Year Joined  \n",
       "0     Sequoia Capital China, SIG Asia Investments, S...         2017  \n",
       "1     Founders Fund, Draper Fisher Jurvetson, Rothen...         2012  \n",
       "2     Tiger Global Management, Sequoia Capital China...         2018  \n",
       "3           Khosla Ventures, LowercaseCapital, capitalG         2014  \n",
       "4     Institutional Venture Partners, Sequoia Capita...         2011  \n",
       "...                                                 ...          ...  \n",
       "1069    K2 Ventures, Matrix Partners China, IDG Capital         2017  \n",
       "1070                           58.com, Tencent Holdings         2017  \n",
       "1071  Xingwang Investment Management, China Capital ...         2021  \n",
       "1072  IAG Capital Partners, Augmentum Fintech, North...         2021  \n",
       "1073    Novator Partners, True, Causeway Media Partners         2020  \n",
       "\n",
       "[1074 rows x 11 columns]"
      ]
     },
     "execution_count": 276,
     "metadata": {},
     "output_type": "execute_result"
    }
   ],
   "source": [
    "#Remove '$' from 'Valuation' column and convert it to numeric\n",
    "df['Valuation'] = df['Valuation'].str.replace('$', '')\n",
    "df['Valuation'] = df['Valuation'].str.replace('B', '')\n",
    "df['Valuation'] = pd.to_numeric(df['Valuation'])\n",
    "df"
   ]
  },
  {
   "cell_type": "code",
   "execution_count": 278,
   "id": "e23866aa",
   "metadata": {},
   "outputs": [
    {
     "name": "stderr",
     "output_type": "stream",
     "text": [
      "C:\\Users\\Windows 11\\AppData\\Local\\Temp\\ipykernel_15488\\219431115.py:2: FutureWarning:\n",
      "\n",
      "The default value of regex will change from True to False in a future version. In addition, single character regular expressions will *not* be treated as literal strings when regex=True.\n",
      "\n"
     ]
    },
    {
     "data": {
      "text/html": [
       "<div>\n",
       "<style scoped>\n",
       "    .dataframe tbody tr th:only-of-type {\n",
       "        vertical-align: middle;\n",
       "    }\n",
       "\n",
       "    .dataframe tbody tr th {\n",
       "        vertical-align: top;\n",
       "    }\n",
       "\n",
       "    .dataframe thead th {\n",
       "        text-align: right;\n",
       "    }\n",
       "</style>\n",
       "<table border=\"1\" class=\"dataframe\">\n",
       "  <thead>\n",
       "    <tr style=\"text-align: right;\">\n",
       "      <th></th>\n",
       "      <th>Company</th>\n",
       "      <th>Valuation</th>\n",
       "      <th>Date Joined</th>\n",
       "      <th>Industry</th>\n",
       "      <th>City</th>\n",
       "      <th>Country</th>\n",
       "      <th>Continent</th>\n",
       "      <th>Year Founded</th>\n",
       "      <th>Funding</th>\n",
       "      <th>Select Investors</th>\n",
       "      <th>Year Joined</th>\n",
       "    </tr>\n",
       "  </thead>\n",
       "  <tbody>\n",
       "    <tr>\n",
       "      <th>0</th>\n",
       "      <td>Bytedance</td>\n",
       "      <td>180</td>\n",
       "      <td>2017-04-07</td>\n",
       "      <td>Artificial intelligence</td>\n",
       "      <td>Beijing</td>\n",
       "      <td>China</td>\n",
       "      <td>Asia</td>\n",
       "      <td>2012</td>\n",
       "      <td>8.0</td>\n",
       "      <td>Sequoia Capital China, SIG Asia Investments, S...</td>\n",
       "      <td>2017</td>\n",
       "    </tr>\n",
       "    <tr>\n",
       "      <th>1</th>\n",
       "      <td>SpaceX</td>\n",
       "      <td>100</td>\n",
       "      <td>2012-12-01</td>\n",
       "      <td>Other</td>\n",
       "      <td>Hawthorne</td>\n",
       "      <td>United States</td>\n",
       "      <td>North America</td>\n",
       "      <td>2002</td>\n",
       "      <td>7.0</td>\n",
       "      <td>Founders Fund, Draper Fisher Jurvetson, Rothen...</td>\n",
       "      <td>2012</td>\n",
       "    </tr>\n",
       "    <tr>\n",
       "      <th>2</th>\n",
       "      <td>SHEIN</td>\n",
       "      <td>100</td>\n",
       "      <td>2018-07-03</td>\n",
       "      <td>E-commerce &amp; direct-to-consumer</td>\n",
       "      <td>Shenzhen</td>\n",
       "      <td>China</td>\n",
       "      <td>Asia</td>\n",
       "      <td>2008</td>\n",
       "      <td>2.0</td>\n",
       "      <td>Tiger Global Management, Sequoia Capital China...</td>\n",
       "      <td>2018</td>\n",
       "    </tr>\n",
       "    <tr>\n",
       "      <th>3</th>\n",
       "      <td>Stripe</td>\n",
       "      <td>95</td>\n",
       "      <td>2014-01-23</td>\n",
       "      <td>Fintech</td>\n",
       "      <td>San Francisco</td>\n",
       "      <td>United States</td>\n",
       "      <td>North America</td>\n",
       "      <td>2010</td>\n",
       "      <td>2.0</td>\n",
       "      <td>Khosla Ventures, LowercaseCapital, capitalG</td>\n",
       "      <td>2014</td>\n",
       "    </tr>\n",
       "    <tr>\n",
       "      <th>4</th>\n",
       "      <td>Klarna</td>\n",
       "      <td>46</td>\n",
       "      <td>2011-12-12</td>\n",
       "      <td>Fintech</td>\n",
       "      <td>Stockholm</td>\n",
       "      <td>Sweden</td>\n",
       "      <td>Europe</td>\n",
       "      <td>2005</td>\n",
       "      <td>4.0</td>\n",
       "      <td>Institutional Venture Partners, Sequoia Capita...</td>\n",
       "      <td>2011</td>\n",
       "    </tr>\n",
       "    <tr>\n",
       "      <th>...</th>\n",
       "      <td>...</td>\n",
       "      <td>...</td>\n",
       "      <td>...</td>\n",
       "      <td>...</td>\n",
       "      <td>...</td>\n",
       "      <td>...</td>\n",
       "      <td>...</td>\n",
       "      <td>...</td>\n",
       "      <td>...</td>\n",
       "      <td>...</td>\n",
       "      <td>...</td>\n",
       "    </tr>\n",
       "    <tr>\n",
       "      <th>1069</th>\n",
       "      <td>Zhaogang</td>\n",
       "      <td>1</td>\n",
       "      <td>2017-06-29</td>\n",
       "      <td>E-commerce &amp; direct-to-consumer</td>\n",
       "      <td>Shanghai</td>\n",
       "      <td>China</td>\n",
       "      <td>Asia</td>\n",
       "      <td>2012</td>\n",
       "      <td>379.0</td>\n",
       "      <td>K2 Ventures, Matrix Partners China, IDG Capital</td>\n",
       "      <td>2017</td>\n",
       "    </tr>\n",
       "    <tr>\n",
       "      <th>1070</th>\n",
       "      <td>Zhuan Zhuan</td>\n",
       "      <td>1</td>\n",
       "      <td>2017-04-18</td>\n",
       "      <td>E-commerce &amp; direct-to-consumer</td>\n",
       "      <td>Beijing</td>\n",
       "      <td>China</td>\n",
       "      <td>Asia</td>\n",
       "      <td>2015</td>\n",
       "      <td>990.0</td>\n",
       "      <td>58.com, Tencent Holdings</td>\n",
       "      <td>2017</td>\n",
       "    </tr>\n",
       "    <tr>\n",
       "      <th>1071</th>\n",
       "      <td>Zihaiguo</td>\n",
       "      <td>1</td>\n",
       "      <td>2021-05-06</td>\n",
       "      <td>Consumer &amp; retail</td>\n",
       "      <td>Chongqing</td>\n",
       "      <td>China</td>\n",
       "      <td>Asia</td>\n",
       "      <td>2018</td>\n",
       "      <td>80.0</td>\n",
       "      <td>Xingwang Investment Management, China Capital ...</td>\n",
       "      <td>2021</td>\n",
       "    </tr>\n",
       "    <tr>\n",
       "      <th>1072</th>\n",
       "      <td>Zopa</td>\n",
       "      <td>1</td>\n",
       "      <td>2021-10-19</td>\n",
       "      <td>Fintech</td>\n",
       "      <td>London</td>\n",
       "      <td>United Kingdom</td>\n",
       "      <td>Europe</td>\n",
       "      <td>2005</td>\n",
       "      <td>792.0</td>\n",
       "      <td>IAG Capital Partners, Augmentum Fintech, North...</td>\n",
       "      <td>2021</td>\n",
       "    </tr>\n",
       "    <tr>\n",
       "      <th>1073</th>\n",
       "      <td>Zwift</td>\n",
       "      <td>1</td>\n",
       "      <td>2020-09-16</td>\n",
       "      <td>E-commerce &amp; direct-to-consumer</td>\n",
       "      <td>Long Beach</td>\n",
       "      <td>United States</td>\n",
       "      <td>North America</td>\n",
       "      <td>2014</td>\n",
       "      <td>620.0</td>\n",
       "      <td>Novator Partners, True, Causeway Media Partners</td>\n",
       "      <td>2020</td>\n",
       "    </tr>\n",
       "  </tbody>\n",
       "</table>\n",
       "<p>1074 rows × 11 columns</p>\n",
       "</div>"
      ],
      "text/plain": [
       "          Company  Valuation Date Joined                         Industry  \\\n",
       "0       Bytedance        180  2017-04-07          Artificial intelligence   \n",
       "1          SpaceX        100  2012-12-01                            Other   \n",
       "2           SHEIN        100  2018-07-03  E-commerce & direct-to-consumer   \n",
       "3          Stripe         95  2014-01-23                          Fintech   \n",
       "4          Klarna         46  2011-12-12                          Fintech   \n",
       "...           ...        ...         ...                              ...   \n",
       "1069     Zhaogang          1  2017-06-29  E-commerce & direct-to-consumer   \n",
       "1070  Zhuan Zhuan          1  2017-04-18  E-commerce & direct-to-consumer   \n",
       "1071     Zihaiguo          1  2021-05-06                Consumer & retail   \n",
       "1072         Zopa          1  2021-10-19                          Fintech   \n",
       "1073        Zwift          1  2020-09-16  E-commerce & direct-to-consumer   \n",
       "\n",
       "               City         Country      Continent  Year Founded  Funding  \\\n",
       "0           Beijing           China           Asia          2012      8.0   \n",
       "1         Hawthorne   United States  North America          2002      7.0   \n",
       "2          Shenzhen           China           Asia          2008      2.0   \n",
       "3     San Francisco   United States  North America          2010      2.0   \n",
       "4         Stockholm          Sweden         Europe          2005      4.0   \n",
       "...             ...             ...            ...           ...      ...   \n",
       "1069       Shanghai           China           Asia          2012    379.0   \n",
       "1070        Beijing           China           Asia          2015    990.0   \n",
       "1071      Chongqing           China           Asia          2018     80.0   \n",
       "1072         London  United Kingdom         Europe          2005    792.0   \n",
       "1073     Long Beach   United States  North America          2014    620.0   \n",
       "\n",
       "                                       Select Investors  Year Joined  \n",
       "0     Sequoia Capital China, SIG Asia Investments, S...         2017  \n",
       "1     Founders Fund, Draper Fisher Jurvetson, Rothen...         2012  \n",
       "2     Tiger Global Management, Sequoia Capital China...         2018  \n",
       "3           Khosla Ventures, LowercaseCapital, capitalG         2014  \n",
       "4     Institutional Venture Partners, Sequoia Capita...         2011  \n",
       "...                                                 ...          ...  \n",
       "1069    K2 Ventures, Matrix Partners China, IDG Capital         2017  \n",
       "1070                           58.com, Tencent Holdings         2017  \n",
       "1071  Xingwang Investment Management, China Capital ...         2021  \n",
       "1072  IAG Capital Partners, Augmentum Fintech, North...         2021  \n",
       "1073    Novator Partners, True, Causeway Media Partners         2020  \n",
       "\n",
       "[1074 rows x 11 columns]"
      ]
     },
     "execution_count": 278,
     "metadata": {},
     "output_type": "execute_result"
    }
   ],
   "source": [
    "#Remove '$' from 'Valuation' column and convert it to numeric\n",
    "df['Funding'] = df['Funding'].str.replace('$', '')\n",
    "df['Funding'] = df['Funding'].str.replace('B', '')\n",
    "df['Funding'] = df['Funding'].str.replace('M', '')\n",
    "df['Funding'] = df['Funding'].str.replace('Unknown', '')\n",
    "df['Funding'] = pd.to_numeric(df['Funding'])\n",
    "df\n"
   ]
  },
  {
   "cell_type": "code",
   "execution_count": 279,
   "id": "746d62dc",
   "metadata": {
    "scrolled": false
   },
   "outputs": [
    {
     "data": {
      "text/html": [
       "<div>\n",
       "<style scoped>\n",
       "    .dataframe tbody tr th:only-of-type {\n",
       "        vertical-align: middle;\n",
       "    }\n",
       "\n",
       "    .dataframe tbody tr th {\n",
       "        vertical-align: top;\n",
       "    }\n",
       "\n",
       "    .dataframe thead th {\n",
       "        text-align: right;\n",
       "    }\n",
       "</style>\n",
       "<table border=\"1\" class=\"dataframe\">\n",
       "  <thead>\n",
       "    <tr style=\"text-align: right;\">\n",
       "      <th></th>\n",
       "      <th>Company</th>\n",
       "      <th>Valuation</th>\n",
       "      <th>Date Joined</th>\n",
       "      <th>Industry</th>\n",
       "      <th>City</th>\n",
       "      <th>Country</th>\n",
       "      <th>Continent</th>\n",
       "      <th>Year Founded</th>\n",
       "      <th>Funding</th>\n",
       "      <th>Select Investors</th>\n",
       "      <th>Year Joined</th>\n",
       "      <th>ROI</th>\n",
       "    </tr>\n",
       "  </thead>\n",
       "  <tbody>\n",
       "    <tr>\n",
       "      <th>292</th>\n",
       "      <td>Scopely</td>\n",
       "      <td>3</td>\n",
       "      <td>2019-10-29</td>\n",
       "      <td>Mobile &amp; telecommunications</td>\n",
       "      <td>Culver City</td>\n",
       "      <td>United States</td>\n",
       "      <td>North America</td>\n",
       "      <td>2011</td>\n",
       "      <td>999.0</td>\n",
       "      <td>Greycroft, Sands Capital, Revolution Growth</td>\n",
       "      <td>2019</td>\n",
       "      <td>996.0</td>\n",
       "    </tr>\n",
       "    <tr>\n",
       "      <th>146</th>\n",
       "      <td>Trade Republic</td>\n",
       "      <td>5</td>\n",
       "      <td>2021-05-20</td>\n",
       "      <td>Fintech</td>\n",
       "      <td>Berlin</td>\n",
       "      <td>Germany</td>\n",
       "      <td>Europe</td>\n",
       "      <td>2015</td>\n",
       "      <td>996.0</td>\n",
       "      <td>Founders Fund, Accel, Creandum</td>\n",
       "      <td>2021</td>\n",
       "      <td>991.0</td>\n",
       "    </tr>\n",
       "    <tr>\n",
       "      <th>1070</th>\n",
       "      <td>Zhuan Zhuan</td>\n",
       "      <td>1</td>\n",
       "      <td>2017-04-18</td>\n",
       "      <td>E-commerce &amp; direct-to-consumer</td>\n",
       "      <td>Beijing</td>\n",
       "      <td>China</td>\n",
       "      <td>Asia</td>\n",
       "      <td>2015</td>\n",
       "      <td>990.0</td>\n",
       "      <td>58.com, Tencent Holdings</td>\n",
       "      <td>2017</td>\n",
       "      <td>989.0</td>\n",
       "    </tr>\n",
       "    <tr>\n",
       "      <th>271</th>\n",
       "      <td>Varo Bank</td>\n",
       "      <td>3</td>\n",
       "      <td>2021-09-09</td>\n",
       "      <td>Fintech</td>\n",
       "      <td>San Francisco</td>\n",
       "      <td>United States</td>\n",
       "      <td>North America</td>\n",
       "      <td>2015</td>\n",
       "      <td>987.0</td>\n",
       "      <td>Warburg Pincus, The Rise Fund, HarbourVest Par...</td>\n",
       "      <td>2021</td>\n",
       "      <td>984.0</td>\n",
       "    </tr>\n",
       "    <tr>\n",
       "      <th>382</th>\n",
       "      <td>Ninja Van</td>\n",
       "      <td>2</td>\n",
       "      <td>2021-09-27</td>\n",
       "      <td>Supply chain, logistics, &amp; delivery</td>\n",
       "      <td>NaN</td>\n",
       "      <td>Singapore</td>\n",
       "      <td>Asia</td>\n",
       "      <td>2014</td>\n",
       "      <td>975.0</td>\n",
       "      <td>B Capital Group, Monk's Hill Ventures, Dynamic...</td>\n",
       "      <td>2021</td>\n",
       "      <td>973.0</td>\n",
       "    </tr>\n",
       "    <tr>\n",
       "      <th>...</th>\n",
       "      <td>...</td>\n",
       "      <td>...</td>\n",
       "      <td>...</td>\n",
       "      <td>...</td>\n",
       "      <td>...</td>\n",
       "      <td>...</td>\n",
       "      <td>...</td>\n",
       "      <td>...</td>\n",
       "      <td>...</td>\n",
       "      <td>...</td>\n",
       "      <td>...</td>\n",
       "      <td>...</td>\n",
       "    </tr>\n",
       "    <tr>\n",
       "      <th>866</th>\n",
       "      <td>Assembly</td>\n",
       "      <td>1</td>\n",
       "      <td>2021-09-21</td>\n",
       "      <td>Internet software &amp; services</td>\n",
       "      <td>Culver City</td>\n",
       "      <td>United States</td>\n",
       "      <td>North America</td>\n",
       "      <td>2019</td>\n",
       "      <td>NaN</td>\n",
       "      <td>Advent International, PSG, Providence Equity P...</td>\n",
       "      <td>2021</td>\n",
       "      <td>NaN</td>\n",
       "    </tr>\n",
       "    <tr>\n",
       "      <th>890</th>\n",
       "      <td>Carson Group</td>\n",
       "      <td>1</td>\n",
       "      <td>2021-07-14</td>\n",
       "      <td>Fintech</td>\n",
       "      <td>Lincoln</td>\n",
       "      <td>United States</td>\n",
       "      <td>North America</td>\n",
       "      <td>2012</td>\n",
       "      <td>NaN</td>\n",
       "      <td>Bain Capital</td>\n",
       "      <td>2021</td>\n",
       "      <td>NaN</td>\n",
       "    </tr>\n",
       "    <tr>\n",
       "      <th>945</th>\n",
       "      <td>Iodine Software</td>\n",
       "      <td>1</td>\n",
       "      <td>2021-12-01</td>\n",
       "      <td>Data management &amp; analytics</td>\n",
       "      <td>Austin</td>\n",
       "      <td>United States</td>\n",
       "      <td>North America</td>\n",
       "      <td>2010</td>\n",
       "      <td>NaN</td>\n",
       "      <td>Advent International, Bain Capital Ventures, S...</td>\n",
       "      <td>2021</td>\n",
       "      <td>NaN</td>\n",
       "    </tr>\n",
       "    <tr>\n",
       "      <th>947</th>\n",
       "      <td>Kendra Scott</td>\n",
       "      <td>1</td>\n",
       "      <td>2016-12-21</td>\n",
       "      <td>Consumer &amp; retail</td>\n",
       "      <td>Austin</td>\n",
       "      <td>United States</td>\n",
       "      <td>North America</td>\n",
       "      <td>2002</td>\n",
       "      <td>NaN</td>\n",
       "      <td>Berkshire Partners, Norwest Venture Partners</td>\n",
       "      <td>2016</td>\n",
       "      <td>NaN</td>\n",
       "    </tr>\n",
       "    <tr>\n",
       "      <th>1002</th>\n",
       "      <td>Poizon</td>\n",
       "      <td>1</td>\n",
       "      <td>2019-04-29</td>\n",
       "      <td>Mobile &amp; telecommunications</td>\n",
       "      <td>Shanghai</td>\n",
       "      <td>China</td>\n",
       "      <td>Asia</td>\n",
       "      <td>2015</td>\n",
       "      <td>NaN</td>\n",
       "      <td>DST Global, Sequoia Capital China, Gaorong Cap...</td>\n",
       "      <td>2019</td>\n",
       "      <td>NaN</td>\n",
       "    </tr>\n",
       "  </tbody>\n",
       "</table>\n",
       "<p>1074 rows × 12 columns</p>\n",
       "</div>"
      ],
      "text/plain": [
       "              Company  Valuation Date Joined  \\\n",
       "292           Scopely          3  2019-10-29   \n",
       "146    Trade Republic          5  2021-05-20   \n",
       "1070      Zhuan Zhuan          1  2017-04-18   \n",
       "271         Varo Bank          3  2021-09-09   \n",
       "382         Ninja Van          2  2021-09-27   \n",
       "...               ...        ...         ...   \n",
       "866          Assembly          1  2021-09-21   \n",
       "890      Carson Group          1  2021-07-14   \n",
       "945   Iodine Software          1  2021-12-01   \n",
       "947      Kendra Scott          1  2016-12-21   \n",
       "1002           Poizon          1  2019-04-29   \n",
       "\n",
       "                                 Industry           City        Country  \\\n",
       "292           Mobile & telecommunications    Culver City  United States   \n",
       "146                               Fintech         Berlin        Germany   \n",
       "1070      E-commerce & direct-to-consumer        Beijing          China   \n",
       "271                               Fintech  San Francisco  United States   \n",
       "382   Supply chain, logistics, & delivery            NaN      Singapore   \n",
       "...                                   ...            ...            ...   \n",
       "866          Internet software & services    Culver City  United States   \n",
       "890                               Fintech        Lincoln  United States   \n",
       "945           Data management & analytics         Austin  United States   \n",
       "947                     Consumer & retail         Austin  United States   \n",
       "1002          Mobile & telecommunications       Shanghai          China   \n",
       "\n",
       "          Continent  Year Founded  Funding  \\\n",
       "292   North America          2011    999.0   \n",
       "146          Europe          2015    996.0   \n",
       "1070           Asia          2015    990.0   \n",
       "271   North America          2015    987.0   \n",
       "382            Asia          2014    975.0   \n",
       "...             ...           ...      ...   \n",
       "866   North America          2019      NaN   \n",
       "890   North America          2012      NaN   \n",
       "945   North America          2010      NaN   \n",
       "947   North America          2002      NaN   \n",
       "1002           Asia          2015      NaN   \n",
       "\n",
       "                                       Select Investors  Year Joined    ROI  \n",
       "292         Greycroft, Sands Capital, Revolution Growth         2019  996.0  \n",
       "146                      Founders Fund, Accel, Creandum         2021  991.0  \n",
       "1070                           58.com, Tencent Holdings         2017  989.0  \n",
       "271   Warburg Pincus, The Rise Fund, HarbourVest Par...         2021  984.0  \n",
       "382   B Capital Group, Monk's Hill Ventures, Dynamic...         2021  973.0  \n",
       "...                                                 ...          ...    ...  \n",
       "866   Advent International, PSG, Providence Equity P...         2021    NaN  \n",
       "890                                        Bain Capital         2021    NaN  \n",
       "945   Advent International, Bain Capital Ventures, S...         2021    NaN  \n",
       "947        Berkshire Partners, Norwest Venture Partners         2016    NaN  \n",
       "1002  DST Global, Sequoia Capital China, Gaorong Cap...         2019    NaN  \n",
       "\n",
       "[1074 rows x 12 columns]"
      ]
     },
     "execution_count": 279,
     "metadata": {},
     "output_type": "execute_result"
    }
   ],
   "source": [
    "#Calculate ROI and add it as a new column\n",
    "df['ROI'] = df['Funding'] - df['Valuation']\n",
    "\n",
    "df = df.sort_values(by='ROI', ascending=False)\n",
    "df"
   ]
  },
  {
   "cell_type": "markdown",
   "id": "f4ca6f56",
   "metadata": {},
   "source": [
    "**Rename Columns**"
   ]
  },
  {
   "cell_type": "code",
   "execution_count": 280,
   "id": "75901788",
   "metadata": {},
   "outputs": [
    {
     "data": {
      "text/html": [
       "<div>\n",
       "<style scoped>\n",
       "    .dataframe tbody tr th:only-of-type {\n",
       "        vertical-align: middle;\n",
       "    }\n",
       "\n",
       "    .dataframe tbody tr th {\n",
       "        vertical-align: top;\n",
       "    }\n",
       "\n",
       "    .dataframe thead th {\n",
       "        text-align: right;\n",
       "    }\n",
       "</style>\n",
       "<table border=\"1\" class=\"dataframe\">\n",
       "  <thead>\n",
       "    <tr style=\"text-align: right;\">\n",
       "      <th></th>\n",
       "      <th>Company Name</th>\n",
       "      <th>Valuation</th>\n",
       "      <th>Date</th>\n",
       "      <th>Industry</th>\n",
       "      <th>City</th>\n",
       "      <th>Country</th>\n",
       "      <th>Continent</th>\n",
       "      <th>Year Founded</th>\n",
       "      <th>Funding</th>\n",
       "      <th>Investors</th>\n",
       "      <th>Year Joined</th>\n",
       "      <th>ROI</th>\n",
       "    </tr>\n",
       "  </thead>\n",
       "  <tbody>\n",
       "    <tr>\n",
       "      <th>292</th>\n",
       "      <td>Scopely</td>\n",
       "      <td>3</td>\n",
       "      <td>2019-10-29</td>\n",
       "      <td>Mobile &amp; telecommunications</td>\n",
       "      <td>Culver City</td>\n",
       "      <td>United States</td>\n",
       "      <td>North America</td>\n",
       "      <td>2011</td>\n",
       "      <td>999.0</td>\n",
       "      <td>Greycroft, Sands Capital, Revolution Growth</td>\n",
       "      <td>2019</td>\n",
       "      <td>996.0</td>\n",
       "    </tr>\n",
       "    <tr>\n",
       "      <th>146</th>\n",
       "      <td>Trade Republic</td>\n",
       "      <td>5</td>\n",
       "      <td>2021-05-20</td>\n",
       "      <td>Fintech</td>\n",
       "      <td>Berlin</td>\n",
       "      <td>Germany</td>\n",
       "      <td>Europe</td>\n",
       "      <td>2015</td>\n",
       "      <td>996.0</td>\n",
       "      <td>Founders Fund, Accel, Creandum</td>\n",
       "      <td>2021</td>\n",
       "      <td>991.0</td>\n",
       "    </tr>\n",
       "    <tr>\n",
       "      <th>1070</th>\n",
       "      <td>Zhuan Zhuan</td>\n",
       "      <td>1</td>\n",
       "      <td>2017-04-18</td>\n",
       "      <td>E-commerce &amp; direct-to-consumer</td>\n",
       "      <td>Beijing</td>\n",
       "      <td>China</td>\n",
       "      <td>Asia</td>\n",
       "      <td>2015</td>\n",
       "      <td>990.0</td>\n",
       "      <td>58.com, Tencent Holdings</td>\n",
       "      <td>2017</td>\n",
       "      <td>989.0</td>\n",
       "    </tr>\n",
       "    <tr>\n",
       "      <th>271</th>\n",
       "      <td>Varo Bank</td>\n",
       "      <td>3</td>\n",
       "      <td>2021-09-09</td>\n",
       "      <td>Fintech</td>\n",
       "      <td>San Francisco</td>\n",
       "      <td>United States</td>\n",
       "      <td>North America</td>\n",
       "      <td>2015</td>\n",
       "      <td>987.0</td>\n",
       "      <td>Warburg Pincus, The Rise Fund, HarbourVest Par...</td>\n",
       "      <td>2021</td>\n",
       "      <td>984.0</td>\n",
       "    </tr>\n",
       "    <tr>\n",
       "      <th>382</th>\n",
       "      <td>Ninja Van</td>\n",
       "      <td>2</td>\n",
       "      <td>2021-09-27</td>\n",
       "      <td>Supply chain, logistics, &amp; delivery</td>\n",
       "      <td>NaN</td>\n",
       "      <td>Singapore</td>\n",
       "      <td>Asia</td>\n",
       "      <td>2014</td>\n",
       "      <td>975.0</td>\n",
       "      <td>B Capital Group, Monk's Hill Ventures, Dynamic...</td>\n",
       "      <td>2021</td>\n",
       "      <td>973.0</td>\n",
       "    </tr>\n",
       "    <tr>\n",
       "      <th>...</th>\n",
       "      <td>...</td>\n",
       "      <td>...</td>\n",
       "      <td>...</td>\n",
       "      <td>...</td>\n",
       "      <td>...</td>\n",
       "      <td>...</td>\n",
       "      <td>...</td>\n",
       "      <td>...</td>\n",
       "      <td>...</td>\n",
       "      <td>...</td>\n",
       "      <td>...</td>\n",
       "      <td>...</td>\n",
       "    </tr>\n",
       "    <tr>\n",
       "      <th>866</th>\n",
       "      <td>Assembly</td>\n",
       "      <td>1</td>\n",
       "      <td>2021-09-21</td>\n",
       "      <td>Internet software &amp; services</td>\n",
       "      <td>Culver City</td>\n",
       "      <td>United States</td>\n",
       "      <td>North America</td>\n",
       "      <td>2019</td>\n",
       "      <td>NaN</td>\n",
       "      <td>Advent International, PSG, Providence Equity P...</td>\n",
       "      <td>2021</td>\n",
       "      <td>NaN</td>\n",
       "    </tr>\n",
       "    <tr>\n",
       "      <th>890</th>\n",
       "      <td>Carson Group</td>\n",
       "      <td>1</td>\n",
       "      <td>2021-07-14</td>\n",
       "      <td>Fintech</td>\n",
       "      <td>Lincoln</td>\n",
       "      <td>United States</td>\n",
       "      <td>North America</td>\n",
       "      <td>2012</td>\n",
       "      <td>NaN</td>\n",
       "      <td>Bain Capital</td>\n",
       "      <td>2021</td>\n",
       "      <td>NaN</td>\n",
       "    </tr>\n",
       "    <tr>\n",
       "      <th>945</th>\n",
       "      <td>Iodine Software</td>\n",
       "      <td>1</td>\n",
       "      <td>2021-12-01</td>\n",
       "      <td>Data management &amp; analytics</td>\n",
       "      <td>Austin</td>\n",
       "      <td>United States</td>\n",
       "      <td>North America</td>\n",
       "      <td>2010</td>\n",
       "      <td>NaN</td>\n",
       "      <td>Advent International, Bain Capital Ventures, S...</td>\n",
       "      <td>2021</td>\n",
       "      <td>NaN</td>\n",
       "    </tr>\n",
       "    <tr>\n",
       "      <th>947</th>\n",
       "      <td>Kendra Scott</td>\n",
       "      <td>1</td>\n",
       "      <td>2016-12-21</td>\n",
       "      <td>Consumer &amp; retail</td>\n",
       "      <td>Austin</td>\n",
       "      <td>United States</td>\n",
       "      <td>North America</td>\n",
       "      <td>2002</td>\n",
       "      <td>NaN</td>\n",
       "      <td>Berkshire Partners, Norwest Venture Partners</td>\n",
       "      <td>2016</td>\n",
       "      <td>NaN</td>\n",
       "    </tr>\n",
       "    <tr>\n",
       "      <th>1002</th>\n",
       "      <td>Poizon</td>\n",
       "      <td>1</td>\n",
       "      <td>2019-04-29</td>\n",
       "      <td>Mobile &amp; telecommunications</td>\n",
       "      <td>Shanghai</td>\n",
       "      <td>China</td>\n",
       "      <td>Asia</td>\n",
       "      <td>2015</td>\n",
       "      <td>NaN</td>\n",
       "      <td>DST Global, Sequoia Capital China, Gaorong Cap...</td>\n",
       "      <td>2019</td>\n",
       "      <td>NaN</td>\n",
       "    </tr>\n",
       "  </tbody>\n",
       "</table>\n",
       "<p>1074 rows × 12 columns</p>\n",
       "</div>"
      ],
      "text/plain": [
       "         Company Name  Valuation        Date  \\\n",
       "292           Scopely          3  2019-10-29   \n",
       "146    Trade Republic          5  2021-05-20   \n",
       "1070      Zhuan Zhuan          1  2017-04-18   \n",
       "271         Varo Bank          3  2021-09-09   \n",
       "382         Ninja Van          2  2021-09-27   \n",
       "...               ...        ...         ...   \n",
       "866          Assembly          1  2021-09-21   \n",
       "890      Carson Group          1  2021-07-14   \n",
       "945   Iodine Software          1  2021-12-01   \n",
       "947      Kendra Scott          1  2016-12-21   \n",
       "1002           Poizon          1  2019-04-29   \n",
       "\n",
       "                                 Industry           City        Country  \\\n",
       "292           Mobile & telecommunications    Culver City  United States   \n",
       "146                               Fintech         Berlin        Germany   \n",
       "1070      E-commerce & direct-to-consumer        Beijing          China   \n",
       "271                               Fintech  San Francisco  United States   \n",
       "382   Supply chain, logistics, & delivery            NaN      Singapore   \n",
       "...                                   ...            ...            ...   \n",
       "866          Internet software & services    Culver City  United States   \n",
       "890                               Fintech        Lincoln  United States   \n",
       "945           Data management & analytics         Austin  United States   \n",
       "947                     Consumer & retail         Austin  United States   \n",
       "1002          Mobile & telecommunications       Shanghai          China   \n",
       "\n",
       "          Continent  Year Founded  Funding  \\\n",
       "292   North America          2011    999.0   \n",
       "146          Europe          2015    996.0   \n",
       "1070           Asia          2015    990.0   \n",
       "271   North America          2015    987.0   \n",
       "382            Asia          2014    975.0   \n",
       "...             ...           ...      ...   \n",
       "866   North America          2019      NaN   \n",
       "890   North America          2012      NaN   \n",
       "945   North America          2010      NaN   \n",
       "947   North America          2002      NaN   \n",
       "1002           Asia          2015      NaN   \n",
       "\n",
       "                                              Investors  Year Joined    ROI  \n",
       "292         Greycroft, Sands Capital, Revolution Growth         2019  996.0  \n",
       "146                      Founders Fund, Accel, Creandum         2021  991.0  \n",
       "1070                           58.com, Tencent Holdings         2017  989.0  \n",
       "271   Warburg Pincus, The Rise Fund, HarbourVest Par...         2021  984.0  \n",
       "382   B Capital Group, Monk's Hill Ventures, Dynamic...         2021  973.0  \n",
       "...                                                 ...          ...    ...  \n",
       "866   Advent International, PSG, Providence Equity P...         2021    NaN  \n",
       "890                                        Bain Capital         2021    NaN  \n",
       "945   Advent International, Bain Capital Ventures, S...         2021    NaN  \n",
       "947        Berkshire Partners, Norwest Venture Partners         2016    NaN  \n",
       "1002  DST Global, Sequoia Capital China, Gaorong Cap...         2019    NaN  \n",
       "\n",
       "[1074 rows x 12 columns]"
      ]
     },
     "execution_count": 280,
     "metadata": {},
     "output_type": "execute_result"
    }
   ],
   "source": [
    "#Rename columns\n",
    "df = pd.DataFrame(df)\n",
    "df.rename(columns = {'Date Joined':'Date'}, inplace = True)\n",
    "df.rename(columns = {'Company':'Company Name'}, inplace = True)\n",
    "df.rename(columns = {'Select Investors':'Investors'}, inplace = True)\n",
    "\n",
    "df"
   ]
  },
  {
   "cell_type": "markdown",
   "id": "5f1ff9dc",
   "metadata": {},
   "source": [
    "## TOP 5 UNICORN COMPANIES WITH BIGGEST RETURN ON INVESTMENT(ROI)"
   ]
  },
  {
   "cell_type": "code",
   "execution_count": 281,
   "id": "3b99d924",
   "metadata": {},
   "outputs": [
    {
     "data": {
      "text/html": [
       "<div>\n",
       "<style scoped>\n",
       "    .dataframe tbody tr th:only-of-type {\n",
       "        vertical-align: middle;\n",
       "    }\n",
       "\n",
       "    .dataframe tbody tr th {\n",
       "        vertical-align: top;\n",
       "    }\n",
       "\n",
       "    .dataframe thead th {\n",
       "        text-align: right;\n",
       "    }\n",
       "</style>\n",
       "<table border=\"1\" class=\"dataframe\">\n",
       "  <thead>\n",
       "    <tr style=\"text-align: right;\">\n",
       "      <th></th>\n",
       "      <th>Company Name</th>\n",
       "      <th>Valuation</th>\n",
       "      <th>Date</th>\n",
       "      <th>Industry</th>\n",
       "      <th>City</th>\n",
       "      <th>Country</th>\n",
       "      <th>Continent</th>\n",
       "      <th>Year Founded</th>\n",
       "      <th>Funding</th>\n",
       "      <th>Investors</th>\n",
       "      <th>Year Joined</th>\n",
       "      <th>ROI</th>\n",
       "    </tr>\n",
       "  </thead>\n",
       "  <tbody>\n",
       "    <tr>\n",
       "      <th>292</th>\n",
       "      <td>Scopely</td>\n",
       "      <td>3</td>\n",
       "      <td>2019-10-29</td>\n",
       "      <td>Mobile &amp; telecommunications</td>\n",
       "      <td>Culver City</td>\n",
       "      <td>United States</td>\n",
       "      <td>North America</td>\n",
       "      <td>2011</td>\n",
       "      <td>999.0</td>\n",
       "      <td>Greycroft, Sands Capital, Revolution Growth</td>\n",
       "      <td>2019</td>\n",
       "      <td>996.0</td>\n",
       "    </tr>\n",
       "    <tr>\n",
       "      <th>146</th>\n",
       "      <td>Trade Republic</td>\n",
       "      <td>5</td>\n",
       "      <td>2021-05-20</td>\n",
       "      <td>Fintech</td>\n",
       "      <td>Berlin</td>\n",
       "      <td>Germany</td>\n",
       "      <td>Europe</td>\n",
       "      <td>2015</td>\n",
       "      <td>996.0</td>\n",
       "      <td>Founders Fund, Accel, Creandum</td>\n",
       "      <td>2021</td>\n",
       "      <td>991.0</td>\n",
       "    </tr>\n",
       "    <tr>\n",
       "      <th>1070</th>\n",
       "      <td>Zhuan Zhuan</td>\n",
       "      <td>1</td>\n",
       "      <td>2017-04-18</td>\n",
       "      <td>E-commerce &amp; direct-to-consumer</td>\n",
       "      <td>Beijing</td>\n",
       "      <td>China</td>\n",
       "      <td>Asia</td>\n",
       "      <td>2015</td>\n",
       "      <td>990.0</td>\n",
       "      <td>58.com, Tencent Holdings</td>\n",
       "      <td>2017</td>\n",
       "      <td>989.0</td>\n",
       "    </tr>\n",
       "    <tr>\n",
       "      <th>271</th>\n",
       "      <td>Varo Bank</td>\n",
       "      <td>3</td>\n",
       "      <td>2021-09-09</td>\n",
       "      <td>Fintech</td>\n",
       "      <td>San Francisco</td>\n",
       "      <td>United States</td>\n",
       "      <td>North America</td>\n",
       "      <td>2015</td>\n",
       "      <td>987.0</td>\n",
       "      <td>Warburg Pincus, The Rise Fund, HarbourVest Par...</td>\n",
       "      <td>2021</td>\n",
       "      <td>984.0</td>\n",
       "    </tr>\n",
       "    <tr>\n",
       "      <th>382</th>\n",
       "      <td>Ninja Van</td>\n",
       "      <td>2</td>\n",
       "      <td>2021-09-27</td>\n",
       "      <td>Supply chain, logistics, &amp; delivery</td>\n",
       "      <td>NaN</td>\n",
       "      <td>Singapore</td>\n",
       "      <td>Asia</td>\n",
       "      <td>2014</td>\n",
       "      <td>975.0</td>\n",
       "      <td>B Capital Group, Monk's Hill Ventures, Dynamic...</td>\n",
       "      <td>2021</td>\n",
       "      <td>973.0</td>\n",
       "    </tr>\n",
       "  </tbody>\n",
       "</table>\n",
       "</div>"
      ],
      "text/plain": [
       "        Company Name  Valuation        Date  \\\n",
       "292          Scopely          3  2019-10-29   \n",
       "146   Trade Republic          5  2021-05-20   \n",
       "1070     Zhuan Zhuan          1  2017-04-18   \n",
       "271        Varo Bank          3  2021-09-09   \n",
       "382        Ninja Van          2  2021-09-27   \n",
       "\n",
       "                                 Industry           City        Country  \\\n",
       "292           Mobile & telecommunications    Culver City  United States   \n",
       "146                               Fintech         Berlin        Germany   \n",
       "1070      E-commerce & direct-to-consumer        Beijing          China   \n",
       "271                               Fintech  San Francisco  United States   \n",
       "382   Supply chain, logistics, & delivery            NaN      Singapore   \n",
       "\n",
       "          Continent  Year Founded  Funding  \\\n",
       "292   North America          2011    999.0   \n",
       "146          Europe          2015    996.0   \n",
       "1070           Asia          2015    990.0   \n",
       "271   North America          2015    987.0   \n",
       "382            Asia          2014    975.0   \n",
       "\n",
       "                                              Investors  Year Joined    ROI  \n",
       "292         Greycroft, Sands Capital, Revolution Growth         2019  996.0  \n",
       "146                      Founders Fund, Accel, Creandum         2021  991.0  \n",
       "1070                           58.com, Tencent Holdings         2017  989.0  \n",
       "271   Warburg Pincus, The Rise Fund, HarbourVest Par...         2021  984.0  \n",
       "382   B Capital Group, Monk's Hill Ventures, Dynamic...         2021  973.0  "
      ]
     },
     "execution_count": 281,
     "metadata": {},
     "output_type": "execute_result"
    }
   ],
   "source": [
    "#Top 5 Unicorn Companies with biggest Return on Investment(ROI)\n",
    "df = df.sort_values(by='ROI', ascending=False)\n",
    "df.head(5)"
   ]
  },
  {
   "cell_type": "code",
   "execution_count": 200,
   "id": "57a7399a",
   "metadata": {
    "scrolled": false
   },
   "outputs": [
    {
     "data": {
      "text/plain": [
       "Text(0, 0.5, 'ROI')"
      ]
     },
     "execution_count": 200,
     "metadata": {},
     "output_type": "execute_result"
    },
    {
     "data": {
      "image/png": "[encoded data removed]",
      "text/plain": [
       "<Figure size 640x480 with 1 Axes>"
      ]
     },
     "metadata": {},
     "output_type": "display_data"
    }
   ],
   "source": [
    "# Sort the dataframe by ROI in descending order and select the top 5 companies\n",
    "top_5_roi = df.sort_values('ROI', ascending=False).head(5)\n",
    "\n",
    "# Plot a bar graph of the top 5 companies with the biggest ROI\n",
    "plt.bar(top_5_roi['Company Name'], top_5_roi['ROI'])\n",
    "\n",
    "# Set the title and axis labels\n",
    "plt.title('Top 5 Unicorn Companies with Biggest ROI')\n",
    "plt.xlabel('Company Name')\n",
    "plt.ylabel('ROI')\n",
    "\n",
    "# Rotate the x-axis labels for better readability"
   ]
  },
  {
   "cell_type": "markdown",
   "id": "a2748e4d",
   "metadata": {},
   "source": [
    "**Based on the graph of the top 5 unicorn companies with the biggest ROI, we can make the following observations:**\n",
    "\n",
    "1.The companies with the biggest ROI are Scopely, Trade Republic, Zhuan Zhuan, Varo Bank, and Ninja Van.\n",
    "\n",
    "2.Scopely has the highest ROI among the top 5 companies, followed by Trade Republic, Zhuan Zhuan, Varo Bank, and Ninja Van.\n",
    "\n",
    "3.It is important to note that ROI is a measure of the return on investment relative to the initial investment made in each company.\n",
    "\n",
    "4.These companies have demonstrated significant growth and generated substantial returns for their investors.\n",
    "\n",
    "5.The industries represented among the top 5 companies include mobile & telecommunications, fintech, e-commerce & direct-to-consumer, and supply chain logistics.\n",
    "\n",
    "6.The companies are headquartered in various cities and countries, including Culver City (United States), Berlin (Germany), Beijing (China), San Francisco (United States), and Singapore.\n",
    "\n",
    "7.The ROI values for these companies range from 973% to 996%, indicating the substantial returns achieved by their investors.\n",
    "\n",
    "8.It is worth noting that ROI alone does not provide a complete picture of a company's overall success or financial performance. Other factors such as revenue, profitability, and market share should also be considered when evaluating a company's success.\n",
    "\n",
    "These observations highlight the success and profitability of these top unicorn companies, showcasing their ability to generate significant returns for their investors.\n",
    "\n"
   ]
  },
  {
   "cell_type": "code",
   "execution_count": 283,
   "id": "2b2d20f9",
   "metadata": {},
   "outputs": [
    {
     "data": {
      "image/png": "[encoded data removed]",
      "text/plain": [
       "<Figure size 800x800 with 1 Axes>"
      ]
     },
     "metadata": {},
     "output_type": "display_data"
    }
   ],
   "source": [
    "# Sort the data by ROI in descending order and select the top 5 companies\n",
    "top_5_roi_companies = df.sort_values(by='ROI', ascending=False).head(5)\n",
    "\n",
    "# Create a pie chart of the top 5 companies by ROI\n",
    "plt.figure(figsize=(8, 8))\n",
    "plt.pie(top_5_roi_companies['ROI'], labels=top_5_roi_companies['Company Name'], autopct='%1.1f%%')\n",
    "plt.title('Top 5 Companies with the Biggest ROI')\n",
    "plt.show()"
   ]
  },
  {
   "cell_type": "markdown",
   "id": "ff58f6d0",
   "metadata": {},
   "source": [
    "**Some observations:**\n",
    "\n",
    "1. Concentration of ROI: The pie chart shows the distribution of ROI among the top 5 companies. It is evident that a few companies have achieved significant ROI compared to others, as indicated by their larger slices in the chart.\n",
    "\n",
    "2. Leading Companies: The companies represented by the larger slices in the pie chart are the top performers in terms of ROI. These companies have generated substantial returns on their investments, which makes them notable players in the market.\n",
    "\n",
    "3. ROI Disparities: There may be noticeable disparities in ROI between the top 5 companies. Some companies might have achieved exceptionally high ROI, while others might have relatively lower ROI within this group.\n",
    "\n",
    "4. Investment Success: The pie chart highlights successful investments, as companies with high ROI indicate profitable ventures. It suggests that these companies have effectively utilized their resources and generated significant returns for their investors."
   ]
  },
  {
   "cell_type": "code",
   "execution_count": 149,
   "id": "d7a435d5",
   "metadata": {},
   "outputs": [
    {
     "data": {
      "text/html": [
       "<div>\n",
       "<style scoped>\n",
       "    .dataframe tbody tr th:only-of-type {\n",
       "        vertical-align: middle;\n",
       "    }\n",
       "\n",
       "    .dataframe tbody tr th {\n",
       "        vertical-align: top;\n",
       "    }\n",
       "\n",
       "    .dataframe thead th {\n",
       "        text-align: right;\n",
       "    }\n",
       "</style>\n",
       "<table border=\"1\" class=\"dataframe\">\n",
       "  <thead>\n",
       "    <tr style=\"text-align: right;\">\n",
       "      <th></th>\n",
       "      <th>Valuation</th>\n",
       "      <th>Year Founded</th>\n",
       "      <th>Funding</th>\n",
       "      <th>Year Joined</th>\n",
       "    </tr>\n",
       "  </thead>\n",
       "  <tbody>\n",
       "    <tr>\n",
       "      <th>count</th>\n",
       "      <td>1074</td>\n",
       "      <td>1074</td>\n",
       "      <td>1062</td>\n",
       "      <td>1074</td>\n",
       "    </tr>\n",
       "    <tr>\n",
       "      <th>mean</th>\n",
       "      <td>3</td>\n",
       "      <td>2012</td>\n",
       "      <td>338</td>\n",
       "      <td>2019</td>\n",
       "    </tr>\n",
       "    <tr>\n",
       "      <th>std</th>\n",
       "      <td>8</td>\n",
       "      <td>5</td>\n",
       "      <td>237</td>\n",
       "      <td>2</td>\n",
       "    </tr>\n",
       "    <tr>\n",
       "      <th>min</th>\n",
       "      <td>1</td>\n",
       "      <td>1919</td>\n",
       "      <td>0</td>\n",
       "      <td>2007</td>\n",
       "    </tr>\n",
       "    <tr>\n",
       "      <th>25%</th>\n",
       "      <td>1</td>\n",
       "      <td>2011</td>\n",
       "      <td>166</td>\n",
       "      <td>2019</td>\n",
       "    </tr>\n",
       "    <tr>\n",
       "      <th>50%</th>\n",
       "      <td>2</td>\n",
       "      <td>2014</td>\n",
       "      <td>300</td>\n",
       "      <td>2021</td>\n",
       "    </tr>\n",
       "    <tr>\n",
       "      <th>75%</th>\n",
       "      <td>3</td>\n",
       "      <td>2016</td>\n",
       "      <td>491</td>\n",
       "      <td>2021</td>\n",
       "    </tr>\n",
       "    <tr>\n",
       "      <th>max</th>\n",
       "      <td>180</td>\n",
       "      <td>2021</td>\n",
       "      <td>999</td>\n",
       "      <td>2022</td>\n",
       "    </tr>\n",
       "  </tbody>\n",
       "</table>\n",
       "</div>"
      ],
      "text/plain": [
       "       Valuation  Year Founded  Funding  Year Joined\n",
       "count       1074          1074     1062         1074\n",
       "mean           3          2012      338         2019\n",
       "std            8             5      237            2\n",
       "min            1          1919        0         2007\n",
       "25%            1          2011      166         2019\n",
       "50%            2          2014      300         2021\n",
       "75%            3          2016      491         2021\n",
       "max          180          2021      999         2022"
      ]
     },
     "execution_count": 149,
     "metadata": {},
     "output_type": "execute_result"
    }
   ],
   "source": [
    "# Get descriptive statistics such as mean, standard deviation, and range of the numerical columns in the dataset.\n",
    "df.describe().astype('int')"
   ]
  },
  {
   "cell_type": "code",
   "execution_count": 150,
   "id": "a21dc10e",
   "metadata": {},
   "outputs": [
    {
     "name": "stdout",
     "output_type": "stream",
     "text": [
      "<class 'pandas.core.frame.DataFrame'>\n",
      "RangeIndex: 1074 entries, 0 to 1073\n",
      "Data columns (total 11 columns):\n",
      " #   Column        Non-Null Count  Dtype  \n",
      "---  ------        --------------  -----  \n",
      " 0   Company Name  1074 non-null   object \n",
      " 1   Valuation     1074 non-null   int64  \n",
      " 2   Date          1074 non-null   object \n",
      " 3   Industry      1074 non-null   object \n",
      " 4   City          1058 non-null   object \n",
      " 5   Country       1074 non-null   object \n",
      " 6   Continent     1074 non-null   object \n",
      " 7   Year Founded  1074 non-null   int64  \n",
      " 8   Funding       1062 non-null   float64\n",
      " 9   Investors     1073 non-null   object \n",
      " 10  Year Joined   1074 non-null   int64  \n",
      "dtypes: float64(1), int64(3), object(7)\n",
      "memory usage: 92.4+ KB\n"
     ]
    }
   ],
   "source": [
    "df.info()"
   ]
  },
  {
   "cell_type": "markdown",
   "id": "ea11d60e",
   "metadata": {},
   "source": [
    "**Domination of Industries in Unicorn Company**"
   ]
  },
  {
   "cell_type": "code",
   "execution_count": 145,
   "id": "b9e95ea5",
   "metadata": {},
   "outputs": [
    {
     "data": {
      "application/vnd.plotly.v1+json": {
       "config": {
        "plotlyServerURL": "https://plot.ly"
       },
       "data": [
        {
         "domain": {
          "x": [
           0,
           1
          ],
          "y": [
           0,
           1
          ]
         },
         "hovertemplate": "Industry=%{label}<extra></extra>",
         "labels": [
          "Artificial intelligence",
          "Other",
          "E-commerce & direct-to-consumer",
          "Fintech",
          "Fintech",
          "Internet software & services",
          "Fintech",
          "Supply chain, logistics, & delivery",
          "Consumer & retail",
          "Data management & analytics",
          "Fintech",
          "Other",
          "Fintech",
          "E-commerce & direct-to-consumer",
          "Fintech",
          "Edtech",
          "Supply chain, logistics, & delivery",
          "E-commerce & direct-to-consumer",
          "Internet software & services",
          "Edtech",
          "Fintech",
          "Internet software & services",
          "Consumer & retail",
          "E-commerce & direct-to-consumer",
          "Fintech",
          "Fintech",
          "Health",
          "E-commerce & direct-to-consumer",
          "Internet software & services",
          "Artificial intelligence",
          "Other",
          "Artificial intelligence",
          "Internet software & services",
          "Fintech",
          "E-commerce & direct-to-consumer",
          "Health",
          "Hardware",
          "Internet software & services",
          "E-commerce & direct-to-consumer",
          "Auto & transportation",
          "Auto & transportation",
          "Supply chain, logistics, & delivery",
          "Consumer & retail",
          "Hardware",
          "Fintech",
          "Data management & analytics",
          "Edtech",
          "Fintech",
          "Travel",
          "Internet software & services",
          "Internet software & services",
          "Fintech",
          "E-commerce & direct-to-consumer",
          "Fintech",
          "Internet software & services",
          "Fintech",
          "Supply chain, logistics, & delivery",
          "Internet software & services",
          "Internet software & services",
          "Internet software & services",
          "Other",
          "Fintech",
          "Travel",
          "Artificial intelligence",
          "Auto & transportation",
          "Cybersecurity",
          "E-commerce & direct-to-consumer",
          "Fintech",
          "Internet software & services",
          "Mobile & telecommunications",
          "Cybersecurity",
          "Internet software & services",
          "Hardware",
          "Cybersecurity",
          "Fintech",
          "Fintech",
          "Cybersecurity",
          "Fintech",
          "Internet software & services",
          "Health",
          "Fintech",
          "Health",
          "Fintech",
          "Supply chain, logistics, & delivery",
          "Fintech",
          "Mobile & telecommunications",
          "Consumer & retail",
          "Fintech",
          "Mobile & telecommunications",
          "Auto & transportation",
          "Internet software & services",
          "Fintech",
          "Fintech",
          "E-commerce & direct-to-consumer",
          "Artificial intelligence",
          "Artificial intelligence",
          "Travel",
          "Cybersecurity",
          "Artificial intelligence",
          "Fintech",
          "Fintech",
          "Health",
          "Other",
          "Consumer & retail",
          "Health",
          "Auto & transportation",
          "Fintech",
          "Fintech",
          "Fintech",
          "Fintech",
          "Health",
          "Data management & analytics",
          "Internet software & services",
          "E-commerce & direct-to-consumer",
          "Health",
          "Artificial intelligence",
          "Internet software & services",
          "Supply chain, logistics, & delivery",
          "Internet software & services",
          "Internet software & services",
          "Fintech",
          "E-commerce & direct-to-consumer",
          "Health",
          "Health",
          "Internet software & services",
          "Fintech",
          "Fintech",
          "Cybersecurity",
          "Internet software & services",
          "Other",
          "Internet software & services",
          "Hardware",
          "Artificial intelligence",
          "Hardware",
          "Fintech",
          "Cybersecurity",
          "Edtech",
          "E-commerce & direct-to-consumer",
          "Fintech",
          "Hardware",
          "Artificial intelligence",
          "Internet software & services",
          "Health",
          "Internet software & services",
          "Internet software & services",
          "Fintech",
          "Fintech",
          "Hardware",
          "Data management & analytics",
          "Supply chain, logistics, & delivery",
          "Artificial intelligence",
          "Health",
          "Fintech",
          "Internet software & services",
          "E-commerce & direct-to-consumer",
          "Fintech",
          "Data management & analytics",
          "Travel",
          "Artificial intelligence",
          "Mobile & telecommunications",
          "E-commerce & direct-to-consumer",
          "Auto & transportation",
          "Fintech",
          "Fintech",
          "Data management & analytics",
          "Health",
          "Auto & transportation",
          "Fintech",
          "Health",
          "Fintech",
          "Mobile & telecommunications",
          "Health",
          "Mobile & telecommunications",
          "Internet software & services",
          "E-commerce & direct-to-consumer",
          "Fintech",
          "Artificial intelligence",
          "Fintech",
          "Fintech",
          "Fintech",
          "Cybersecurity",
          "Internet software & services",
          "Hardware",
          "Internet software & services",
          "Internet software & services",
          "Artificial intelligence",
          "E-commerce & direct-to-consumer",
          "Internet software & services",
          "Internet software & services",
          "Health",
          "Internet software & services",
          "Auto & transportation",
          "Data management & analytics",
          "Edtech",
          "Internet software & services",
          "E-commerce & direct-to-consumer",
          "Cybersecurity",
          "E-commerce & direct-to-consumer",
          "Health",
          "Internet software & services",
          "Other",
          "Internet software & services",
          "E-commerce & direct-to-consumer",
          "Data management & analytics",
          "Edtech",
          "E-commerce & direct-to-consumer",
          "Fintech",
          "Internet software & services",
          "Fintech",
          "Data management & analytics",
          "Internet software & services",
          "Health",
          "Other",
          "E-commerce & direct-to-consumer",
          "Internet software & services",
          "E-commerce & direct-to-consumer",
          "Fintech",
          "Artificial intelligence",
          "Supply chain, logistics, & delivery",
          "Health",
          "Auto & transportation",
          "Internet software & services",
          "Mobile & telecommunications",
          "Internet software & services",
          "Hardware",
          "Internet software & services",
          "Mobile & telecommunications",
          "Other",
          "E-commerce & direct-to-consumer",
          "Artificial intelligence",
          "Fintech",
          "Fintech",
          "Internet software & services",
          "Internet software & services",
          "Internet software & services",
          "Data management & analytics",
          "E-commerce & direct-to-consumer",
          "Internet software & services",
          "Fintech",
          "Internet software & services",
          "Other",
          "Supply chain, logistics, & delivery",
          "E-commerce & direct-to-consumer",
          "Artificial intelligence",
          "Fintech",
          "Other",
          "Mobile & telecommunications",
          "Internet software & services",
          "Fintech",
          "Fintech",
          "Supply chain, logistics, & delivery",
          "Artificial intelligence",
          "Mobile & telecommunications",
          "Data management & analytics",
          "Cybersecurity",
          "Other",
          "Cybersecurity",
          "Cybersecurity",
          "Auto & transportation",
          "Cybersecurity",
          "Fintech",
          "E-commerce & direct-to-consumer",
          "Internet software & services",
          "Edtech",
          "Fintech",
          "E-commerce & direct-to-consumer",
          "Internet software & services",
          "Hardware",
          "Health",
          "Cybersecurity",
          "Artificial Intelligence",
          "Fintech",
          "Internet software & services",
          "Health",
          "Edtech",
          "Cybersecurity",
          "Internet software & services",
          "E-commerce & direct-to-consumer",
          "Internet software & services",
          "Internet software & services",
          "Data management & analytics",
          "Supply chain, logistics, & delivery",
          "Internet software & services",
          "Data management & analytics",
          "Data management & analytics",
          "Auto & transportation",
          "Internet software & services",
          "E-commerce & direct-to-consumer",
          "Fintech",
          "Health",
          "Internet software & services",
          "Artificial intelligence",
          "Mobile & telecommunications",
          "Other",
          "Auto & transportation",
          "Cybersecurity",
          "Fintech",
          "Supply chain, logistics, & delivery",
          "Mobile & telecommunications",
          "Cybersecurity",
          "Edtech",
          "Artificial intelligence",
          "Edtech",
          "Fintech",
          "Fintech",
          "Internet software & services",
          "Edtech",
          "Health",
          "Internet software & services",
          "E-commerce & direct-to-consumer",
          "E-commerce & direct-to-consumer",
          "Supply chain, logistics, & delivery",
          "Fintech",
          "Fintech",
          "E-commerce & direct-to-consumer",
          "Hardware",
          "Fintech",
          "E-commerce & direct-to-consumer",
          "Fintech",
          "E-commerce & direct-to-consumer",
          "E-commerce & direct-to-consumer",
          "Supply chain, logistics, & delivery",
          "Internet software & services",
          "Internet software & services",
          "Edtech",
          "Fintech",
          "Fintech",
          "Fintech",
          "Internet software & services",
          "Health",
          "Fintech",
          "Health",
          "Internet software & services",
          "Fintech",
          "Supply chain, logistics, & delivery",
          "Auto & transportation",
          "Fintech",
          "Cybersecurity",
          "Internet software & services",
          "Fintech",
          "Fintech",
          "E-commerce & direct-to-consumer",
          "Internet software & services",
          "Internet software & services",
          "Internet software & services",
          "Edtech",
          "Internet software & services",
          "Fintech",
          "Internet software & services",
          "Internet software & services",
          "E-commerce & direct-to-consumer",
          "Fintech",
          "Travel",
          "Fintech",
          "Other",
          "Internet software & services",
          "Fintech",
          "Fintech",
          "Fintech",
          "Mobile & telecommunications",
          "E-commerce & direct-to-consumer",
          "Fintech",
          "Fintech",
          "Edtech",
          "E-commerce & direct-to-consumer",
          "Auto & transportation",
          "Edtech",
          "Artificial intelligence",
          "E-commerce & direct-to-consumer",
          "Hardware",
          "Data management & analytics",
          "Fintech",
          "Fintech",
          "Consumer & retail",
          "E-commerce & direct-to-consumer",
          "Mobile & telecommunications",
          "Other",
          "Fintech",
          "Cybersecurity",
          "Other",
          "Mobile & telecommunications",
          "Health",
          "Supply chain, logistics, & delivery",
          "Internet software & services",
          "E-commerce & direct-to-consumer",
          "E-commerce & direct-to-consumer",
          "Consumer & retail",
          "Hardware",
          "Fintech",
          "Health",
          "Fintech",
          "Internet software & services",
          "Internet software & services",
          "Fintech",
          "Health",
          "Internet software & services",
          "Fintech",
          "Data management & analytics",
          "Fintech",
          "Fintech",
          "Internet software & services",
          "Data management & analytics",
          "Supply chain, logistics, & delivery",
          "Auto & transportation",
          "Cybersecurity",
          "Internet software & services",
          "Hardware",
          "Internet software & services",
          "Data management & analytics",
          "Artificial intelligence",
          "Data management & analytics",
          "Hardware",
          "Artificial Intelligence",
          "E-commerce & direct-to-consumer",
          "Fintech",
          "Internet software & services",
          "Cybersecurity",
          "Internet software & services",
          "Fintech",
          "Other",
          "Other",
          "Internet software & services",
          "Internet software & services",
          "Travel",
          "Other",
          "Supply chain, logistics, & delivery",
          "Artificial intelligence",
          "E-commerce & direct-to-consumer",
          "Internet software & services",
          "Fintech",
          "Internet software & services",
          "Internet software & services",
          "Fintech",
          "Other",
          "Auto & transportation",
          "Other",
          "Artificial intelligence",
          "Artificial intelligence",
          "Cybersecurity",
          "Auto & transportation",
          "Fintech",
          "Hardware",
          "Internet software & services",
          "Artificial Intelligence",
          "Cybersecurity",
          "Supply chain, logistics, & delivery",
          "Fintech",
          "Internet software & services",
          "Hardware",
          "Fintech",
          "Fintech",
          "Internet software & services",
          "Fintech",
          "E-commerce & direct-to-consumer",
          "Health",
          "Health",
          "Cybersecurity",
          "Fintech",
          "Internet software & services",
          "Health",
          "Other",
          "Consumer & retail",
          "Internet software & services",
          "Internet software & services",
          "Internet software & services",
          "Fintech",
          "E-commerce & direct-to-consumer",
          "Fintech",
          "Hardware",
          "Other",
          "E-commerce & direct-to-consumer",
          "Internet software & services",
          "E-commerce & direct-to-consumer",
          "Health",
          "Cybersecurity",
          "Supply chain, logistics, & delivery",
          "Artificial intelligence",
          "Artificial intelligence",
          "Consumer & retail",
          "Consumer & retail",
          "Internet software & services",
          "Data management & analytics",
          "Fintech",
          "E-commerce & direct-to-consumer",
          "Fintech",
          "Fintech",
          "Other",
          "Fintech",
          "Supply chain, logistics, & delivery",
          "Internet software & services",
          "Other",
          "Artificial intelligence",
          "Fintech",
          "Internet software & services",
          "Internet software & services",
          "E-commerce & direct-to-consumer",
          "Cybersecurity",
          "Consumer & retail",
          "Auto & transportation",
          "Fintech",
          "Artificial intelligence",
          "Fintech",
          "Internet software & services",
          "Supply chain, logistics, & delivery",
          "Internet software & services",
          "E-commerce & direct-to-consumer",
          "Other",
          "Health",
          "Other",
          "Internet software & services",
          "Artificial intelligence",
          "Hardware",
          "Health",
          "Other",
          "Mobile & telecommunications",
          "Fintech",
          "Artificial intelligence",
          "Fintech",
          "Internet software & services",
          "Auto & transportation",
          "Fintech",
          "Health",
          "Fintech",
          "Artificial Intelligence",
          "Internet software & services",
          "E-commerce & direct-to-consumer",
          "Supply chain, logistics, & delivery",
          "Fintech",
          "Internet software & services",
          "Fintech",
          "Internet software & services",
          "Artificial intelligence",
          "Fintech",
          "Fintech",
          "Fintech",
          "Fintech",
          "E-commerce & direct-to-consumer",
          "Internet software & services",
          "Fintech",
          "E-commerce & direct-to-consumer",
          "Artificial intelligence",
          "Artificial intelligence",
          "Internet software & services",
          "E-commerce & direct-to-consumer",
          "Other",
          "Mobile & telecommunications",
          "Artificial intelligence",
          "Internet software & services",
          "Auto & transportation",
          "Artificial intelligence",
          "Fintech",
          "Consumer & retail",
          "Fintech",
          "Fintech",
          "Data management & analytics",
          "Fintech",
          "Internet software & services",
          "Supply chain, logistics, & delivery",
          "Fintech",
          "Data management & analytics",
          "Data management & analytics",
          "Internet software & services",
          "Hardware",
          "Hardware",
          "Consumer & retail",
          "Artificial intelligence",
          "E-commerce & direct-to-consumer",
          "Supply chain, logistics, & delivery",
          "Internet software & services",
          "Internet software & services",
          "Cybersecurity",
          "Mobile & telecommunications",
          "Health",
          "Supply chain, logistics, & delivery",
          "Internet software & services",
          "Fintech",
          "Travel",
          "Hardware",
          "E-commerce & direct-to-consumer",
          "Fintech",
          "Internet software & services",
          "Fintech",
          "Data management & analytics",
          "Internet software & services",
          "Other",
          "Fintech",
          "Fintech",
          "Artificial intelligence",
          "Internet software & services",
          "Data management & analytics",
          "Mobile & telecommunications",
          "Health",
          "Cybersecurity",
          "Health",
          "Travel",
          "Consumer & retail",
          "Fintech",
          "Artificial intelligence",
          "Health",
          "Internet software & services",
          "E-commerce & direct-to-consumer",
          "Artificial intelligence",
          "Fintech",
          "Supply chain, logistics, & delivery",
          "Health",
          "Health",
          "Data management & analytics",
          "Mobile & telecommunications",
          "Hardware",
          "Fintech",
          "Artificial intelligence",
          "Health",
          "Auto & transportation",
          "Health",
          "E-commerce & direct-to-consumer",
          "Auto & transportation",
          "Internet software & services",
          "Artificial intelligence",
          "E-commerce & direct-to-consumer",
          "Fintech",
          "Edtech",
          "Fintech",
          "Edtech",
          "Fintech",
          "Supply chain, logistics, & delivery",
          "Internet software & services",
          "Supply chain, logistics, & delivery",
          "Supply chain, logistics, & delivery",
          "Other",
          "Mobile & telecommunications",
          "Fintech",
          "Health",
          "Other",
          "Internet software & services",
          "Edtech",
          "Internet software & services",
          "Auto & transportation",
          "Artificial Intelligence",
          "Health",
          "Other",
          "E-commerce & direct-to-consumer",
          "Fintech",
          "Mobile & telecommunications",
          "Artificial Intelligence",
          "Supply chain, logistics, & delivery",
          "Health",
          "Artificial intelligence",
          "Cybersecurity",
          "Mobile & telecommunications",
          "Fintech",
          "Internet software & services",
          "Fintech",
          "Internet software & services",
          "Supply chain, logistics, & delivery",
          "Supply chain, logistics, & delivery",
          "E-commerce & direct-to-consumer",
          "Other",
          "Auto & transportation",
          "E-commerce & direct-to-consumer",
          "Auto & transportation",
          "Consumer & retail",
          "Fintech",
          "Fintech",
          "Internet software & services",
          "Fintech",
          "Internet software & services",
          "Cybersecurity",
          "Mobile & telecommunications",
          "Fintech",
          "Health",
          "Data management & analytics",
          "E-commerce & direct-to-consumer",
          "E-commerce & direct-to-consumer",
          "Health",
          "E-commerce & direct-to-consumer",
          "Fintech",
          "Fintech",
          "Travel",
          "Consumer & retail",
          "Supply chain, logistics, & delivery",
          "Auto & transportation",
          "Cybersecurity",
          "Hardware",
          "E-commerce & direct-to-consumer",
          "Fintech",
          "Internet software & services",
          "Health",
          "Mobile & telecommunications",
          "E-commerce & direct-to-consumer",
          "Auto & transportation",
          "Health",
          "Internet software & services",
          "Internet software & services",
          "Edtech",
          "Fintech",
          "Internet software & services",
          "Internet software & services",
          "Internet software & services",
          "Data management & analytics",
          "Other",
          "Internet software & services",
          "Internet software & services",
          "E-commerce & direct-to-consumer",
          "Cybersecurity",
          "Health",
          "Health",
          "E-commerce & direct-to-consumer",
          "Cybersecurity",
          "Fintech",
          "Artificial intelligence",
          "Fintech",
          "Fintech",
          "Mobile & telecommunications",
          "Internet software & services",
          "Mobile & telecommunications",
          "Internet software & services",
          "Fintech",
          "E-commerce & direct-to-consumer",
          "Fintech",
          "Other",
          "Travel",
          "Health",
          "Fintech",
          "E-commerce & direct-to-consumer",
          "E-commerce & direct-to-consumer",
          "Health",
          "Other",
          "E-commerce & direct-to-consumer",
          "Cybersecurity",
          "Artificial intelligence",
          "Fintech",
          "Other",
          "Fintech",
          "Internet software & services",
          "Internet software & services",
          "Supply chain, logistics, & delivery",
          "Health",
          "Internet software & services",
          "Fintech",
          "Fintech",
          "Internet software & services",
          "Supply chain, logistics, & delivery",
          "Fintech",
          "Other",
          "Other",
          "Travel",
          "Data management & analytics",
          "Internet software & services",
          "Other",
          "Cybersecurity",
          "Fintech",
          "Internet software & services",
          "Internet software & services",
          "Cybersecurity",
          "Internet software & services",
          "Fintech",
          "Internet software & services",
          "Supply chain, logistics, & delivery",
          "Internet software & services",
          "Other",
          "Mobile & telecommunications",
          "Internet software & services",
          "Other",
          "Artificial intelligence",
          "Fintech",
          "Internet software & services",
          "Artificial intelligence",
          "E-commerce & direct-to-consumer",
          "Data management & analytics",
          "Fintech",
          "Fintech",
          "Internet software & services",
          "E-commerce & direct-to-consumer",
          "Internet software & services",
          "Other",
          "E-commerce & direct-to-consumer",
          "E-commerce & direct-to-consumer",
          "E-commerce & direct-to-consumer",
          "Internet software & services",
          "E-commerce & direct-to-consumer",
          "E-commerce & direct-to-consumer",
          "Internet software & services",
          "Fintech",
          "Fintech",
          "Health",
          "Fintech",
          "Data management & analytics",
          "Supply chain, logistics, & delivery",
          "Internet software & services",
          "Artificial Intelligence",
          "Internet software & services",
          "Edtech",
          "Internet software & services",
          "Supply chain, logistics, & delivery",
          "Consumer & retail",
          "Artificial intelligence",
          "Edtech",
          "Internet software & services",
          "Health",
          "Auto & transportation",
          "Data management & analytics",
          "Health",
          "Fintech",
          "Fintech",
          "Artificial intelligence",
          "Supply chain, logistics, & delivery",
          "Fintech",
          "Fintech",
          "Fintech",
          "Internet software & services",
          "Cybersecurity",
          "E-commerce & direct-to-consumer",
          "Other",
          "Fintech",
          "E-commerce & direct-to-consumer",
          "Internet software & services",
          "Cybersecurity",
          "Other",
          "Fintech",
          "Internet software & services",
          "Hardware",
          "Travel",
          "E-commerce & direct-to-consumer",
          "Fintech",
          "E-commerce & direct-to-consumer",
          "Internet software & services",
          "Edtech",
          "Data management & analytics",
          "Internet software & services",
          "E-commerce & direct-to-consumer",
          "Health",
          "Supply chain, logistics, & delivery",
          "Data management & analytics",
          "Internet software & services",
          "Fintech",
          "Mobile & telecommunications",
          "Fintech",
          "Fintech",
          "Internet software & services",
          "E-commerce & direct-to-consumer",
          "Fintech",
          "Supply chain, logistics, & delivery",
          "Other",
          "Auto & transportation",
          "Fintech",
          "Hardware",
          "Data management & analytics",
          "E-commerce & direct-to-consumer",
          "Fintech",
          "Internet software & services",
          "Mobile & telecommunications",
          "Artificial intelligence",
          "Auto & transportation",
          "Hardware",
          "Internet software & services",
          "Hardware",
          "Artificial intelligence",
          "Internet software & services",
          "Fintech",
          "Health",
          "Internet software & services",
          "Fintech",
          "Artificial intelligence",
          "Artificial Intelligence",
          "Internet software & services",
          "Cybersecurity",
          "Internet software & services",
          "Supply chain, logistics, & delivery",
          "Artificial intelligence",
          "Internet software & services",
          "Other",
          "Auto & transportation",
          "E-commerce & direct-to-consumer",
          "Artificial intelligence",
          "E-commerce & direct-to-consumer",
          "Artificial intelligence",
          "Hardware",
          "Supply chain, logistics, & delivery",
          "Artificial intelligence",
          "Cybersecurity",
          "Fintech",
          "Other",
          "Supply chain, logistics, & delivery",
          "Fintech",
          "Health",
          "Fintech",
          "Internet software & services",
          "Health",
          "Supply chain, logistics, & delivery",
          "E-commerce & direct-to-consumer",
          "Fintech",
          "Cybersecurity",
          "Data management & analytics",
          "E-commerce & direct-to-consumer",
          "Fintech",
          "Fintech",
          "Artificial Intelligence",
          "Cybersecurity",
          "Internet software & services",
          "Health",
          "E-commerce & direct-to-consumer",
          "Cybersecurity",
          "Internet software & services",
          "Data management & analytics",
          "Health",
          "Fintech",
          "Hardware",
          "Cybersecurity",
          "Other",
          "Fintech",
          "Health",
          "Cybersecurity",
          "Supply chain, logistics, & delivery",
          "Artificial intelligence",
          "Internet software & services",
          "Health",
          "Fintech",
          "Supply chain, logistics, & delivery",
          "Supply chain, logistics, & delivery",
          "Data management & analytics",
          "Fintech",
          "Mobile & telecommunications",
          "Fintech",
          "Hardware",
          "E-commerce & direct-to-consumer",
          "Fintech",
          "Internet software & services",
          "Artificial intelligence",
          "Artificial intelligence",
          "Artificial Intelligence",
          "Internet software & services",
          "Consumer & retail",
          "E-commerce & direct-to-consumer",
          "Mobile & telecommunications",
          "E-commerce & direct-to-consumer",
          "Edtech",
          "Fintech",
          "Fintech",
          "Artificial intelligence",
          "Supply chain, logistics, & delivery",
          "Other",
          "Mobile & telecommunications",
          "Fintech",
          "Artificial intelligence",
          "Fintech",
          "Data management & analytics",
          "Edtech",
          "Consumer & retail",
          "Supply chain, logistics, & delivery",
          "Edtech",
          "Consumer & retail",
          "E-commerce & direct-to-consumer",
          "Internet software & services",
          "Internet software & services",
          "Health",
          "E-commerce & direct-to-consumer",
          "Health",
          "Hardware",
          "Cybersecurity",
          "Fintech",
          "E-commerce & direct-to-consumer",
          "Mobile & telecommunications",
          "Health",
          "Fintech",
          "Health",
          "Internet software & services",
          "Artificial intelligence",
          "Other",
          "E-commerce & direct-to-consumer",
          "Data management & analytics",
          "Consumer & retail",
          "Internet software & services",
          "Artificial intelligence",
          "Internet software & services",
          "Mobile & telecommunications",
          "Internet software & services",
          "Other",
          "E-commerce & direct-to-consumer",
          "Internet software & services",
          "Internet software & services",
          "Fintech",
          "Internet software & services",
          "Cybersecurity",
          "Fintech",
          "Health",
          "Travel",
          "Internet software & services",
          "Internet software & services",
          "Hardware",
          "Health",
          "Fintech",
          "Artificial Intelligence",
          "Internet software & services",
          "Consumer & retail",
          "Internet software & services",
          "Fintech",
          "Cybersecurity",
          "E-commerce & direct-to-consumer",
          "Mobile & telecommunications",
          "Internet software & services",
          "Artificial intelligence",
          "Other",
          "Mobile & telecommunications",
          "Fintech",
          "Other",
          "Data management & analytics",
          "Edtech",
          "Internet software & services",
          "Consumer & retail",
          "Other",
          "Supply chain, logistics, & delivery",
          "Cybersecurity",
          "Other",
          "Consumer & retail",
          "Fintech",
          "E-commerce & direct-to-consumer",
          "Fintech",
          "Supply chain, logistics, & delivery",
          "Other",
          "Artificial intelligence",
          "Artificial intelligence",
          "Supply chain, logistics, & delivery",
          "Supply chain, logistics, & delivery",
          "Fintech",
          "Artificial intelligence",
          "Supply chain, logistics, & delivery",
          "Fintech",
          "Fintech",
          "Internet software & services",
          "Internet software & services",
          "Artificial intelligence",
          "Internet software & services",
          "Artificial intelligence",
          "Internet software & services",
          "Artificial intelligence",
          "Cybersecurity",
          "Fintech",
          "Mobile & telecommunications",
          "E-commerce & direct-to-consumer",
          "Artificial intelligence",
          "Hardware",
          "Internet software & services",
          "E-commerce & direct-to-consumer",
          "Health",
          "Fintech",
          "Internet software & services",
          "Artificial intelligence",
          "Fintech",
          "Health",
          "Fintech",
          "Artificial intelligence",
          "Internet software & services",
          "Edtech",
          "Internet software & services",
          "Fintech",
          "Internet software & services",
          "Travel",
          "Internet software & services",
          "Internet software & services",
          "Internet software & services",
          "Internet software & services",
          "Fintech",
          "E-commerce & direct-to-consumer",
          "Fintech",
          "Fintech",
          "Internet software & services",
          "Supply chain, logistics, & delivery",
          "Internet software & services",
          "Edtech",
          "E-commerce & direct-to-consumer",
          "E-commerce & direct-to-consumer",
          "Consumer & retail",
          "Fintech",
          "E-commerce & direct-to-consumer"
         ],
         "legendgroup": "",
         "name": "",
         "showlegend": true,
         "type": "pie"
        }
       ],
       "layout": {
        "legend": {
         "tracegroupgap": 0
        },
        "template": {
         "data": {
          "bar": [
           {
            "error_x": {
             "color": "#2a3f5f"
            },
            "error_y": {
             "color": "#2a3f5f"
            },
            "marker": {
             "line": {
              "color": "#E5ECF6",
              "width": 0.5
             },
             "pattern": {
              "fillmode": "overlay",
              "size": 10,
              "solidity": 0.2
             }
            },
            "type": "bar"
           }
          ],
          "barpolar": [
           {
            "marker": {
             "line": {
              "color": "#E5ECF6",
              "width": 0.5
             },
             "pattern": {
              "fillmode": "overlay",
              "size": 10,
              "solidity": 0.2
             }
            },
            "type": "barpolar"
           }
          ],
          "carpet": [
           {
            "aaxis": {
             "endlinecolor": "#2a3f5f",
             "gridcolor": "white",
             "linecolor": "white",
             "minorgridcolor": "white",
             "startlinecolor": "#2a3f5f"
            },
            "baxis": {
             "endlinecolor": "#2a3f5f",
             "gridcolor": "white",
             "linecolor": "white",
             "minorgridcolor": "white",
             "startlinecolor": "#2a3f5f"
            },
            "type": "carpet"
           }
          ],
          "choropleth": [
           {
            "colorbar": {
             "outlinewidth": 0,
             "ticks": ""
            },
            "type": "choropleth"
           }
          ],
          "contour": [
           {
            "colorbar": {
             "outlinewidth": 0,
             "ticks": ""
            },
            "colorscale": [
             [
              0,
              "#0d0887"
             ],
             [
              0.1111111111111111,
              "#46039f"
             ],
             [
              0.2222222222222222,
              "#7201a8"
             ],
             [
              0.3333333333333333,
              "#9c179e"
             ],
             [
              0.4444444444444444,
              "#bd3786"
             ],
             [
              0.5555555555555556,
              "#d8576b"
             ],
             [
              0.6666666666666666,
              "#ed7953"
             ],
             [
              0.7777777777777778,
              "#fb9f3a"
             ],
             [
              0.8888888888888888,
              "#fdca26"
             ],
             [
              1,
              "#f0f921"
             ]
            ],
            "type": "contour"
           }
          ],
          "contourcarpet": [
           {
            "colorbar": {
             "outlinewidth": 0,
             "ticks": ""
            },
            "type": "contourcarpet"
           }
          ],
          "heatmap": [
           {
            "colorbar": {
             "outlinewidth": 0,
             "ticks": ""
            },
            "colorscale": [
             [
              0,
              "#0d0887"
             ],
             [
              0.1111111111111111,
              "#46039f"
             ],
             [
              0.2222222222222222,
              "#7201a8"
             ],
             [
              0.3333333333333333,
              "#9c179e"
             ],
             [
              0.4444444444444444,
              "#bd3786"
             ],
             [
              0.5555555555555556,
              "#d8576b"
             ],
             [
              0.6666666666666666,
              "#ed7953"
             ],
             [
              0.7777777777777778,
              "#fb9f3a"
             ],
             [
              0.8888888888888888,
              "#fdca26"
             ],
             [
              1,
              "#f0f921"
             ]
            ],
            "type": "heatmap"
           }
          ],
          "heatmapgl": [
           {
            "colorbar": {
             "outlinewidth": 0,
             "ticks": ""
            },
            "colorscale": [
             [
              0,
              "#0d0887"
             ],
             [
              0.1111111111111111,
              "#46039f"
             ],
             [
              0.2222222222222222,
              "#7201a8"
             ],
             [
              0.3333333333333333,
              "#9c179e"
             ],
             [
              0.4444444444444444,
              "#bd3786"
             ],
             [
              0.5555555555555556,
              "#d8576b"
             ],
             [
              0.6666666666666666,
              "#ed7953"
             ],
             [
              0.7777777777777778,
              "#fb9f3a"
             ],
             [
              0.8888888888888888,
              "#fdca26"
             ],
             [
              1,
              "#f0f921"
             ]
            ],
            "type": "heatmapgl"
           }
          ],
          "histogram": [
           {
            "marker": {
             "pattern": {
              "fillmode": "overlay",
              "size": 10,
              "solidity": 0.2
             }
            },
            "type": "histogram"
           }
          ],
          "histogram2d": [
           {
            "colorbar": {
             "outlinewidth": 0,
             "ticks": ""
            },
            "colorscale": [
             [
              0,
              "#0d0887"
             ],
             [
              0.1111111111111111,
              "#46039f"
             ],
             [
              0.2222222222222222,
              "#7201a8"
             ],
             [
              0.3333333333333333,
              "#9c179e"
             ],
             [
              0.4444444444444444,
              "#bd3786"
             ],
             [
              0.5555555555555556,
              "#d8576b"
             ],
             [
              0.6666666666666666,
              "#ed7953"
             ],
             [
              0.7777777777777778,
              "#fb9f3a"
             ],
             [
              0.8888888888888888,
              "#fdca26"
             ],
             [
              1,
              "#f0f921"
             ]
            ],
            "type": "histogram2d"
           }
          ],
          "histogram2dcontour": [
           {
            "colorbar": {
             "outlinewidth": 0,
             "ticks": ""
            },
            "colorscale": [
             [
              0,
              "#0d0887"
             ],
             [
              0.1111111111111111,
              "#46039f"
             ],
             [
              0.2222222222222222,
              "#7201a8"
             ],
             [
              0.3333333333333333,
              "#9c179e"
             ],
             [
              0.4444444444444444,
              "#bd3786"
             ],
             [
              0.5555555555555556,
              "#d8576b"
             ],
             [
              0.6666666666666666,
              "#ed7953"
             ],
             [
              0.7777777777777778,
              "#fb9f3a"
             ],
             [
              0.8888888888888888,
              "#fdca26"
             ],
             [
              1,
              "#f0f921"
             ]
            ],
            "type": "histogram2dcontour"
           }
          ],
          "mesh3d": [
           {
            "colorbar": {
             "outlinewidth": 0,
             "ticks": ""
            },
            "type": "mesh3d"
           }
          ],
          "parcoords": [
           {
            "line": {
             "colorbar": {
              "outlinewidth": 0,
              "ticks": ""
             }
            },
            "type": "parcoords"
           }
          ],
          "pie": [
           {
            "automargin": true,
            "type": "pie"
           }
          ],
          "scatter": [
           {
            "fillpattern": {
             "fillmode": "overlay",
             "size": 10,
             "solidity": 0.2
            },
            "type": "scatter"
           }
          ],
          "scatter3d": [
           {
            "line": {
             "colorbar": {
              "outlinewidth": 0,
              "ticks": ""
             }
            },
            "marker": {
             "colorbar": {
              "outlinewidth": 0,
              "ticks": ""
             }
            },
            "type": "scatter3d"
           }
          ],
          "scattercarpet": [
           {
            "marker": {
             "colorbar": {
              "outlinewidth": 0,
              "ticks": ""
             }
            },
            "type": "scattercarpet"
           }
          ],
          "scattergeo": [
           {
            "marker": {
             "colorbar": {
              "outlinewidth": 0,
              "ticks": ""
             }
            },
            "type": "scattergeo"
           }
          ],
          "scattergl": [
           {
            "marker": {
             "colorbar": {
              "outlinewidth": 0,
              "ticks": ""
             }
            },
            "type": "scattergl"
           }
          ],
          "scattermapbox": [
           {
            "marker": {
             "colorbar": {
              "outlinewidth": 0,
              "ticks": ""
             }
            },
            "type": "scattermapbox"
           }
          ],
          "scatterpolar": [
           {
            "marker": {
             "colorbar": {
              "outlinewidth": 0,
              "ticks": ""
             }
            },
            "type": "scatterpolar"
           }
          ],
          "scatterpolargl": [
           {
            "marker": {
             "colorbar": {
              "outlinewidth": 0,
              "ticks": ""
             }
            },
            "type": "scatterpolargl"
           }
          ],
          "scatterternary": [
           {
            "marker": {
             "colorbar": {
              "outlinewidth": 0,
              "ticks": ""
             }
            },
            "type": "scatterternary"
           }
          ],
          "surface": [
           {
            "colorbar": {
             "outlinewidth": 0,
             "ticks": ""
            },
            "colorscale": [
             [
              0,
              "#0d0887"
             ],
             [
              0.1111111111111111,
              "#46039f"
             ],
             [
              0.2222222222222222,
              "#7201a8"
             ],
             [
              0.3333333333333333,
              "#9c179e"
             ],
             [
              0.4444444444444444,
              "#bd3786"
             ],
             [
              0.5555555555555556,
              "#d8576b"
             ],
             [
              0.6666666666666666,
              "#ed7953"
             ],
             [
              0.7777777777777778,
              "#fb9f3a"
             ],
             [
              0.8888888888888888,
              "#fdca26"
             ],
             [
              1,
              "#f0f921"
             ]
            ],
            "type": "surface"
           }
          ],
          "table": [
           {
            "cells": {
             "fill": {
              "color": "#EBF0F8"
             },
             "line": {
              "color": "white"
             }
            },
            "header": {
             "fill": {
              "color": "#C8D4E3"
             },
             "line": {
              "color": "white"
             }
            },
            "type": "table"
           }
          ]
         },
         "layout": {
          "annotationdefaults": {
           "arrowcolor": "#2a3f5f",
           "arrowhead": 0,
           "arrowwidth": 1
          },
          "autotypenumbers": "strict",
          "coloraxis": {
           "colorbar": {
            "outlinewidth": 0,
            "ticks": ""
           }
          },
          "colorscale": {
           "diverging": [
            [
             0,
             "#8e0152"
            ],
            [
             0.1,
             "#c51b7d"
            ],
            [
             0.2,
             "#de77ae"
            ],
            [
             0.3,
             "#f1b6da"
            ],
            [
             0.4,
             "#fde0ef"
            ],
            [
             0.5,
             "#f7f7f7"
            ],
            [
             0.6,
             "#e6f5d0"
            ],
            [
             0.7,
             "#b8e186"
            ],
            [
             0.8,
             "#7fbc41"
            ],
            [
             0.9,
             "#4d9221"
            ],
            [
             1,
             "#276419"
            ]
           ],
           "sequential": [
            [
             0,
             "#0d0887"
            ],
            [
             0.1111111111111111,
             "#46039f"
            ],
            [
             0.2222222222222222,
             "#7201a8"
            ],
            [
             0.3333333333333333,
             "#9c179e"
            ],
            [
             0.4444444444444444,
             "#bd3786"
            ],
            [
             0.5555555555555556,
             "#d8576b"
            ],
            [
             0.6666666666666666,
             "#ed7953"
            ],
            [
             0.7777777777777778,
             "#fb9f3a"
            ],
            [
             0.8888888888888888,
             "#fdca26"
            ],
            [
             1,
             "#f0f921"
            ]
           ],
           "sequentialminus": [
            [
             0,
             "#0d0887"
            ],
            [
             0.1111111111111111,
             "#46039f"
            ],
            [
             0.2222222222222222,
             "#7201a8"
            ],
            [
             0.3333333333333333,
             "#9c179e"
            ],
            [
             0.4444444444444444,
             "#bd3786"
            ],
            [
             0.5555555555555556,
             "#d8576b"
            ],
            [
             0.6666666666666666,
             "#ed7953"
            ],
            [
             0.7777777777777778,
             "#fb9f3a"
            ],
            [
             0.8888888888888888,
             "#fdca26"
            ],
            [
             1,
             "#f0f921"
            ]
           ]
          },
          "colorway": [
           "#636efa",
           "#EF553B",
           "#00cc96",
           "#ab63fa",
           "#FFA15A",
           "#19d3f3",
           "#FF6692",
           "#B6E880",
           "#FF97FF",
           "#FECB52"
          ],
          "font": {
           "color": "#2a3f5f"
          },
          "geo": {
           "bgcolor": "white",
           "lakecolor": "white",
           "landcolor": "#E5ECF6",
           "showlakes": true,
           "showland": true,
           "subunitcolor": "white"
          },
          "hoverlabel": {
           "align": "left"
          },
          "hovermode": "closest",
          "mapbox": {
           "style": "light"
          },
          "paper_bgcolor": "white",
          "plot_bgcolor": "#E5ECF6",
          "polar": {
           "angularaxis": {
            "gridcolor": "white",
            "linecolor": "white",
            "ticks": ""
           },
           "bgcolor": "#E5ECF6",
           "radialaxis": {
            "gridcolor": "white",
            "linecolor": "white",
            "ticks": ""
           }
          },
          "scene": {
           "xaxis": {
            "backgroundcolor": "#E5ECF6",
            "gridcolor": "white",
            "gridwidth": 2,
            "linecolor": "white",
            "showbackground": true,
            "ticks": "",
            "zerolinecolor": "white"
           },
           "yaxis": {
            "backgroundcolor": "#E5ECF6",
            "gridcolor": "white",
            "gridwidth": 2,
            "linecolor": "white",
            "showbackground": true,
            "ticks": "",
            "zerolinecolor": "white"
           },
           "zaxis": {
            "backgroundcolor": "#E5ECF6",
            "gridcolor": "white",
            "gridwidth": 2,
            "linecolor": "white",
            "showbackground": true,
            "ticks": "",
            "zerolinecolor": "white"
           }
          },
          "shapedefaults": {
           "line": {
            "color": "#2a3f5f"
           }
          },
          "ternary": {
           "aaxis": {
            "gridcolor": "white",
            "linecolor": "white",
            "ticks": ""
           },
           "baxis": {
            "gridcolor": "white",
            "linecolor": "white",
            "ticks": ""
           },
           "bgcolor": "#E5ECF6",
           "caxis": {
            "gridcolor": "white",
            "linecolor": "white",
            "ticks": ""
           }
          },
          "title": {
           "x": 0.05
          },
          "xaxis": {
           "automargin": true,
           "gridcolor": "white",
           "linecolor": "white",
           "ticks": "",
           "title": {
            "standoff": 15
           },
           "zerolinecolor": "white",
           "zerolinewidth": 2
          },
          "yaxis": {
           "automargin": true,
           "gridcolor": "white",
           "linecolor": "white",
           "ticks": "",
           "title": {
            "standoff": 15
           },
           "zerolinecolor": "white",
           "zerolinewidth": 2
          }
         }
        },
        "title": {
         "text": "Domination of Industries in unicorn Company"
        }
       }
      },
      "text/html": [
       "<div>                            <div id=\"1d20d87c-f15b-401c-8928-a77e78ebd682\" class=\"plotly-graph-div\" style=\"height:525px; width:100%;\"></div>            <script type=\"text/javascript\">                require([\"plotly\"], function(Plotly) {                    window.PLOTLYENV=window.PLOTLYENV || {};                                    if (document.getElementById(\"1d20d87c-f15b-401c-8928-a77e78ebd682\")) {                    Plotly.newPlot(                        \"1d20d87c-f15b-401c-8928-a77e78ebd682\",                        [{\"domain\":{\"x\":[0.0,1.0],\"y\":[0.0,1.0]},\"hovertemplate\":\"Industry=%{label}<extra></extra>\",\"labels\":[\"Artificial intelligence\",\"Other\",\"E-commerce & direct-to-consumer\",\"Fintech\",\"Fintech\",\"Internet software & services\",\"Fintech\",\"Supply chain, logistics, & delivery\",\"Consumer & retail\",\"Data management & analytics\",\"Fintech\",\"Other\",\"Fintech\",\"E-commerce & direct-to-consumer\",\"Fintech\",\"Edtech\",\"Supply chain, logistics, & delivery\",\"E-commerce & direct-to-consumer\",\"Internet software & services\",\"Edtech\",\"Fintech\",\"Internet software & services\",\"Consumer & retail\",\"E-commerce & direct-to-consumer\",\"Fintech\",\"Fintech\",\"Health\",\"E-commerce & direct-to-consumer\",\"Internet software & services\",\"Artificial intelligence\",\"Other\",\"Artificial intelligence\",\"Internet software & services\",\"Fintech\",\"E-commerce & direct-to-consumer\",\"Health\",\"Hardware\",\"Internet software & services\",\"E-commerce & direct-to-consumer\",\"Auto & transportation\",\"Auto & transportation\",\"Supply chain, logistics, & delivery\",\"Consumer & retail\",\"Hardware\",\"Fintech\",\"Data management & analytics\",\"Edtech\",\"Fintech\",\"Travel\",\"Internet software & services\",\"Internet software & services\",\"Fintech\",\"E-commerce & direct-to-consumer\",\"Fintech\",\"Internet software & services\",\"Fintech\",\"Supply chain, logistics, & delivery\",\"Internet software & services\",\"Internet software & services\",\"Internet software & services\",\"Other\",\"Fintech\",\"Travel\",\"Artificial intelligence\",\"Auto & transportation\",\"Cybersecurity\",\"E-commerce & direct-to-consumer\",\"Fintech\",\"Internet software & services\",\"Mobile & telecommunications\",\"Cybersecurity\",\"Internet software & services\",\"Hardware\",\"Cybersecurity\",\"Fintech\",\"Fintech\",\"Cybersecurity\",\"Fintech\",\"Internet software & services\",\"Health\",\"Fintech\",\"Health\",\"Fintech\",\"Supply chain, logistics, & delivery\",\"Fintech\",\"Mobile & telecommunications\",\"Consumer & retail\",\"Fintech\",\"Mobile & telecommunications\",\"Auto & transportation\",\"Internet software & services\",\"Fintech\",\"Fintech\",\"E-commerce & direct-to-consumer\",\"Artificial intelligence\",\"Artificial intelligence\",\"Travel\",\"Cybersecurity\",\"Artificial intelligence\",\"Fintech\",\"Fintech\",\"Health\",\"Other\",\"Consumer & retail\",\"Health\",\"Auto & transportation\",\"Fintech\",\"Fintech\",\"Fintech\",\"Fintech\",\"Health\",\"Data management & analytics\",\"Internet software & services\",\"E-commerce & direct-to-consumer\",\"Health\",\"Artificial intelligence\",\"Internet software & services\",\"Supply chain, logistics, & delivery\",\"Internet software & services\",\"Internet software & services\",\"Fintech\",\"E-commerce & direct-to-consumer\",\"Health\",\"Health\",\"Internet software & services\",\"Fintech\",\"Fintech\",\"Cybersecurity\",\"Internet software & services\",\"Other\",\"Internet software & services\",\"Hardware\",\"Artificial intelligence\",\"Hardware\",\"Fintech\",\"Cybersecurity\",\"Edtech\",\"E-commerce & direct-to-consumer\",\"Fintech\",\"Hardware\",\"Artificial intelligence\",\"Internet software & services\",\"Health\",\"Internet software & services\",\"Internet software & services\",\"Fintech\",\"Fintech\",\"Hardware\",\"Data management & analytics\",\"Supply chain, logistics, & delivery\",\"Artificial intelligence\",\"Health\",\"Fintech\",\"Internet software & services\",\"E-commerce & direct-to-consumer\",\"Fintech\",\"Data management & analytics\",\"Travel\",\"Artificial intelligence\",\"Mobile & telecommunications\",\"E-commerce & direct-to-consumer\",\"Auto & transportation\",\"Fintech\",\"Fintech\",\"Data management & analytics\",\"Health\",\"Auto & transportation\",\"Fintech\",\"Health\",\"Fintech\",\"Mobile & telecommunications\",\"Health\",\"Mobile & telecommunications\",\"Internet software & services\",\"E-commerce & direct-to-consumer\",\"Fintech\",\"Artificial intelligence\",\"Fintech\",\"Fintech\",\"Fintech\",\"Cybersecurity\",\"Internet software & services\",\"Hardware\",\"Internet software & services\",\"Internet software & services\",\"Artificial intelligence\",\"E-commerce & direct-to-consumer\",\"Internet software & services\",\"Internet software & services\",\"Health\",\"Internet software & services\",\"Auto & transportation\",\"Data management & analytics\",\"Edtech\",\"Internet software & services\",\"E-commerce & direct-to-consumer\",\"Cybersecurity\",\"E-commerce & direct-to-consumer\",\"Health\",\"Internet software & services\",\"Other\",\"Internet software & services\",\"E-commerce & direct-to-consumer\",\"Data management & analytics\",\"Edtech\",\"E-commerce & direct-to-consumer\",\"Fintech\",\"Internet software & services\",\"Fintech\",\"Data management & analytics\",\"Internet software & services\",\"Health\",\"Other\",\"E-commerce & direct-to-consumer\",\"Internet software & services\",\"E-commerce & direct-to-consumer\",\"Fintech\",\"Artificial intelligence\",\"Supply chain, logistics, & delivery\",\"Health\",\"Auto & transportation\",\"Internet software & services\",\"Mobile & telecommunications\",\"Internet software & services\",\"Hardware\",\"Internet software & services\",\"Mobile & telecommunications\",\"Other\",\"E-commerce & direct-to-consumer\",\"Artificial intelligence\",\"Fintech\",\"Fintech\",\"Internet software & services\",\"Internet software & services\",\"Internet software & services\",\"Data management & analytics\",\"E-commerce & direct-to-consumer\",\"Internet software & services\",\"Fintech\",\"Internet software & services\",\"Other\",\"Supply chain, logistics, & delivery\",\"E-commerce & direct-to-consumer\",\"Artificial intelligence\",\"Fintech\",\"Other\",\"Mobile & telecommunications\",\"Internet software & services\",\"Fintech\",\"Fintech\",\"Supply chain, logistics, & delivery\",\"Artificial intelligence\",\"Mobile & telecommunications\",\"Data management & analytics\",\"Cybersecurity\",\"Other\",\"Cybersecurity\",\"Cybersecurity\",\"Auto & transportation\",\"Cybersecurity\",\"Fintech\",\"E-commerce & direct-to-consumer\",\"Internet software & services\",\"Edtech\",\"Fintech\",\"E-commerce & direct-to-consumer\",\"Internet software & services\",\"Hardware\",\"Health\",\"Cybersecurity\",\"Artificial Intelligence\",\"Fintech\",\"Internet software & services\",\"Health\",\"Edtech\",\"Cybersecurity\",\"Internet software & services\",\"E-commerce & direct-to-consumer\",\"Internet software & services\",\"Internet software & services\",\"Data management & analytics\",\"Supply chain, logistics, & delivery\",\"Internet software & services\",\"Data management & analytics\",\"Data management & analytics\",\"Auto & transportation\",\"Internet software & services\",\"E-commerce & direct-to-consumer\",\"Fintech\",\"Health\",\"Internet software & services\",\"Artificial intelligence\",\"Mobile & telecommunications\",\"Other\",\"Auto & transportation\",\"Cybersecurity\",\"Fintech\",\"Supply chain, logistics, & delivery\",\"Mobile & telecommunications\",\"Cybersecurity\",\"Edtech\",\"Artificial intelligence\",\"Edtech\",\"Fintech\",\"Fintech\",\"Internet software & services\",\"Edtech\",\"Health\",\"Internet software & services\",\"E-commerce & direct-to-consumer\",\"E-commerce & direct-to-consumer\",\"Supply chain, logistics, & delivery\",\"Fintech\",\"Fintech\",\"E-commerce & direct-to-consumer\",\"Hardware\",\"Fintech\",\"E-commerce & direct-to-consumer\",\"Fintech\",\"E-commerce & direct-to-consumer\",\"E-commerce & direct-to-consumer\",\"Supply chain, logistics, & delivery\",\"Internet software & services\",\"Internet software & services\",\"Edtech\",\"Fintech\",\"Fintech\",\"Fintech\",\"Internet software & services\",\"Health\",\"Fintech\",\"Health\",\"Internet software & services\",\"Fintech\",\"Supply chain, logistics, & delivery\",\"Auto & transportation\",\"Fintech\",\"Cybersecurity\",\"Internet software & services\",\"Fintech\",\"Fintech\",\"E-commerce & direct-to-consumer\",\"Internet software & services\",\"Internet software & services\",\"Internet software & services\",\"Edtech\",\"Internet software & services\",\"Fintech\",\"Internet software & services\",\"Internet software & services\",\"E-commerce & direct-to-consumer\",\"Fintech\",\"Travel\",\"Fintech\",\"Other\",\"Internet software & services\",\"Fintech\",\"Fintech\",\"Fintech\",\"Mobile & telecommunications\",\"E-commerce & direct-to-consumer\",\"Fintech\",\"Fintech\",\"Edtech\",\"E-commerce & direct-to-consumer\",\"Auto & transportation\",\"Edtech\",\"Artificial intelligence\",\"E-commerce & direct-to-consumer\",\"Hardware\",\"Data management & analytics\",\"Fintech\",\"Fintech\",\"Consumer & retail\",\"E-commerce & direct-to-consumer\",\"Mobile & telecommunications\",\"Other\",\"Fintech\",\"Cybersecurity\",\"Other\",\"Mobile & telecommunications\",\"Health\",\"Supply chain, logistics, & delivery\",\"Internet software & services\",\"E-commerce & direct-to-consumer\",\"E-commerce & direct-to-consumer\",\"Consumer & retail\",\"Hardware\",\"Fintech\",\"Health\",\"Fintech\",\"Internet software & services\",\"Internet software & services\",\"Fintech\",\"Health\",\"Internet software & services\",\"Fintech\",\"Data management & analytics\",\"Fintech\",\"Fintech\",\"Internet software & services\",\"Data management & analytics\",\"Supply chain, logistics, & delivery\",\"Auto & transportation\",\"Cybersecurity\",\"Internet software & services\",\"Hardware\",\"Internet software & services\",\"Data management & analytics\",\"Artificial intelligence\",\"Data management & analytics\",\"Hardware\",\"Artificial Intelligence\",\"E-commerce & direct-to-consumer\",\"Fintech\",\"Internet software & services\",\"Cybersecurity\",\"Internet software & services\",\"Fintech\",\"Other\",\"Other\",\"Internet software & services\",\"Internet software & services\",\"Travel\",\"Other\",\"Supply chain, logistics, & delivery\",\"Artificial intelligence\",\"E-commerce & direct-to-consumer\",\"Internet software & services\",\"Fintech\",\"Internet software & services\",\"Internet software & services\",\"Fintech\",\"Other\",\"Auto & transportation\",\"Other\",\"Artificial intelligence\",\"Artificial intelligence\",\"Cybersecurity\",\"Auto & transportation\",\"Fintech\",\"Hardware\",\"Internet software & services\",\"Artificial Intelligence\",\"Cybersecurity\",\"Supply chain, logistics, & delivery\",\"Fintech\",\"Internet software & services\",\"Hardware\",\"Fintech\",\"Fintech\",\"Internet software & services\",\"Fintech\",\"E-commerce & direct-to-consumer\",\"Health\",\"Health\",\"Cybersecurity\",\"Fintech\",\"Internet software & services\",\"Health\",\"Other\",\"Consumer & retail\",\"Internet software & services\",\"Internet software & services\",\"Internet software & services\",\"Fintech\",\"E-commerce & direct-to-consumer\",\"Fintech\",\"Hardware\",\"Other\",\"E-commerce & direct-to-consumer\",\"Internet software & services\",\"E-commerce & direct-to-consumer\",\"Health\",\"Cybersecurity\",\"Supply chain, logistics, & delivery\",\"Artificial intelligence\",\"Artificial intelligence\",\"Consumer & retail\",\"Consumer & retail\",\"Internet software & services\",\"Data management & analytics\",\"Fintech\",\"E-commerce & direct-to-consumer\",\"Fintech\",\"Fintech\",\"Other\",\"Fintech\",\"Supply chain, logistics, & delivery\",\"Internet software & services\",\"Other\",\"Artificial intelligence\",\"Fintech\",\"Internet software & services\",\"Internet software & services\",\"E-commerce & direct-to-consumer\",\"Cybersecurity\",\"Consumer & retail\",\"Auto & transportation\",\"Fintech\",\"Artificial intelligence\",\"Fintech\",\"Internet software & services\",\"Supply chain, logistics, & delivery\",\"Internet software & services\",\"E-commerce & direct-to-consumer\",\"Other\",\"Health\",\"Other\",\"Internet software & services\",\"Artificial intelligence\",\"Hardware\",\"Health\",\"Other\",\"Mobile & telecommunications\",\"Fintech\",\"Artificial intelligence\",\"Fintech\",\"Internet software & services\",\"Auto & transportation\",\"Fintech\",\"Health\",\"Fintech\",\"Artificial Intelligence\",\"Internet software & services\",\"E-commerce & direct-to-consumer\",\"Supply chain, logistics, & delivery\",\"Fintech\",\"Internet software & services\",\"Fintech\",\"Internet software & services\",\"Artificial intelligence\",\"Fintech\",\"Fintech\",\"Fintech\",\"Fintech\",\"E-commerce & direct-to-consumer\",\"Internet software & services\",\"Fintech\",\"E-commerce & direct-to-consumer\",\"Artificial intelligence\",\"Artificial intelligence\",\"Internet software & services\",\"E-commerce & direct-to-consumer\",\"Other\",\"Mobile & telecommunications\",\"Artificial intelligence\",\"Internet software & services\",\"Auto & transportation\",\"Artificial intelligence\",\"Fintech\",\"Consumer & retail\",\"Fintech\",\"Fintech\",\"Data management & analytics\",\"Fintech\",\"Internet software & services\",\"Supply chain, logistics, & delivery\",\"Fintech\",\"Data management & analytics\",\"Data management & analytics\",\"Internet software & services\",\"Hardware\",\"Hardware\",\"Consumer & retail\",\"Artificial intelligence\",\"E-commerce & direct-to-consumer\",\"Supply chain, logistics, & delivery\",\"Internet software & services\",\"Internet software & services\",\"Cybersecurity\",\"Mobile & telecommunications\",\"Health\",\"Supply chain, logistics, & delivery\",\"Internet software & services\",\"Fintech\",\"Travel\",\"Hardware\",\"E-commerce & direct-to-consumer\",\"Fintech\",\"Internet software & services\",\"Fintech\",\"Data management & analytics\",\"Internet software & services\",\"Other\",\"Fintech\",\"Fintech\",\"Artificial intelligence\",\"Internet software & services\",\"Data management & analytics\",\"Mobile & telecommunications\",\"Health\",\"Cybersecurity\",\"Health\",\"Travel\",\"Consumer & retail\",\"Fintech\",\"Artificial intelligence\",\"Health\",\"Internet software & services\",\"E-commerce & direct-to-consumer\",\"Artificial intelligence\",\"Fintech\",\"Supply chain, logistics, & delivery\",\"Health\",\"Health\",\"Data management & analytics\",\"Mobile & telecommunications\",\"Hardware\",\"Fintech\",\"Artificial intelligence\",\"Health\",\"Auto & transportation\",\"Health\",\"E-commerce & direct-to-consumer\",\"Auto & transportation\",\"Internet software & services\",\"Artificial intelligence\",\"E-commerce & direct-to-consumer\",\"Fintech\",\"Edtech\",\"Fintech\",\"Edtech\",\"Fintech\",\"Supply chain, logistics, & delivery\",\"Internet software & services\",\"Supply chain, logistics, & delivery\",\"Supply chain, logistics, & delivery\",\"Other\",\"Mobile & telecommunications\",\"Fintech\",\"Health\",\"Other\",\"Internet software & services\",\"Edtech\",\"Internet software & services\",\"Auto & transportation\",\"Artificial Intelligence\",\"Health\",\"Other\",\"E-commerce & direct-to-consumer\",\"Fintech\",\"Mobile & telecommunications\",\"Artificial Intelligence\",\"Supply chain, logistics, & delivery\",\"Health\",\"Artificial intelligence\",\"Cybersecurity\",\"Mobile & telecommunications\",\"Fintech\",\"Internet software & services\",\"Fintech\",\"Internet software & services\",\"Supply chain, logistics, & delivery\",\"Supply chain, logistics, & delivery\",\"E-commerce & direct-to-consumer\",\"Other\",\"Auto & transportation\",\"E-commerce & direct-to-consumer\",\"Auto & transportation\",\"Consumer & retail\",\"Fintech\",\"Fintech\",\"Internet software & services\",\"Fintech\",\"Internet software & services\",\"Cybersecurity\",\"Mobile & telecommunications\",\"Fintech\",\"Health\",\"Data management & analytics\",\"E-commerce & direct-to-consumer\",\"E-commerce & direct-to-consumer\",\"Health\",\"E-commerce & direct-to-consumer\",\"Fintech\",\"Fintech\",\"Travel\",\"Consumer & retail\",\"Supply chain, logistics, & delivery\",\"Auto & transportation\",\"Cybersecurity\",\"Hardware\",\"E-commerce & direct-to-consumer\",\"Fintech\",\"Internet software & services\",\"Health\",\"Mobile & telecommunications\",\"E-commerce & direct-to-consumer\",\"Auto & transportation\",\"Health\",\"Internet software & services\",\"Internet software & services\",\"Edtech\",\"Fintech\",\"Internet software & services\",\"Internet software & services\",\"Internet software & services\",\"Data management & analytics\",\"Other\",\"Internet software & services\",\"Internet software & services\",\"E-commerce & direct-to-consumer\",\"Cybersecurity\",\"Health\",\"Health\",\"E-commerce & direct-to-consumer\",\"Cybersecurity\",\"Fintech\",\"Artificial intelligence\",\"Fintech\",\"Fintech\",\"Mobile & telecommunications\",\"Internet software & services\",\"Mobile & telecommunications\",\"Internet software & services\",\"Fintech\",\"E-commerce & direct-to-consumer\",\"Fintech\",\"Other\",\"Travel\",\"Health\",\"Fintech\",\"E-commerce & direct-to-consumer\",\"E-commerce & direct-to-consumer\",\"Health\",\"Other\",\"E-commerce & direct-to-consumer\",\"Cybersecurity\",\"Artificial intelligence\",\"Fintech\",\"Other\",\"Fintech\",\"Internet software & services\",\"Internet software & services\",\"Supply chain, logistics, & delivery\",\"Health\",\"Internet software & services\",\"Fintech\",\"Fintech\",\"Internet software & services\",\"Supply chain, logistics, & delivery\",\"Fintech\",\"Other\",\"Other\",\"Travel\",\"Data management & analytics\",\"Internet software & services\",\"Other\",\"Cybersecurity\",\"Fintech\",\"Internet software & services\",\"Internet software & services\",\"Cybersecurity\",\"Internet software & services\",\"Fintech\",\"Internet software & services\",\"Supply chain, logistics, & delivery\",\"Internet software & services\",\"Other\",\"Mobile & telecommunications\",\"Internet software & services\",\"Other\",\"Artificial intelligence\",\"Fintech\",\"Internet software & services\",\"Artificial intelligence\",\"E-commerce & direct-to-consumer\",\"Data management & analytics\",\"Fintech\",\"Fintech\",\"Internet software & services\",\"E-commerce & direct-to-consumer\",\"Internet software & services\",\"Other\",\"E-commerce & direct-to-consumer\",\"E-commerce & direct-to-consumer\",\"E-commerce & direct-to-consumer\",\"Internet software & services\",\"E-commerce & direct-to-consumer\",\"E-commerce & direct-to-consumer\",\"Internet software & services\",\"Fintech\",\"Fintech\",\"Health\",\"Fintech\",\"Data management & analytics\",\"Supply chain, logistics, & delivery\",\"Internet software & services\",\"Artificial Intelligence\",\"Internet software & services\",\"Edtech\",\"Internet software & services\",\"Supply chain, logistics, & delivery\",\"Consumer & retail\",\"Artificial intelligence\",\"Edtech\",\"Internet software & services\",\"Health\",\"Auto & transportation\",\"Data management & analytics\",\"Health\",\"Fintech\",\"Fintech\",\"Artificial intelligence\",\"Supply chain, logistics, & delivery\",\"Fintech\",\"Fintech\",\"Fintech\",\"Internet software & services\",\"Cybersecurity\",\"E-commerce & direct-to-consumer\",\"Other\",\"Fintech\",\"E-commerce & direct-to-consumer\",\"Internet software & services\",\"Cybersecurity\",\"Other\",\"Fintech\",\"Internet software & services\",\"Hardware\",\"Travel\",\"E-commerce & direct-to-consumer\",\"Fintech\",\"E-commerce & direct-to-consumer\",\"Internet software & services\",\"Edtech\",\"Data management & analytics\",\"Internet software & services\",\"E-commerce & direct-to-consumer\",\"Health\",\"Supply chain, logistics, & delivery\",\"Data management & analytics\",\"Internet software & services\",\"Fintech\",\"Mobile & telecommunications\",\"Fintech\",\"Fintech\",\"Internet software & services\",\"E-commerce & direct-to-consumer\",\"Fintech\",\"Supply chain, logistics, & delivery\",\"Other\",\"Auto & transportation\",\"Fintech\",\"Hardware\",\"Data management & analytics\",\"E-commerce & direct-to-consumer\",\"Fintech\",\"Internet software & services\",\"Mobile & telecommunications\",\"Artificial intelligence\",\"Auto & transportation\",\"Hardware\",\"Internet software & services\",\"Hardware\",\"Artificial intelligence\",\"Internet software & services\",\"Fintech\",\"Health\",\"Internet software & services\",\"Fintech\",\"Artificial intelligence\",\"Artificial Intelligence\",\"Internet software & services\",\"Cybersecurity\",\"Internet software & services\",\"Supply chain, logistics, & delivery\",\"Artificial intelligence\",\"Internet software & services\",\"Other\",\"Auto & transportation\",\"E-commerce & direct-to-consumer\",\"Artificial intelligence\",\"E-commerce & direct-to-consumer\",\"Artificial intelligence\",\"Hardware\",\"Supply chain, logistics, & delivery\",\"Artificial intelligence\",\"Cybersecurity\",\"Fintech\",\"Other\",\"Supply chain, logistics, & delivery\",\"Fintech\",\"Health\",\"Fintech\",\"Internet software & services\",\"Health\",\"Supply chain, logistics, & delivery\",\"E-commerce & direct-to-consumer\",\"Fintech\",\"Cybersecurity\",\"Data management & analytics\",\"E-commerce & direct-to-consumer\",\"Fintech\",\"Fintech\",\"Artificial Intelligence\",\"Cybersecurity\",\"Internet software & services\",\"Health\",\"E-commerce & direct-to-consumer\",\"Cybersecurity\",\"Internet software & services\",\"Data management & analytics\",\"Health\",\"Fintech\",\"Hardware\",\"Cybersecurity\",\"Other\",\"Fintech\",\"Health\",\"Cybersecurity\",\"Supply chain, logistics, & delivery\",\"Artificial intelligence\",\"Internet software & services\",\"Health\",\"Fintech\",\"Supply chain, logistics, & delivery\",\"Supply chain, logistics, & delivery\",\"Data management & analytics\",\"Fintech\",\"Mobile & telecommunications\",\"Fintech\",\"Hardware\",\"E-commerce & direct-to-consumer\",\"Fintech\",\"Internet software & services\",\"Artificial intelligence\",\"Artificial intelligence\",\"Artificial Intelligence\",\"Internet software & services\",\"Consumer & retail\",\"E-commerce & direct-to-consumer\",\"Mobile & telecommunications\",\"E-commerce & direct-to-consumer\",\"Edtech\",\"Fintech\",\"Fintech\",\"Artificial intelligence\",\"Supply chain, logistics, & delivery\",\"Other\",\"Mobile & telecommunications\",\"Fintech\",\"Artificial intelligence\",\"Fintech\",\"Data management & analytics\",\"Edtech\",\"Consumer & retail\",\"Supply chain, logistics, & delivery\",\"Edtech\",\"Consumer & retail\",\"E-commerce & direct-to-consumer\",\"Internet software & services\",\"Internet software & services\",\"Health\",\"E-commerce & direct-to-consumer\",\"Health\",\"Hardware\",\"Cybersecurity\",\"Fintech\",\"E-commerce & direct-to-consumer\",\"Mobile & telecommunications\",\"Health\",\"Fintech\",\"Health\",\"Internet software & services\",\"Artificial intelligence\",\"Other\",\"E-commerce & direct-to-consumer\",\"Data management & analytics\",\"Consumer & retail\",\"Internet software & services\",\"Artificial intelligence\",\"Internet software & services\",\"Mobile & telecommunications\",\"Internet software & services\",\"Other\",\"E-commerce & direct-to-consumer\",\"Internet software & services\",\"Internet software & services\",\"Fintech\",\"Internet software & services\",\"Cybersecurity\",\"Fintech\",\"Health\",\"Travel\",\"Internet software & services\",\"Internet software & services\",\"Hardware\",\"Health\",\"Fintech\",\"Artificial Intelligence\",\"Internet software & services\",\"Consumer & retail\",\"Internet software & services\",\"Fintech\",\"Cybersecurity\",\"E-commerce & direct-to-consumer\",\"Mobile & telecommunications\",\"Internet software & services\",\"Artificial intelligence\",\"Other\",\"Mobile & telecommunications\",\"Fintech\",\"Other\",\"Data management & analytics\",\"Edtech\",\"Internet software & services\",\"Consumer & retail\",\"Other\",\"Supply chain, logistics, & delivery\",\"Cybersecurity\",\"Other\",\"Consumer & retail\",\"Fintech\",\"E-commerce & direct-to-consumer\",\"Fintech\",\"Supply chain, logistics, & delivery\",\"Other\",\"Artificial intelligence\",\"Artificial intelligence\",\"Supply chain, logistics, & delivery\",\"Supply chain, logistics, & delivery\",\"Fintech\",\"Artificial intelligence\",\"Supply chain, logistics, & delivery\",\"Fintech\",\"Fintech\",\"Internet software & services\",\"Internet software & services\",\"Artificial intelligence\",\"Internet software & services\",\"Artificial intelligence\",\"Internet software & services\",\"Artificial intelligence\",\"Cybersecurity\",\"Fintech\",\"Mobile & telecommunications\",\"E-commerce & direct-to-consumer\",\"Artificial intelligence\",\"Hardware\",\"Internet software & services\",\"E-commerce & direct-to-consumer\",\"Health\",\"Fintech\",\"Internet software & services\",\"Artificial intelligence\",\"Fintech\",\"Health\",\"Fintech\",\"Artificial intelligence\",\"Internet software & services\",\"Edtech\",\"Internet software & services\",\"Fintech\",\"Internet software & services\",\"Travel\",\"Internet software & services\",\"Internet software & services\",\"Internet software & services\",\"Internet software & services\",\"Fintech\",\"E-commerce & direct-to-consumer\",\"Fintech\",\"Fintech\",\"Internet software & services\",\"Supply chain, logistics, & delivery\",\"Internet software & services\",\"Edtech\",\"E-commerce & direct-to-consumer\",\"E-commerce & direct-to-consumer\",\"Consumer & retail\",\"Fintech\",\"E-commerce & direct-to-consumer\"],\"legendgroup\":\"\",\"name\":\"\",\"showlegend\":true,\"type\":\"pie\"}],                        {\"template\":{\"data\":{\"histogram2dcontour\":[{\"type\":\"histogram2dcontour\",\"colorbar\":{\"outlinewidth\":0,\"ticks\":\"\"},\"colorscale\":[[0.0,\"#0d0887\"],[0.1111111111111111,\"#46039f\"],[0.2222222222222222,\"#7201a8\"],[0.3333333333333333,\"#9c179e\"],[0.4444444444444444,\"#bd3786\"],[0.5555555555555556,\"#d8576b\"],[0.6666666666666666,\"#ed7953\"],[0.7777777777777778,\"#fb9f3a\"],[0.8888888888888888,\"#fdca26\"],[1.0,\"#f0f921\"]]}],\"choropleth\":[{\"type\":\"choropleth\",\"colorbar\":{\"outlinewidth\":0,\"ticks\":\"\"}}],\"histogram2d\":[{\"type\":\"histogram2d\",\"colorbar\":{\"outlinewidth\":0,\"ticks\":\"\"},\"colorscale\":[[0.0,\"#0d0887\"],[0.1111111111111111,\"#46039f\"],[0.2222222222222222,\"#7201a8\"],[0.3333333333333333,\"#9c179e\"],[0.4444444444444444,\"#bd3786\"],[0.5555555555555556,\"#d8576b\"],[0.6666666666666666,\"#ed7953\"],[0.7777777777777778,\"#fb9f3a\"],[0.8888888888888888,\"#fdca26\"],[1.0,\"#f0f921\"]]}],\"heatmap\":[{\"type\":\"heatmap\",\"colorbar\":{\"outlinewidth\":0,\"ticks\":\"\"},\"colorscale\":[[0.0,\"#0d0887\"],[0.1111111111111111,\"#46039f\"],[0.2222222222222222,\"#7201a8\"],[0.3333333333333333,\"#9c179e\"],[0.4444444444444444,\"#bd3786\"],[0.5555555555555556,\"#d8576b\"],[0.6666666666666666,\"#ed7953\"],[0.7777777777777778,\"#fb9f3a\"],[0.8888888888888888,\"#fdca26\"],[1.0,\"#f0f921\"]]}],\"heatmapgl\":[{\"type\":\"heatmapgl\",\"colorbar\":{\"outlinewidth\":0,\"ticks\":\"\"},\"colorscale\":[[0.0,\"#0d0887\"],[0.1111111111111111,\"#46039f\"],[0.2222222222222222,\"#7201a8\"],[0.3333333333333333,\"#9c179e\"],[0.4444444444444444,\"#bd3786\"],[0.5555555555555556,\"#d8576b\"],[0.6666666666666666,\"#ed7953\"],[0.7777777777777778,\"#fb9f3a\"],[0.8888888888888888,\"#fdca26\"],[1.0,\"#f0f921\"]]}],\"contourcarpet\":[{\"type\":\"contourcarpet\",\"colorbar\":{\"outlinewidth\":0,\"ticks\":\"\"}}],\"contour\":[{\"type\":\"contour\",\"colorbar\":{\"outlinewidth\":0,\"ticks\":\"\"},\"colorscale\":[[0.0,\"#0d0887\"],[0.1111111111111111,\"#46039f\"],[0.2222222222222222,\"#7201a8\"],[0.3333333333333333,\"#9c179e\"],[0.4444444444444444,\"#bd3786\"],[0.5555555555555556,\"#d8576b\"],[0.6666666666666666,\"#ed7953\"],[0.7777777777777778,\"#fb9f3a\"],[0.8888888888888888,\"#fdca26\"],[1.0,\"#f0f921\"]]}],\"surface\":[{\"type\":\"surface\",\"colorbar\":{\"outlinewidth\":0,\"ticks\":\"\"},\"colorscale\":[[0.0,\"#0d0887\"],[0.1111111111111111,\"#46039f\"],[0.2222222222222222,\"#7201a8\"],[0.3333333333333333,\"#9c179e\"],[0.4444444444444444,\"#bd3786\"],[0.5555555555555556,\"#d8576b\"],[0.6666666666666666,\"#ed7953\"],[0.7777777777777778,\"#fb9f3a\"],[0.8888888888888888,\"#fdca26\"],[1.0,\"#f0f921\"]]}],\"mesh3d\":[{\"type\":\"mesh3d\",\"colorbar\":{\"outlinewidth\":0,\"ticks\":\"\"}}],\"scatter\":[{\"fillpattern\":{\"fillmode\":\"overlay\",\"size\":10,\"solidity\":0.2},\"type\":\"scatter\"}],\"parcoords\":[{\"type\":\"parcoords\",\"line\":{\"colorbar\":{\"outlinewidth\":0,\"ticks\":\"\"}}}],\"scatterpolargl\":[{\"type\":\"scatterpolargl\",\"marker\":{\"colorbar\":{\"outlinewidth\":0,\"ticks\":\"\"}}}],\"bar\":[{\"error_x\":{\"color\":\"#2a3f5f\"},\"error_y\":{\"color\":\"#2a3f5f\"},\"marker\":{\"line\":{\"color\":\"#E5ECF6\",\"width\":0.5},\"pattern\":{\"fillmode\":\"overlay\",\"size\":10,\"solidity\":0.2}},\"type\":\"bar\"}],\"scattergeo\":[{\"type\":\"scattergeo\",\"marker\":{\"colorbar\":{\"outlinewidth\":0,\"ticks\":\"\"}}}],\"scatterpolar\":[{\"type\":\"scatterpolar\",\"marker\":{\"colorbar\":{\"outlinewidth\":0,\"ticks\":\"\"}}}],\"histogram\":[{\"marker\":{\"pattern\":{\"fillmode\":\"overlay\",\"size\":10,\"solidity\":0.2}},\"type\":\"histogram\"}],\"scattergl\":[{\"type\":\"scattergl\",\"marker\":{\"colorbar\":{\"outlinewidth\":0,\"ticks\":\"\"}}}],\"scatter3d\":[{\"type\":\"scatter3d\",\"line\":{\"colorbar\":{\"outlinewidth\":0,\"ticks\":\"\"}},\"marker\":{\"colorbar\":{\"outlinewidth\":0,\"ticks\":\"\"}}}],\"scattermapbox\":[{\"type\":\"scattermapbox\",\"marker\":{\"colorbar\":{\"outlinewidth\":0,\"ticks\":\"\"}}}],\"scatterternary\":[{\"type\":\"scatterternary\",\"marker\":{\"colorbar\":{\"outlinewidth\":0,\"ticks\":\"\"}}}],\"scattercarpet\":[{\"type\":\"scattercarpet\",\"marker\":{\"colorbar\":{\"outlinewidth\":0,\"ticks\":\"\"}}}],\"carpet\":[{\"aaxis\":{\"endlinecolor\":\"#2a3f5f\",\"gridcolor\":\"white\",\"linecolor\":\"white\",\"minorgridcolor\":\"white\",\"startlinecolor\":\"#2a3f5f\"},\"baxis\":{\"endlinecolor\":\"#2a3f5f\",\"gridcolor\":\"white\",\"linecolor\":\"white\",\"minorgridcolor\":\"white\",\"startlinecolor\":\"#2a3f5f\"},\"type\":\"carpet\"}],\"table\":[{\"cells\":{\"fill\":{\"color\":\"#EBF0F8\"},\"line\":{\"color\":\"white\"}},\"header\":{\"fill\":{\"color\":\"#C8D4E3\"},\"line\":{\"color\":\"white\"}},\"type\":\"table\"}],\"barpolar\":[{\"marker\":{\"line\":{\"color\":\"#E5ECF6\",\"width\":0.5},\"pattern\":{\"fillmode\":\"overlay\",\"size\":10,\"solidity\":0.2}},\"type\":\"barpolar\"}],\"pie\":[{\"automargin\":true,\"type\":\"pie\"}]},\"layout\":{\"autotypenumbers\":\"strict\",\"colorway\":[\"#636efa\",\"#EF553B\",\"#00cc96\",\"#ab63fa\",\"#FFA15A\",\"#19d3f3\",\"#FF6692\",\"#B6E880\",\"#FF97FF\",\"#FECB52\"],\"font\":{\"color\":\"#2a3f5f\"},\"hovermode\":\"closest\",\"hoverlabel\":{\"align\":\"left\"},\"paper_bgcolor\":\"white\",\"plot_bgcolor\":\"#E5ECF6\",\"polar\":{\"bgcolor\":\"#E5ECF6\",\"angularaxis\":{\"gridcolor\":\"white\",\"linecolor\":\"white\",\"ticks\":\"\"},\"radialaxis\":{\"gridcolor\":\"white\",\"linecolor\":\"white\",\"ticks\":\"\"}},\"ternary\":{\"bgcolor\":\"#E5ECF6\",\"aaxis\":{\"gridcolor\":\"white\",\"linecolor\":\"white\",\"ticks\":\"\"},\"baxis\":{\"gridcolor\":\"white\",\"linecolor\":\"white\",\"ticks\":\"\"},\"caxis\":{\"gridcolor\":\"white\",\"linecolor\":\"white\",\"ticks\":\"\"}},\"coloraxis\":{\"colorbar\":{\"outlinewidth\":0,\"ticks\":\"\"}},\"colorscale\":{\"sequential\":[[0.0,\"#0d0887\"],[0.1111111111111111,\"#46039f\"],[0.2222222222222222,\"#7201a8\"],[0.3333333333333333,\"#9c179e\"],[0.4444444444444444,\"#bd3786\"],[0.5555555555555556,\"#d8576b\"],[0.6666666666666666,\"#ed7953\"],[0.7777777777777778,\"#fb9f3a\"],[0.8888888888888888,\"#fdca26\"],[1.0,\"#f0f921\"]],\"sequentialminus\":[[0.0,\"#0d0887\"],[0.1111111111111111,\"#46039f\"],[0.2222222222222222,\"#7201a8\"],[0.3333333333333333,\"#9c179e\"],[0.4444444444444444,\"#bd3786\"],[0.5555555555555556,\"#d8576b\"],[0.6666666666666666,\"#ed7953\"],[0.7777777777777778,\"#fb9f3a\"],[0.8888888888888888,\"#fdca26\"],[1.0,\"#f0f921\"]],\"diverging\":[[0,\"#8e0152\"],[0.1,\"#c51b7d\"],[0.2,\"#de77ae\"],[0.3,\"#f1b6da\"],[0.4,\"#fde0ef\"],[0.5,\"#f7f7f7\"],[0.6,\"#e6f5d0\"],[0.7,\"#b8e186\"],[0.8,\"#7fbc41\"],[0.9,\"#4d9221\"],[1,\"#276419\"]]},\"xaxis\":{\"gridcolor\":\"white\",\"linecolor\":\"white\",\"ticks\":\"\",\"title\":{\"standoff\":15},\"zerolinecolor\":\"white\",\"automargin\":true,\"zerolinewidth\":2},\"yaxis\":{\"gridcolor\":\"white\",\"linecolor\":\"white\",\"ticks\":\"\",\"title\":{\"standoff\":15},\"zerolinecolor\":\"white\",\"automargin\":true,\"zerolinewidth\":2},\"scene\":{\"xaxis\":{\"backgroundcolor\":\"#E5ECF6\",\"gridcolor\":\"white\",\"linecolor\":\"white\",\"showbackground\":true,\"ticks\":\"\",\"zerolinecolor\":\"white\",\"gridwidth\":2},\"yaxis\":{\"backgroundcolor\":\"#E5ECF6\",\"gridcolor\":\"white\",\"linecolor\":\"white\",\"showbackground\":true,\"ticks\":\"\",\"zerolinecolor\":\"white\",\"gridwidth\":2},\"zaxis\":{\"backgroundcolor\":\"#E5ECF6\",\"gridcolor\":\"white\",\"linecolor\":\"white\",\"showbackground\":true,\"ticks\":\"\",\"zerolinecolor\":\"white\",\"gridwidth\":2}},\"shapedefaults\":{\"line\":{\"color\":\"#2a3f5f\"}},\"annotationdefaults\":{\"arrowcolor\":\"#2a3f5f\",\"arrowhead\":0,\"arrowwidth\":1},\"geo\":{\"bgcolor\":\"white\",\"landcolor\":\"#E5ECF6\",\"subunitcolor\":\"white\",\"showland\":true,\"showlakes\":true,\"lakecolor\":\"white\"},\"title\":{\"x\":0.05},\"mapbox\":{\"style\":\"light\"}}},\"legend\":{\"tracegroupgap\":0},\"title\":{\"text\":\"Domination of Industries in unicorn Company\"}},                        {\"responsive\": true}                    ).then(function(){\n",
       "                            \n",
       "var gd = document.getElementById('1d20d87c-f15b-401c-8928-a77e78ebd682');\n",
       "var x = new MutationObserver(function (mutations, observer) {{\n",
       "        var display = window.getComputedStyle(gd).display;\n",
       "        if (!display || display === 'none') {{\n",
       "            console.log([gd, 'removed!']);\n",
       "            Plotly.purge(gd);\n",
       "            observer.disconnect();\n",
       "        }}\n",
       "}});\n",
       "\n",
       "// Listen for the removal of the full notebook cells\n",
       "var notebookContainer = gd.closest('#notebook-container');\n",
       "if (notebookContainer) {{\n",
       "    x.observe(notebookContainer, {childList: true});\n",
       "}}\n",
       "\n",
       "// Listen for the clearing of the current output cell\n",
       "var outputEl = gd.closest('.output');\n",
       "if (outputEl) {{\n",
       "    x.observe(outputEl, {childList: true});\n",
       "}}\n",
       "\n",
       "                        })                };                });            </script>        </div>"
      ]
     },
     "metadata": {},
     "output_type": "display_data"
    }
   ],
   "source": [
    "fig = px.pie(df, names='Industry', title ='Domination of Industries in unicorn Company')\n",
    "fig.show()"
   ]
  },
  {
   "cell_type": "markdown",
   "id": "0ca6599d",
   "metadata": {},
   "source": [
    "## THE AVERAGE TIME IT TOOK COMPANIES TO BECOME A UNICORN"
   ]
  },
  {
   "cell_type": "code",
   "execution_count": 190,
   "id": "29e33549",
   "metadata": {},
   "outputs": [
    {
     "name": "stdout",
     "output_type": "stream",
     "text": [
      "The average time to become a unicorn is 7.00 years.\n"
     ]
    }
   ],
   "source": [
    "# Convert 'Date' column to datetime type\n",
    "df['Date'] = pd.to_datetime(df['Date'])\n",
    "\n",
    "# Calculate the time difference between 'Date' and 'Year Founded' columns in years\n",
    "df['Time to Unicorn'] = (df['Date'].dt.year - df['Year Founded'])\n",
    "\n",
    "# Calculate the average time to become a unicorn\n",
    "average_time = df['Time to Unicorn'].mean()\n",
    "\n",
    "# Print the average time to become a unicorn\n",
    "print(f\"The average time to become a unicorn is {average_time:.2f} years.\")"
   ]
  },
  {
   "cell_type": "code",
   "execution_count": 195,
   "id": "ba4fbfeb",
   "metadata": {},
   "outputs": [
    {
     "data": {
      "image/png": "[encoded data removed]",
      "text/plain": [
       "<Figure size 640x480 with 1 Axes>"
      ]
     },
     "metadata": {},
     "output_type": "display_data"
    }
   ],
   "source": [
    "# Calculate the average time to become a unicorn\n",
    "average_time = df['Time to Unicorn'].mean()\n",
    "\n",
    "# Plot a horizontal bar graph of the average time\n",
    "plt.barh(['Average Time to Become a Unicorn'], [average_time])\n",
    "\n",
    "# Set the title and axis labels\n",
    "plt.title('Average Time to Become a Unicorn')\n",
    "plt.xlabel('Years')\n",
    "plt.ylabel('')\n",
    "\n",
    "# Display the plot\n",
    "plt.show()"
   ]
  },
  {
   "cell_type": "markdown",
   "id": "d2a66495",
   "metadata": {},
   "source": [
    "**Based on the graph of the average time to become a unicorn, we can make the following observation:**\n",
    "\n",
    "1.The average time to become a unicorn is approximately 6.5 years.\n",
    "\n",
    "2.This suggests that it takes several years for a startup to grow and scale its business to reach a valuation of $1 billion.\n",
    "\n",
    "3.The range of time taken by different companies to become unicorns is likely to be wide, as the average time is an aggregate measure.\n",
    "\n",
    "4.Factors such as the industry, market conditions, funding, and management team can all play a role in how long it takes for a company to become a unicorn.\n",
    "\n",
    "5.Knowing the average time it takes to become a unicorn can be useful for entrepreneurs and investors in setting realistic expectations and planning for the long-term growth of their businesses."
   ]
  },
  {
   "cell_type": "markdown",
   "id": "0255fb79",
   "metadata": {},
   "source": [
    "**Arranging the Company based on Valuation**"
   ]
  },
  {
   "cell_type": "code",
   "execution_count": 147,
   "id": "7db3f8fb",
   "metadata": {},
   "outputs": [
    {
     "data": {
      "text/html": [
       "<div>\n",
       "<style scoped>\n",
       "    .dataframe tbody tr th:only-of-type {\n",
       "        vertical-align: middle;\n",
       "    }\n",
       "\n",
       "    .dataframe tbody tr th {\n",
       "        vertical-align: top;\n",
       "    }\n",
       "\n",
       "    .dataframe thead th {\n",
       "        text-align: right;\n",
       "    }\n",
       "</style>\n",
       "<table border=\"1\" class=\"dataframe\">\n",
       "  <thead>\n",
       "    <tr style=\"text-align: right;\">\n",
       "      <th></th>\n",
       "      <th>Company Name</th>\n",
       "      <th>Valuation</th>\n",
       "      <th>Date</th>\n",
       "      <th>Industry</th>\n",
       "      <th>City</th>\n",
       "      <th>Country</th>\n",
       "      <th>Continent</th>\n",
       "      <th>Year Founded</th>\n",
       "      <th>Funding</th>\n",
       "      <th>Investors</th>\n",
       "      <th>Year Joined</th>\n",
       "    </tr>\n",
       "  </thead>\n",
       "  <tbody>\n",
       "    <tr>\n",
       "      <th>0</th>\n",
       "      <td>Bytedance</td>\n",
       "      <td>180</td>\n",
       "      <td>2017-04-07</td>\n",
       "      <td>Artificial intelligence</td>\n",
       "      <td>Beijing</td>\n",
       "      <td>China</td>\n",
       "      <td>Asia</td>\n",
       "      <td>2012</td>\n",
       "      <td>8.0</td>\n",
       "      <td>Sequoia Capital China, SIG Asia Investments, S...</td>\n",
       "      <td>2017</td>\n",
       "    </tr>\n",
       "    <tr>\n",
       "      <th>1</th>\n",
       "      <td>SpaceX</td>\n",
       "      <td>100</td>\n",
       "      <td>2012-12-01</td>\n",
       "      <td>Other</td>\n",
       "      <td>Hawthorne</td>\n",
       "      <td>United States</td>\n",
       "      <td>North America</td>\n",
       "      <td>2002</td>\n",
       "      <td>7.0</td>\n",
       "      <td>Founders Fund, Draper Fisher Jurvetson, Rothen...</td>\n",
       "      <td>2012</td>\n",
       "    </tr>\n",
       "    <tr>\n",
       "      <th>2</th>\n",
       "      <td>SHEIN</td>\n",
       "      <td>100</td>\n",
       "      <td>2018-07-03</td>\n",
       "      <td>E-commerce &amp; direct-to-consumer</td>\n",
       "      <td>Shenzhen</td>\n",
       "      <td>China</td>\n",
       "      <td>Asia</td>\n",
       "      <td>2008</td>\n",
       "      <td>2.0</td>\n",
       "      <td>Tiger Global Management, Sequoia Capital China...</td>\n",
       "      <td>2018</td>\n",
       "    </tr>\n",
       "    <tr>\n",
       "      <th>3</th>\n",
       "      <td>Stripe</td>\n",
       "      <td>95</td>\n",
       "      <td>2014-01-23</td>\n",
       "      <td>Fintech</td>\n",
       "      <td>San Francisco</td>\n",
       "      <td>United States</td>\n",
       "      <td>North America</td>\n",
       "      <td>2010</td>\n",
       "      <td>2.0</td>\n",
       "      <td>Khosla Ventures, LowercaseCapital, capitalG</td>\n",
       "      <td>2014</td>\n",
       "    </tr>\n",
       "    <tr>\n",
       "      <th>4</th>\n",
       "      <td>Klarna</td>\n",
       "      <td>46</td>\n",
       "      <td>2011-12-12</td>\n",
       "      <td>Fintech</td>\n",
       "      <td>Stockholm</td>\n",
       "      <td>Sweden</td>\n",
       "      <td>Europe</td>\n",
       "      <td>2005</td>\n",
       "      <td>4.0</td>\n",
       "      <td>Institutional Venture Partners, Sequoia Capita...</td>\n",
       "      <td>2011</td>\n",
       "    </tr>\n",
       "    <tr>\n",
       "      <th>5</th>\n",
       "      <td>Canva</td>\n",
       "      <td>40</td>\n",
       "      <td>2018-01-08</td>\n",
       "      <td>Internet software &amp; services</td>\n",
       "      <td>Surry Hills</td>\n",
       "      <td>Australia</td>\n",
       "      <td>Oceania</td>\n",
       "      <td>2012</td>\n",
       "      <td>572.0</td>\n",
       "      <td>Sequoia Capital China, Blackbird Ventures, Mat...</td>\n",
       "      <td>2018</td>\n",
       "    </tr>\n",
       "    <tr>\n",
       "      <th>6</th>\n",
       "      <td>Checkout.com</td>\n",
       "      <td>40</td>\n",
       "      <td>2019-05-02</td>\n",
       "      <td>Fintech</td>\n",
       "      <td>London</td>\n",
       "      <td>United Kingdom</td>\n",
       "      <td>Europe</td>\n",
       "      <td>2012</td>\n",
       "      <td>2.0</td>\n",
       "      <td>Tiger Global Management, Insight Partners, DST...</td>\n",
       "      <td>2019</td>\n",
       "    </tr>\n",
       "    <tr>\n",
       "      <th>7</th>\n",
       "      <td>Instacart</td>\n",
       "      <td>39</td>\n",
       "      <td>2014-12-30</td>\n",
       "      <td>Supply chain, logistics, &amp; delivery</td>\n",
       "      <td>San Francisco</td>\n",
       "      <td>United States</td>\n",
       "      <td>North America</td>\n",
       "      <td>2012</td>\n",
       "      <td>3.0</td>\n",
       "      <td>Khosla Ventures, Kleiner Perkins Caufield &amp; By...</td>\n",
       "      <td>2014</td>\n",
       "    </tr>\n",
       "    <tr>\n",
       "      <th>8</th>\n",
       "      <td>JUUL Labs</td>\n",
       "      <td>38</td>\n",
       "      <td>2017-12-20</td>\n",
       "      <td>Consumer &amp; retail</td>\n",
       "      <td>San Francisco</td>\n",
       "      <td>United States</td>\n",
       "      <td>North America</td>\n",
       "      <td>2015</td>\n",
       "      <td>14.0</td>\n",
       "      <td>Tiger Global Management</td>\n",
       "      <td>2017</td>\n",
       "    </tr>\n",
       "    <tr>\n",
       "      <th>9</th>\n",
       "      <td>Databricks</td>\n",
       "      <td>38</td>\n",
       "      <td>2019-02-05</td>\n",
       "      <td>Data management &amp; analytics</td>\n",
       "      <td>San Francisco</td>\n",
       "      <td>United States</td>\n",
       "      <td>North America</td>\n",
       "      <td>2013</td>\n",
       "      <td>3.0</td>\n",
       "      <td>Andreessen Horowitz, New Enterprise Associates...</td>\n",
       "      <td>2019</td>\n",
       "    </tr>\n",
       "  </tbody>\n",
       "</table>\n",
       "</div>"
      ],
      "text/plain": [
       "   Company Name  Valuation        Date                             Industry  \\\n",
       "0     Bytedance        180  2017-04-07              Artificial intelligence   \n",
       "1        SpaceX        100  2012-12-01                                Other   \n",
       "2         SHEIN        100  2018-07-03      E-commerce & direct-to-consumer   \n",
       "3        Stripe         95  2014-01-23                              Fintech   \n",
       "4        Klarna         46  2011-12-12                              Fintech   \n",
       "5         Canva         40  2018-01-08         Internet software & services   \n",
       "6  Checkout.com         40  2019-05-02                              Fintech   \n",
       "7     Instacart         39  2014-12-30  Supply chain, logistics, & delivery   \n",
       "8     JUUL Labs         38  2017-12-20                    Consumer & retail   \n",
       "9    Databricks         38  2019-02-05          Data management & analytics   \n",
       "\n",
       "            City         Country      Continent  Year Founded  Funding  \\\n",
       "0        Beijing           China           Asia          2012      8.0   \n",
       "1      Hawthorne   United States  North America          2002      7.0   \n",
       "2       Shenzhen           China           Asia          2008      2.0   \n",
       "3  San Francisco   United States  North America          2010      2.0   \n",
       "4      Stockholm          Sweden         Europe          2005      4.0   \n",
       "5    Surry Hills       Australia        Oceania          2012    572.0   \n",
       "6         London  United Kingdom         Europe          2012      2.0   \n",
       "7  San Francisco   United States  North America          2012      3.0   \n",
       "8  San Francisco   United States  North America          2015     14.0   \n",
       "9  San Francisco   United States  North America          2013      3.0   \n",
       "\n",
       "                                           Investors  Year Joined  \n",
       "0  Sequoia Capital China, SIG Asia Investments, S...         2017  \n",
       "1  Founders Fund, Draper Fisher Jurvetson, Rothen...         2012  \n",
       "2  Tiger Global Management, Sequoia Capital China...         2018  \n",
       "3        Khosla Ventures, LowercaseCapital, capitalG         2014  \n",
       "4  Institutional Venture Partners, Sequoia Capita...         2011  \n",
       "5  Sequoia Capital China, Blackbird Ventures, Mat...         2018  \n",
       "6  Tiger Global Management, Insight Partners, DST...         2019  \n",
       "7  Khosla Ventures, Kleiner Perkins Caufield & By...         2014  \n",
       "8                            Tiger Global Management         2017  \n",
       "9  Andreessen Horowitz, New Enterprise Associates...         2019  "
      ]
     },
     "execution_count": 147,
     "metadata": {},
     "output_type": "execute_result"
    }
   ],
   "source": [
    "#Arranging the Company based on Valuation\n",
    "company_wise_valuation = df.sort_values(by=\"Valuation\", ascending=False)\n",
    "company_wise_valuation.head(10)"
   ]
  },
  {
   "cell_type": "markdown",
   "id": "261672a4",
   "metadata": {},
   "source": [
    "## Top 10 countries by funding"
   ]
  },
  {
   "cell_type": "code",
   "execution_count": 266,
   "id": "886b22ac",
   "metadata": {},
   "outputs": [
    {
     "data": {
      "application/vnd.plotly.v1+json": {
       "config": {
        "plotlyServerURL": "https://plot.ly"
       },
       "data": [
        {
         "colorscale": [
          [
           0,
           "#636efa"
          ],
          [
           1,
           "#636efa"
          ]
         ],
         "geo": "geo",
         "hovertemplate": "<b>%{hovertext}</b><br><br>Funding=$902M$407M$408M<br>Country=%{location}<extra></extra>",
         "hovertext": [
          "Spain"
         ],
         "locationmode": "country names",
         "locations": [
          "Spain"
         ],
         "name": "$902M$407M$408M",
         "showlegend": true,
         "showscale": false,
         "type": "choropleth",
         "z": [
          1
         ]
        },
        {
         "colorscale": [
          [
           0,
           "#EF553B"
          ],
          [
           1,
           "#EF553B"
          ]
         ],
         "geo": "geo",
         "hovertemplate": "<b>%{hovertext}</b><br><br>Funding=$8B$2B$918M$4B$721M$765M$5B$376M$558M$3B$4B$105M$1B$2B$2B$1B$3B$1B$943M$514M$492M$1B$943M$1B$503M$4B$1B$2B$1B$761M$2B$1B$154M$775M$1B$1B$1B$612M$1B$224M$946M$536M$188M$101M$1B$390M$717M$186M$137M$216M$71M$594M$472M$755M$90M$125M$744M$445M$285M$792M$710M$298M$401M$1B$115M$523M$517M$614M$503M$768M$950M$786M$188M$523M$79M$214M$139M$227M$223M$249M$315M$131M$281M$229M$650M$52M$268M$164M$211M$43MUnknown$310M$171M$154M$188M$369M$230M$307MUnknown$149M$800M$554M$658M$2B$947M$394M$388M$235M$116M$267M$96M$650M$572M$511M$207M$362M$218M$432M$368M$151M$496M$252M$361M$10M$594M$14M$300M$787M$144M$875M$396M$325M$136M$53M$250M$1B$86M$300M$273M$697M$224M$549M$682M$105M$391M$359M$283M$439M$157M$100M$302M$200M$173M$306M$130M$253M$300M$232M$252M$144M$1B$655M$200MUnknown$623M$151M$330M$200M$182M$389M$379M$990M$80M<br>Country=%{location}<extra></extra>",
         "hovertext": [
          "China"
         ],
         "locationmode": "country names",
         "locations": [
          "China"
         ],
         "name": "$8B$2B$918M$4B$721M$765M$5B$376M$558M$3B$4B$105M$1B$2B$2B$1B$3B$1B$943M$514M$492M$1B$943M$1B$503M$4B$1B$2B$1B$761M$2B$1B$154M$775M$1B$1B$1B$612M$1B$224M$946M$536M$188M$101M$1B$390M$717M$186M$137M$216M$71M$594M$472M$755M$90M$125M$744M$445M$285M$792M$710M$298M$401M$1B$115M$523M$517M$614M$503M$768M$950M$786M$188M$523M$79M$214M$139M$227M$223M$249M$315M$131M$281M$229M$650M$52M$268M$164M$211M$43MUnknown$310M$171M$154M$188M$369M$230M$307MUnknown$149M$800M$554M$658M$2B$947M$394M$388M$235M$116M$267M$96M$650M$572M$511M$207M$362M$218M$432M$368M$151M$496M$252M$361M$10M$594M$14M$300M$787M$144M$875M$396M$325M$136M$53M$250M$1B$86M$300M$273M$697M$224M$549M$682M$105M$391M$359M$283M$439M$157M$100M$302M$200M$173M$306M$130M$253M$300M$232M$252M$144M$1B$655M$200MUnknown$623M$151M$330M$200M$182M$389M$379M$990M$80M",
         "showlegend": true,
         "showscale": false,
         "type": "choropleth",
         "z": [
          1
         ]
        },
        {
         "colorscale": [
          [
           0,
           "#00cc96"
          ],
          [
           1,
           "#00cc96"
          ]
         ],
         "geo": "geo",
         "hovertemplate": "<b>%{hovertext}</b><br><br>Funding=$824M$755M$2B$788M$628M$180M$320M$345M$507M$720M$390M$460M$592M$336M$588M$237M<br>Country=%{location}<extra></extra>",
         "hovertext": [
          "Brazil"
         ],
         "locationmode": "country names",
         "locations": [
          "Brazil"
         ],
         "name": "$824M$755M$2B$788M$628M$180M$320M$345M$507M$720M$390M$460M$592M$336M$588M$237M",
         "showlegend": true,
         "showscale": false,
         "type": "choropleth",
         "z": [
          1
         ]
        },
        {
         "colorscale": [
          [
           0,
           "#ab63fa"
          ],
          [
           1,
           "#ab63fa"
          ]
         ],
         "geo": "geo",
         "hovertemplate": "<b>%{hovertext}</b><br><br>Funding=$815M$1B$704M$948M$739M$706M$812M$466M$364M$517M$663M$422M$449M$450M$1B$393M$314M$532MUnknown$232M$263M$293M$545M$326M<br>Country=%{location}<extra></extra>",
         "hovertext": [
          "France"
         ],
         "locationmode": "country names",
         "locations": [
          "France"
         ],
         "name": "$815M$1B$704M$948M$739M$706M$812M$466M$364M$517M$663M$422M$449M$450M$1B$393M$314M$532MUnknown$232M$263M$293M$545M$326M",
         "showlegend": true,
         "showscale": false,
         "type": "choropleth",
         "z": [
          1
         ]
        },
        {
         "colorscale": [
          [
           0,
           "#FFA15A"
          ],
          [
           1,
           "#FFA15A"
          ]
         ],
         "geo": "geo",
         "hovertemplate": "<b>%{hovertext}</b><br><br>Funding=$803M$148M$210M$330M<br>Country=%{location}<extra></extra>",
         "hovertext": [
          "Finland"
         ],
         "locationmode": "country names",
         "locations": [
          "Finland"
         ],
         "name": "$803M$148M$210M$330M",
         "showlegend": true,
         "showscale": false,
         "type": "choropleth",
         "z": [
          1
         ]
        },
        {
         "colorscale": [
          [
           0,
           "#19d3f3"
          ],
          [
           1,
           "#19d3f3"
          ]
         ],
         "geo": "geo",
         "hovertemplate": "<b>%{hovertext}</b><br><br>Funding=$7B$2B$3B$14B$3B$7B$4B$2B$476M$979M$3B$734M$2B$427M$400M$4B$1B$1B$1B$799M$800M$1B$294M$572M$1B$564M$1B$333M$691M$343M$1B$497M$2B$1B$2B$1B$679M$770M$775M$1B$2B$549M$1B$660M$820M$1B$2B$2B$863M$447M$1B$603M$583M$912M$849M$424M$660M$1B$645M$629M$728M$433M$891M$1B$1B$415M$587M$826M$910M$412M$405M$729M$644M$691M$559M$497M$647M$567M$426M$462M$926M$633M$371M$1B$1B$128M$119M$555M$864M$468M$505M$542M$381M$434M$643M$1B$294M$435M$489M$352M$477M$125M$404M$498M$493M$657M$440M$792M$263M$2B$603M$324M$379M$367M$414M$350M$1B$1B$495M$664M$1B$864M$523M$667M$720M$535M$110M$870M$614M$504M$881M$856M$413M$553M$445M$335M$450M$1M$1B$859M$125M$660M$714M$225M$500M$582M$314M$366M$465M$730M$607M$987M$313M$395M$496M$357M$722M$407M$818M$248M$507M$414M$407M$314M$200M$417M$999M$880M$777M$398M$666M$558M$461M$326M$379M$334M$399M$698M$483M$551M$665M$628M$475M$722M$360M$500M$487M$1B$351M$523M$711M$775M$474M$525M$535M$187M$329M$330M$170M$240M$419M$496M$427M$339M$127M$45M$503M$19M$29M$640M$200M$431M$861M$568M$320M$181M$381M$150M$289M$100M$119M$719M$381M$142M$261M$245M$192M$211M$217M$253M$218M$225M$253M$435M$152M$129MUnknown$299M$225M$331M$340M$204M$419M$380M$401M$282M$682M$151M$390M$421M$219M$498M$325M$152M$538M$450M$255M$195M$139M$298M$624M$266M$179M$315M$403M$358M$251M$195M$792M$542M$261M$237M$231M$275M$497M$557M$417M$275M$218M$334M$277M$423M$422M$402M$400M$525M$259M$351M$172M$240M$374M$676M$96M$507M$295M$300M$397M$349M$268M$507M$305M$450M$277M$365M$487M$640M$293M$658M$341M$218M$302M$300M$100M$456M$370M$410M$475M$299M$251M$121MUnknown$342M$550M$545M$315M$3B$527M$183M$192M$408M$202M$566M$226M$356M$296M$296M$365M$432M$373M$94M$206M$700M$231M$2B$211M$310M$143M$394M$163M$329M$352M$174M$440M$660M$160M$632M$910M$294M$271M$236M$228M$323M$183M$303M$181M$328M$240M$318M$170M$384M$169M$141M$241M$271M$286M$426M$511M$382M$436M$156M$287M$390M$115M$475M$335M$738M$102MUnknown$130M$399M$215M$128M$336M$201M$610M$291M$241M$246M$165M$325M$257M$260M$482M$148M$111M$192M$317M$271M$189M$230M$148M$382M$365M$337M$430M$281M$124M$118M$161M$315M$309M$347M$189M$264M$197M$167M$236M$323M$339M$192M$150M$205M$292M$205M$140M$120M$172M$404M$258M$134M$169M$200M$433M$130M$274M$210M$361M$223M$107M$217M$132M$277M$221M$226M$524M$243M$187M$160M$200MUnknown$294M$150M$238M$526M$241M$538M$141M$406M$165M$570MUnknown$182M$254M$305M$196M$269M$128M$209M$145M$259M$258M$294M$277M$299M$314M$45M$152M$362M$800M$337M$93M$17M$135MUnknownUnknown$143M$205M$299M$282M$265M$110M$202M$325M$126M$91M$174M$463M$151M$172M$220M$449M$223M$192M$252M$254M$51M$60M$195M$100M$166M$130M$226M$62M$273M$250M$2B$330M$484M$310M$127M$328M$331M$154M$163M$157M$340M$161M$255M$371M$135M$172M$215M$114M$239M$126M$376M$336M$257M$210M$181M$51M$156M$163M$585M$128M$308M$187M$70M$200M$131M$492M$620M<br>Country=%{location}<extra></extra>",
         "hovertext": [
          "United States"
         ],
         "locationmode": "country names",
         "locations": [
          "United States"
         ],
         "name": "$7B$2B$3B$14B$3B$7B$4B$2B$476M$979M$3B$734M$2B$427M$400M$4B$1B$1B$1B$799M$800M$1B$294M$572M$1B$564M$1B$333M$691M$343M$1B$497M$2B$1B$2B$1B$679M$770M$775M$1B$2B$549M$1B$660M$820M$1B$2B$2B$863M$447M$1B$603M$583M$912M$849M$424M$660M$1B$645M$629M$728M$433M$891M$1B$1B$415M$587M$826M$910M$412M$405M$729M$644M$691M$559M$497M$647M$567M$426M$462M$926M$633M$371M$1B$1B$128M$119M$555M$864M$468M$505M$542M$381M$434M$643M$1B$294M$435M$489M$352M$477M$125M$404M$498M$493M$657M$440M$792M$263M$2B$603M$324M$379M$367M$414M$350M$1B$1B$495M$664M$1B$864M$523M$667M$720M$535M$110M$870M$614M$504M$881M$856M$413M$553M$445M$335M$450M$1M$1B$859M$125M$660M$714M$225M$500M$582M$314M$366M$465M$730M$607M$987M$313M$395M$496M$357M$722M$407M$818M$248M$507M$414M$407M$314M$200M$417M$999M$880M$777M$398M$666M$558M$461M$326M$379M$334M$399M$698M$483M$551M$665M$628M$475M$722M$360M$500M$487M$1B$351M$523M$711M$775M$474M$525M$535M$187M$329M$330M$170M$240M$419M$496M$427M$339M$127M$45M$503M$19M$29M$640M$200M$431M$861M$568M$320M$181M$381M$150M$289M$100M$119M$719M$381M$142M$261M$245M$192M$211M$217M$253M$218M$225M$253M$435M$152M$129MUnknown$299M$225M$331M$340M$204M$419M$380M$401M$282M$682M$151M$390M$421M$219M$498M$325M$152M$538M$450M$255M$195M$139M$298M$624M$266M$179M$315M$403M$358M$251M$195M$792M$542M$261M$237M$231M$275M$497M$557M$417M$275M$218M$334M$277M$423M$422M$402M$400M$525M$259M$351M$172M$240M$374M$676M$96M$507M$295M$300M$397M$349M$268M$507M$305M$450M$277M$365M$487M$640M$293M$658M$341M$218M$302M$300M$100M$456M$370M$410M$475M$299M$251M$121MUnknown$342M$550M$545M$315M$3B$527M$183M$192M$408M$202M$566M$226M$356M$296M$296M$365M$432M$373M$94M$206M$700M$231M$2B$211M$310M$143M$394M$163M$329M$352M$174M$440M$660M$160M$632M$910M$294M$271M$236M$228M$323M$183M$303M$181M$328M$240M$318M$170M$384M$169M$141M$241M$271M$286M$426M$511M$382M$436M$156M$287M$390M$115M$475M$335M$738M$102MUnknown$130M$399M$215M$128M$336M$201M$610M$291M$241M$246M$165M$325M$257M$260M$482M$148M$111M$192M$317M$271M$189M$230M$148M$382M$365M$337M$430M$281M$124M$118M$161M$315M$309M$347M$189M$264M$197M$167M$236M$323M$339M$192M$150M$205M$292M$205M$140M$120M$172M$404M$258M$134M$169M$200M$433M$130M$274M$210M$361M$223M$107M$217M$132M$277M$221M$226M$524M$243M$187M$160M$200MUnknown$294M$150M$238M$526M$241M$538M$141M$406M$165M$570MUnknown$182M$254M$305M$196M$269M$128M$209M$145M$259M$258M$294M$277M$299M$314M$45M$152M$362M$800M$337M$93M$17M$135MUnknownUnknown$143M$205M$299M$282M$265M$110M$202M$325M$126M$91M$174M$463M$151M$172M$220M$449M$223M$192M$252M$254M$51M$60M$195M$100M$166M$130M$226M$62M$273M$250M$2B$330M$484M$310M$127M$328M$331M$154M$163M$157M$340M$161M$255M$371M$135M$172M$215M$114M$239M$126M$376M$336M$257M$210M$181M$51M$156M$163M$585M$128M$308M$187M$70M$200M$131M$492M$620M",
         "showlegend": true,
         "showscale": false,
         "type": "choropleth",
         "z": [
          1
         ]
        },
        {
         "colorscale": [
          [
           0,
           "#FF6692"
          ],
          [
           1,
           "#FF6692"
          ]
         ],
         "geo": "geo",
         "hovertemplate": "<b>%{hovertext}</b><br><br>Funding=$71M$2B$844M$216M$770M$397M$287M$62M$178M$67M$33M$408M<br>Country=%{location}<extra></extra>",
         "hovertext": [
          "South Korea"
         ],
         "locationmode": "country names",
         "locations": [
          "South Korea"
         ],
         "name": "$71M$2B$844M$216M$770M$397M$287M$62M$178M$67M$33M$408M",
         "showlegend": true,
         "showscale": false,
         "type": "choropleth",
         "z": [
          1
         ]
        },
        {
         "colorscale": [
          [
           0,
           "#B6E880"
          ],
          [
           1,
           "#B6E880"
          ]
         ],
         "geo": "geo",
         "hovertemplate": "<b>%{hovertext}</b><br><br>Funding=$607M$920M$599MUnknown$230M$483M$299M$386M$474M$433M$165M$45M$191M$186M$534M$64M$156M$235M$217M<br>Country=%{location}<extra></extra>",
         "hovertext": [
          "Canada"
         ],
         "locationmode": "country names",
         "locations": [
          "Canada"
         ],
         "name": "$607M$920M$599MUnknown$230M$483M$299M$386M$474M$433M$165M$45M$191M$186M$534M$64M$156M$235M$217M",
         "showlegend": true,
         "showscale": false,
         "type": "choropleth",
         "z": [
          1
         ]
        },
        {
         "colorscale": [
          [
           0,
           "#FF97FF"
          ],
          [
           1,
           "#FF97FF"
          ]
         ],
         "geo": "geo",
         "hovertemplate": "<b>%{hovertext}</b><br><br>Funding=$600M$425M$532M$583M$417M$203M$190M$274M$305M$161M$98M$264M$633M$86M$265M$185M$325M$221M$92M$190M<br>Country=%{location}<extra></extra>",
         "hovertext": [
          "Israel"
         ],
         "locationmode": "country names",
         "locations": [
          "Israel"
         ],
         "name": "$600M$425M$532M$583M$417M$203M$190M$274M$305M$161M$98M$264M$633M$86M$265M$185M$325M$221M$92M$190M",
         "showlegend": true,
         "showscale": false,
         "type": "choropleth",
         "z": [
          1
         ]
        },
        {
         "colorscale": [
          [
           0,
           "#FECB52"
          ],
          [
           1,
           "#FECB52"
          ]
         ],
         "geo": "geo",
         "hovertemplate": "<b>%{hovertext}</b><br><br>Funding=$5B$1B$438M$245M$333M$215M<br>Country=%{location}<extra></extra>",
         "hovertext": [
          "Indonesia"
         ],
         "locationmode": "country names",
         "locations": [
          "Indonesia"
         ],
         "name": "$5B$1B$438M$245M$333M$215M",
         "showlegend": true,
         "showscale": false,
         "type": "choropleth",
         "z": [
          1
         ]
        },
        {
         "colorscale": [
          [
           0,
           "#636efa"
          ],
          [
           1,
           "#636efa"
          ]
         ],
         "geo": "geo",
         "hovertemplate": "<b>%{hovertext}</b><br><br>Funding=$596M$229M$237M<br>Country=%{location}<extra></extra>",
         "hovertext": [
          "Belgium"
         ],
         "locationmode": "country names",
         "locations": [
          "Belgium"
         ],
         "name": "$596M$229M$237M",
         "showlegend": true,
         "showscale": false,
         "type": "choropleth",
         "z": [
          1
         ]
        },
        {
         "colorscale": [
          [
           0,
           "#EF553B"
          ],
          [
           1,
           "#EF553B"
          ]
         ],
         "geo": "geo",
         "hovertemplate": "<b>%{hovertext}</b><br><br>Funding=$577M<br>Country=%{location}<extra></extra>",
         "hovertext": [
          "Malaysia"
         ],
         "locationmode": "country names",
         "locations": [
          "Malaysia"
         ],
         "name": "$577M",
         "showlegend": true,
         "showscale": false,
         "type": "choropleth",
         "z": [
          1
         ]
        },
        {
         "colorscale": [
          [
           0,
           "#00cc96"
          ],
          [
           1,
           "#00cc96"
          ]
         ],
         "geo": "geo",
         "hovertemplate": "<b>%{hovertext}</b><br><br>Funding=$572M$802M$280M$257M$222M$166M$284M$125M<br>Country=%{location}<extra></extra>",
         "hovertext": [
          "Australia"
         ],
         "locationmode": "country names",
         "locations": [
          "Australia"
         ],
         "name": "$572M$802M$280M$257M$222M$166M$284M$125M",
         "showlegend": true,
         "showscale": false,
         "type": "choropleth",
         "z": [
          1
         ]
        },
        {
         "colorscale": [
          [
           0,
           "#ab63fa"
          ],
          [
           1,
           "#ab63fa"
          ]
         ],
         "geo": "geo",
         "hovertemplate": "<b>%{hovertext}</b><br><br>Funding=$570M<br>Country=%{location}<extra></extra>",
         "hovertext": [
          "Nigeria"
         ],
         "locationmode": "country names",
         "locations": [
          "Nigeria"
         ],
         "name": "$570M",
         "showlegend": true,
         "showscale": false,
         "type": "choropleth",
         "z": [
          1
         ]
        },
        {
         "colorscale": [
          [
           0,
           "#FFA15A"
          ],
          [
           1,
           "#FFA15A"
          ]
         ],
         "geo": "geo",
         "hovertemplate": "<b>%{hovertext}</b><br><br>Funding=$562M<br>Country=%{location}<extra></extra>",
         "hovertext": [
          "Lithuania"
         ],
         "locationmode": "country names",
         "locations": [
          "Lithuania"
         ],
         "name": "$562M",
         "showlegend": true,
         "showscale": false,
         "type": "choropleth",
         "z": [
          1
         ]
        },
        {
         "colorscale": [
          [
           0,
           "#19d3f3"
          ],
          [
           1,
           "#19d3f3"
          ]
         ],
         "geo": "geo",
         "hovertemplate": "<b>%{hovertext}</b><br><br>Funding=$556M$547M<br>Country=%{location}<extra></extra>",
         "hovertext": [
          "South Africa"
         ],
         "locationmode": "country names",
         "locations": [
          "South Africa"
         ],
         "name": "$556M$547M",
         "showlegend": true,
         "showscale": false,
         "type": "choropleth",
         "z": [
          1
         ]
        },
        {
         "colorscale": [
          [
           0,
           "#FF6692"
          ],
          [
           1,
           "#FF6692"
          ]
         ],
         "geo": "geo",
         "hovertemplate": "<b>%{hovertext}</b><br><br>Funding=$546M$685M<br>Country=%{location}<extra></extra>",
         "hovertext": [
          "Austria"
         ],
         "locationmode": "country names",
         "locations": [
          "Austria"
         ],
         "name": "$546M$685M",
         "showlegend": true,
         "showscale": false,
         "type": "choropleth",
         "z": [
          1
         ]
        },
        {
         "colorscale": [
          [
           0,
           "#B6E880"
          ],
          [
           1,
           "#B6E880"
          ]
         ],
         "geo": "geo",
         "hovertemplate": "<b>%{hovertext}</b><br><br>Funding=$544M<br>Country=%{location}<extra></extra>",
         "hovertext": [
          "Argentina"
         ],
         "locationmode": "country names",
         "locations": [
          "Argentina"
         ],
         "name": "$544M",
         "showlegend": true,
         "showscale": false,
         "type": "choropleth",
         "z": [
          1
         ]
        },
        {
         "colorscale": [
          [
           0,
           "#FF97FF"
          ],
          [
           1,
           "#FF97FF"
          ]
         ],
         "geo": "geo",
         "hovertemplate": "<b>%{hovertext}</b><br><br>Funding=$4B$5B$3B$2B$742M$297M$922M$4B$869M$1B$734M$761M$903M$776M$1B$54M$531M$75M$274M$789M$543M$1B$591M$600M$1B$1B$393M$634M$221M$435M$376M$612M$509M$301M$441M$371M$227M$249M$2B$665M$456M$177M$521M$448M$427M$310M$194M$573M$458M$193M$109M$185M$166M$111M$247M$240M$352M$107M$685M$137M$489M$218M$424M$249M$292M<br>Country=%{location}<extra></extra>",
         "hovertext": [
          "India"
         ],
         "locationmode": "country names",
         "locations": [
          "India"
         ],
         "name": "$4B$5B$3B$2B$742M$297M$922M$4B$869M$1B$734M$761M$903M$776M$1B$54M$531M$75M$274M$789M$543M$1B$591M$600M$1B$1B$393M$634M$221M$435M$376M$612M$509M$301M$441M$371M$227M$249M$2B$665M$456M$177M$521M$448M$427M$310M$194M$573M$458M$193M$109M$185M$166M$111M$247M$240M$352M$107M$685M$137M$489M$218M$424M$249M$292M",
         "showlegend": true,
         "showscale": false,
         "type": "choropleth",
         "z": [
          1
         ]
        },
        {
         "colorscale": [
          [
           0,
           "#FECB52"
          ],
          [
           1,
           "#FECB52"
          ]
         ],
         "geo": "geo",
         "hovertemplate": "<b>%{hovertext}</b><br><br>Funding=$4B$4B$569M$151M$509M$516M<br>Country=%{location}<extra></extra>",
         "hovertext": [
          "Sweden"
         ],
         "locationmode": "country names",
         "locations": [
          "Sweden"
         ],
         "name": "$4B$4B$569M$151M$509M$516M",
         "showlegend": true,
         "showscale": false,
         "type": "choropleth",
         "z": [
          1
         ]
        }
       ],
       "layout": {
        "geo": {
         "center": {},
         "domain": {
          "x": [
           0,
           1
          ],
          "y": [
           0,
           1
          ]
         }
        },
        "legend": {
         "title": {
          "text": "Funding"
         },
         "tracegroupgap": 0
        },
        "template": {
         "data": {
          "bar": [
           {
            "error_x": {
             "color": "#2a3f5f"
            },
            "error_y": {
             "color": "#2a3f5f"
            },
            "marker": {
             "line": {
              "color": "#E5ECF6",
              "width": 0.5
             },
             "pattern": {
              "fillmode": "overlay",
              "size": 10,
              "solidity": 0.2
             }
            },
            "type": "bar"
           }
          ],
          "barpolar": [
           {
            "marker": {
             "line": {
              "color": "#E5ECF6",
              "width": 0.5
             },
             "pattern": {
              "fillmode": "overlay",
              "size": 10,
              "solidity": 0.2
             }
            },
            "type": "barpolar"
           }
          ],
          "carpet": [
           {
            "aaxis": {
             "endlinecolor": "#2a3f5f",
             "gridcolor": "white",
             "linecolor": "white",
             "minorgridcolor": "white",
             "startlinecolor": "#2a3f5f"
            },
            "baxis": {
             "endlinecolor": "#2a3f5f",
             "gridcolor": "white",
             "linecolor": "white",
             "minorgridcolor": "white",
             "startlinecolor": "#2a3f5f"
            },
            "type": "carpet"
           }
          ],
          "choropleth": [
           {
            "colorbar": {
             "outlinewidth": 0,
             "ticks": ""
            },
            "type": "choropleth"
           }
          ],
          "contour": [
           {
            "colorbar": {
             "outlinewidth": 0,
             "ticks": ""
            },
            "colorscale": [
             [
              0,
              "#0d0887"
             ],
             [
              0.1111111111111111,
              "#46039f"
             ],
             [
              0.2222222222222222,
              "#7201a8"
             ],
             [
              0.3333333333333333,
              "#9c179e"
             ],
             [
              0.4444444444444444,
              "#bd3786"
             ],
             [
              0.5555555555555556,
              "#d8576b"
             ],
             [
              0.6666666666666666,
              "#ed7953"
             ],
             [
              0.7777777777777778,
              "#fb9f3a"
             ],
             [
              0.8888888888888888,
              "#fdca26"
             ],
             [
              1,
              "#f0f921"
             ]
            ],
            "type": "contour"
           }
          ],
          "contourcarpet": [
           {
            "colorbar": {
             "outlinewidth": 0,
             "ticks": ""
            },
            "type": "contourcarpet"
           }
          ],
          "heatmap": [
           {
            "colorbar": {
             "outlinewidth": 0,
             "ticks": ""
            },
            "colorscale": [
             [
              0,
              "#0d0887"
             ],
             [
              0.1111111111111111,
              "#46039f"
             ],
             [
              0.2222222222222222,
              "#7201a8"
             ],
             [
              0.3333333333333333,
              "#9c179e"
             ],
             [
              0.4444444444444444,
              "#bd3786"
             ],
             [
              0.5555555555555556,
              "#d8576b"
             ],
             [
              0.6666666666666666,
              "#ed7953"
             ],
             [
              0.7777777777777778,
              "#fb9f3a"
             ],
             [
              0.8888888888888888,
              "#fdca26"
             ],
             [
              1,
              "#f0f921"
             ]
            ],
            "type": "heatmap"
           }
          ],
          "heatmapgl": [
           {
            "colorbar": {
             "outlinewidth": 0,
             "ticks": ""
            },
            "colorscale": [
             [
              0,
              "#0d0887"
             ],
             [
              0.1111111111111111,
              "#46039f"
             ],
             [
              0.2222222222222222,
              "#7201a8"
             ],
             [
              0.3333333333333333,
              "#9c179e"
             ],
             [
              0.4444444444444444,
              "#bd3786"
             ],
             [
              0.5555555555555556,
              "#d8576b"
             ],
             [
              0.6666666666666666,
              "#ed7953"
             ],
             [
              0.7777777777777778,
              "#fb9f3a"
             ],
             [
              0.8888888888888888,
              "#fdca26"
             ],
             [
              1,
              "#f0f921"
             ]
            ],
            "type": "heatmapgl"
           }
          ],
          "histogram": [
           {
            "marker": {
             "pattern": {
              "fillmode": "overlay",
              "size": 10,
              "solidity": 0.2
             }
            },
            "type": "histogram"
           }
          ],
          "histogram2d": [
           {
            "colorbar": {
             "outlinewidth": 0,
             "ticks": ""
            },
            "colorscale": [
             [
              0,
              "#0d0887"
             ],
             [
              0.1111111111111111,
              "#46039f"
             ],
             [
              0.2222222222222222,
              "#7201a8"
             ],
             [
              0.3333333333333333,
              "#9c179e"
             ],
             [
              0.4444444444444444,
              "#bd3786"
             ],
             [
              0.5555555555555556,
              "#d8576b"
             ],
             [
              0.6666666666666666,
              "#ed7953"
             ],
             [
              0.7777777777777778,
              "#fb9f3a"
             ],
             [
              0.8888888888888888,
              "#fdca26"
             ],
             [
              1,
              "#f0f921"
             ]
            ],
            "type": "histogram2d"
           }
          ],
          "histogram2dcontour": [
           {
            "colorbar": {
             "outlinewidth": 0,
             "ticks": ""
            },
            "colorscale": [
             [
              0,
              "#0d0887"
             ],
             [
              0.1111111111111111,
              "#46039f"
             ],
             [
              0.2222222222222222,
              "#7201a8"
             ],
             [
              0.3333333333333333,
              "#9c179e"
             ],
             [
              0.4444444444444444,
              "#bd3786"
             ],
             [
              0.5555555555555556,
              "#d8576b"
             ],
             [
              0.6666666666666666,
              "#ed7953"
             ],
             [
              0.7777777777777778,
              "#fb9f3a"
             ],
             [
              0.8888888888888888,
              "#fdca26"
             ],
             [
              1,
              "#f0f921"
             ]
            ],
            "type": "histogram2dcontour"
           }
          ],
          "mesh3d": [
           {
            "colorbar": {
             "outlinewidth": 0,
             "ticks": ""
            },
            "type": "mesh3d"
           }
          ],
          "parcoords": [
           {
            "line": {
             "colorbar": {
              "outlinewidth": 0,
              "ticks": ""
             }
            },
            "type": "parcoords"
           }
          ],
          "pie": [
           {
            "automargin": true,
            "type": "pie"
           }
          ],
          "scatter": [
           {
            "fillpattern": {
             "fillmode": "overlay",
             "size": 10,
             "solidity": 0.2
            },
            "type": "scatter"
           }
          ],
          "scatter3d": [
           {
            "line": {
             "colorbar": {
              "outlinewidth": 0,
              "ticks": ""
             }
            },
            "marker": {
             "colorbar": {
              "outlinewidth": 0,
              "ticks": ""
             }
            },
            "type": "scatter3d"
           }
          ],
          "scattercarpet": [
           {
            "marker": {
             "colorbar": {
              "outlinewidth": 0,
              "ticks": ""
             }
            },
            "type": "scattercarpet"
           }
          ],
          "scattergeo": [
           {
            "marker": {
             "colorbar": {
              "outlinewidth": 0,
              "ticks": ""
             }
            },
            "type": "scattergeo"
           }
          ],
          "scattergl": [
           {
            "marker": {
             "colorbar": {
              "outlinewidth": 0,
              "ticks": ""
             }
            },
            "type": "scattergl"
           }
          ],
          "scattermapbox": [
           {
            "marker": {
             "colorbar": {
              "outlinewidth": 0,
              "ticks": ""
             }
            },
            "type": "scattermapbox"
           }
          ],
          "scatterpolar": [
           {
            "marker": {
             "colorbar": {
              "outlinewidth": 0,
              "ticks": ""
             }
            },
            "type": "scatterpolar"
           }
          ],
          "scatterpolargl": [
           {
            "marker": {
             "colorbar": {
              "outlinewidth": 0,
              "ticks": ""
             }
            },
            "type": "scatterpolargl"
           }
          ],
          "scatterternary": [
           {
            "marker": {
             "colorbar": {
              "outlinewidth": 0,
              "ticks": ""
             }
            },
            "type": "scatterternary"
           }
          ],
          "surface": [
           {
            "colorbar": {
             "outlinewidth": 0,
             "ticks": ""
            },
            "colorscale": [
             [
              0,
              "#0d0887"
             ],
             [
              0.1111111111111111,
              "#46039f"
             ],
             [
              0.2222222222222222,
              "#7201a8"
             ],
             [
              0.3333333333333333,
              "#9c179e"
             ],
             [
              0.4444444444444444,
              "#bd3786"
             ],
             [
              0.5555555555555556,
              "#d8576b"
             ],
             [
              0.6666666666666666,
              "#ed7953"
             ],
             [
              0.7777777777777778,
              "#fb9f3a"
             ],
             [
              0.8888888888888888,
              "#fdca26"
             ],
             [
              1,
              "#f0f921"
             ]
            ],
            "type": "surface"
           }
          ],
          "table": [
           {
            "cells": {
             "fill": {
              "color": "#EBF0F8"
             },
             "line": {
              "color": "white"
             }
            },
            "header": {
             "fill": {
              "color": "#C8D4E3"
             },
             "line": {
              "color": "white"
             }
            },
            "type": "table"
           }
          ]
         },
         "layout": {
          "annotationdefaults": {
           "arrowcolor": "#2a3f5f",
           "arrowhead": 0,
           "arrowwidth": 1
          },
          "autotypenumbers": "strict",
          "coloraxis": {
           "colorbar": {
            "outlinewidth": 0,
            "ticks": ""
           }
          },
          "colorscale": {
           "diverging": [
            [
             0,
             "#8e0152"
            ],
            [
             0.1,
             "#c51b7d"
            ],
            [
             0.2,
             "#de77ae"
            ],
            [
             0.3,
             "#f1b6da"
            ],
            [
             0.4,
             "#fde0ef"
            ],
            [
             0.5,
             "#f7f7f7"
            ],
            [
             0.6,
             "#e6f5d0"
            ],
            [
             0.7,
             "#b8e186"
            ],
            [
             0.8,
             "#7fbc41"
            ],
            [
             0.9,
             "#4d9221"
            ],
            [
             1,
             "#276419"
            ]
           ],
           "sequential": [
            [
             0,
             "#0d0887"
            ],
            [
             0.1111111111111111,
             "#46039f"
            ],
            [
             0.2222222222222222,
             "#7201a8"
            ],
            [
             0.3333333333333333,
             "#9c179e"
            ],
            [
             0.4444444444444444,
             "#bd3786"
            ],
            [
             0.5555555555555556,
             "#d8576b"
            ],
            [
             0.6666666666666666,
             "#ed7953"
            ],
            [
             0.7777777777777778,
             "#fb9f3a"
            ],
            [
             0.8888888888888888,
             "#fdca26"
            ],
            [
             1,
             "#f0f921"
            ]
           ],
           "sequentialminus": [
            [
             0,
             "#0d0887"
            ],
            [
             0.1111111111111111,
             "#46039f"
            ],
            [
             0.2222222222222222,
             "#7201a8"
            ],
            [
             0.3333333333333333,
             "#9c179e"
            ],
            [
             0.4444444444444444,
             "#bd3786"
            ],
            [
             0.5555555555555556,
             "#d8576b"
            ],
            [
             0.6666666666666666,
             "#ed7953"
            ],
            [
             0.7777777777777778,
             "#fb9f3a"
            ],
            [
             0.8888888888888888,
             "#fdca26"
            ],
            [
             1,
             "#f0f921"
            ]
           ]
          },
          "colorway": [
           "#636efa",
           "#EF553B",
           "#00cc96",
           "#ab63fa",
           "#FFA15A",
           "#19d3f3",
           "#FF6692",
           "#B6E880",
           "#FF97FF",
           "#FECB52"
          ],
          "font": {
           "color": "#2a3f5f"
          },
          "geo": {
           "bgcolor": "white",
           "lakecolor": "white",
           "landcolor": "#E5ECF6",
           "showlakes": true,
           "showland": true,
           "subunitcolor": "white"
          },
          "hoverlabel": {
           "align": "left"
          },
          "hovermode": "closest",
          "mapbox": {
           "style": "light"
          },
          "paper_bgcolor": "white",
          "plot_bgcolor": "#E5ECF6",
          "polar": {
           "angularaxis": {
            "gridcolor": "white",
            "linecolor": "white",
            "ticks": ""
           },
           "bgcolor": "#E5ECF6",
           "radialaxis": {
            "gridcolor": "white",
            "linecolor": "white",
            "ticks": ""
           }
          },
          "scene": {
           "xaxis": {
            "backgroundcolor": "#E5ECF6",
            "gridcolor": "white",
            "gridwidth": 2,
            "linecolor": "white",
            "showbackground": true,
            "ticks": "",
            "zerolinecolor": "white"
           },
           "yaxis": {
            "backgroundcolor": "#E5ECF6",
            "gridcolor": "white",
            "gridwidth": 2,
            "linecolor": "white",
            "showbackground": true,
            "ticks": "",
            "zerolinecolor": "white"
           },
           "zaxis": {
            "backgroundcolor": "#E5ECF6",
            "gridcolor": "white",
            "gridwidth": 2,
            "linecolor": "white",
            "showbackground": true,
            "ticks": "",
            "zerolinecolor": "white"
           }
          },
          "shapedefaults": {
           "line": {
            "color": "#2a3f5f"
           }
          },
          "ternary": {
           "aaxis": {
            "gridcolor": "white",
            "linecolor": "white",
            "ticks": ""
           },
           "baxis": {
            "gridcolor": "white",
            "linecolor": "white",
            "ticks": ""
           },
           "bgcolor": "#E5ECF6",
           "caxis": {
            "gridcolor": "white",
            "linecolor": "white",
            "ticks": ""
           }
          },
          "title": {
           "x": 0.05
          },
          "xaxis": {
           "automargin": true,
           "gridcolor": "white",
           "linecolor": "white",
           "ticks": "",
           "title": {
            "standoff": 15
           },
           "zerolinecolor": "white",
           "zerolinewidth": 2
          },
          "yaxis": {
           "automargin": true,
           "gridcolor": "white",
           "linecolor": "white",
           "ticks": "",
           "title": {
            "standoff": 15
           },
           "zerolinecolor": "white",
           "zerolinewidth": 2
          }
         }
        },
        "title": {
         "text": "Top 10 Countries by Funding"
        }
       }
      },
      "text/html": [
       "<div>                            <div id=\"136af4ae-2f33-4342-b25d-a953a889eba7\" class=\"plotly-graph-div\" style=\"height:525px; width:100%;\"></div>            <script type=\"text/javascript\">                require([\"plotly\"], function(Plotly) {                    window.PLOTLYENV=window.PLOTLYENV || {};                                    if (document.getElementById(\"136af4ae-2f33-4342-b25d-a953a889eba7\")) {                    Plotly.newPlot(                        \"136af4ae-2f33-4342-b25d-a953a889eba7\",                        [{\"colorscale\":[[0.0,\"#636efa\"],[1.0,\"#636efa\"]],\"geo\":\"geo\",\"hovertemplate\":\"<b>%{hovertext}</b><br><br>Funding=$902M$407M$408M<br>Country=%{location}<extra></extra>\",\"hovertext\":[\"Spain\"],\"locationmode\":\"country names\",\"locations\":[\"Spain\"],\"name\":\"$902M$407M$408M\",\"showlegend\":true,\"showscale\":false,\"z\":[1],\"type\":\"choropleth\"},{\"colorscale\":[[0.0,\"#EF553B\"],[1.0,\"#EF553B\"]],\"geo\":\"geo\",\"hovertemplate\":\"<b>%{hovertext}</b><br><br>Funding=$8B$2B$918M$4B$721M$765M$5B$376M$558M$3B$4B$105M$1B$2B$2B$1B$3B$1B$943M$514M$492M$1B$943M$1B$503M$4B$1B$2B$1B$761M$2B$1B$154M$775M$1B$1B$1B$612M$1B$224M$946M$536M$188M$101M$1B$390M$717M$186M$137M$216M$71M$594M$472M$755M$90M$125M$744M$445M$285M$792M$710M$298M$401M$1B$115M$523M$517M$614M$503M$768M$950M$786M$188M$523M$79M$214M$139M$227M$223M$249M$315M$131M$281M$229M$650M$52M$268M$164M$211M$43MUnknown$310M$171M$154M$188M$369M$230M$307MUnknown$149M$800M$554M$658M$2B$947M$394M$388M$235M$116M$267M$96M$650M$572M$511M$207M$362M$218M$432M$368M$151M$496M$252M$361M$10M$594M$14M$300M$787M$144M$875M$396M$325M$136M$53M$250M$1B$86M$300M$273M$697M$224M$549M$682M$105M$391M$359M$283M$439M$157M$100M$302M$200M$173M$306M$130M$253M$300M$232M$252M$144M$1B$655M$200MUnknown$623M$151M$330M$200M$182M$389M$379M$990M$80M<br>Country=%{location}<extra></extra>\",\"hovertext\":[\"China\"],\"locationmode\":\"country names\",\"locations\":[\"China\"],\"name\":\"$8B$2B$918M$4B$721M$765M$5B$376M$558M$3B$4B$105M$1B$2B$2B$1B$3B$1B$943M$514M$492M$1B$943M$1B$503M$4B$1B$2B$1B$761M$2B$1B$154M$775M$1B$1B$1B$612M$1B$224M$946M$536M$188M$101M$1B$390M$717M$186M$137M$216M$71M$594M$472M$755M$90M$125M$744M$445M$285M$792M$710M$298M$401M$1B$115M$523M$517M$614M$503M$768M$950M$786M$188M$523M$79M$214M$139M$227M$223M$249M$315M$131M$281M$229M$650M$52M$268M$164M$211M$43MUnknown$310M$171M$154M$188M$369M$230M$307MUnknown$149M$800M$554M$658M$2B$947M$394M$388M$235M$116M$267M$96M$650M$572M$511M$207M$362M$218M$432M$368M$151M$496M$252M$361M$10M$594M$14M$300M$787M$144M$875M$396M$325M$136M$53M$250M$1B$86M$300M$273M$697M$224M$549M$682M$105M$391M$359M$283M$439M$157M$100M$302M$200M$173M$306M$130M$253M$300M$232M$252M$144M$1B$655M$200MUnknown$623M$151M$330M$200M$182M$389M$379M$990M$80M\",\"showlegend\":true,\"showscale\":false,\"z\":[1],\"type\":\"choropleth\"},{\"colorscale\":[[0.0,\"#00cc96\"],[1.0,\"#00cc96\"]],\"geo\":\"geo\",\"hovertemplate\":\"<b>%{hovertext}</b><br><br>Funding=$824M$755M$2B$788M$628M$180M$320M$345M$507M$720M$390M$460M$592M$336M$588M$237M<br>Country=%{location}<extra></extra>\",\"hovertext\":[\"Brazil\"],\"locationmode\":\"country names\",\"locations\":[\"Brazil\"],\"name\":\"$824M$755M$2B$788M$628M$180M$320M$345M$507M$720M$390M$460M$592M$336M$588M$237M\",\"showlegend\":true,\"showscale\":false,\"z\":[1],\"type\":\"choropleth\"},{\"colorscale\":[[0.0,\"#ab63fa\"],[1.0,\"#ab63fa\"]],\"geo\":\"geo\",\"hovertemplate\":\"<b>%{hovertext}</b><br><br>Funding=$815M$1B$704M$948M$739M$706M$812M$466M$364M$517M$663M$422M$449M$450M$1B$393M$314M$532MUnknown$232M$263M$293M$545M$326M<br>Country=%{location}<extra></extra>\",\"hovertext\":[\"France\"],\"locationmode\":\"country names\",\"locations\":[\"France\"],\"name\":\"$815M$1B$704M$948M$739M$706M$812M$466M$364M$517M$663M$422M$449M$450M$1B$393M$314M$532MUnknown$232M$263M$293M$545M$326M\",\"showlegend\":true,\"showscale\":false,\"z\":[1],\"type\":\"choropleth\"},{\"colorscale\":[[0.0,\"#FFA15A\"],[1.0,\"#FFA15A\"]],\"geo\":\"geo\",\"hovertemplate\":\"<b>%{hovertext}</b><br><br>Funding=$803M$148M$210M$330M<br>Country=%{location}<extra></extra>\",\"hovertext\":[\"Finland\"],\"locationmode\":\"country names\",\"locations\":[\"Finland\"],\"name\":\"$803M$148M$210M$330M\",\"showlegend\":true,\"showscale\":false,\"z\":[1],\"type\":\"choropleth\"},{\"colorscale\":[[0.0,\"#19d3f3\"],[1.0,\"#19d3f3\"]],\"geo\":\"geo\",\"hovertemplate\":\"<b>%{hovertext}</b><br><br>Funding=$7B$2B$3B$14B$3B$7B$4B$2B$476M$979M$3B$734M$2B$427M$400M$4B$1B$1B$1B$799M$800M$1B$294M$572M$1B$564M$1B$333M$691M$343M$1B$497M$2B$1B$2B$1B$679M$770M$775M$1B$2B$549M$1B$660M$820M$1B$2B$2B$863M$447M$1B$603M$583M$912M$849M$424M$660M$1B$645M$629M$728M$433M$891M$1B$1B$415M$587M$826M$910M$412M$405M$729M$644M$691M$559M$497M$647M$567M$426M$462M$926M$633M$371M$1B$1B$128M$119M$555M$864M$468M$505M$542M$381M$434M$643M$1B$294M$435M$489M$352M$477M$125M$404M$498M$493M$657M$440M$792M$263M$2B$603M$324M$379M$367M$414M$350M$1B$1B$495M$664M$1B$864M$523M$667M$720M$535M$110M$870M$614M$504M$881M$856M$413M$553M$445M$335M$450M$1M$1B$859M$125M$660M$714M$225M$500M$582M$314M$366M$465M$730M$607M$987M$313M$395M$496M$357M$722M$407M$818M$248M$507M$414M$407M$314M$200M$417M$999M$880M$777M$398M$666M$558M$461M$326M$379M$334M$399M$698M$483M$551M$665M$628M$475M$722M$360M$500M$487M$1B$351M$523M$711M$775M$474M$525M$535M$187M$329M$330M$170M$240M$419M$496M$427M$339M$127M$45M$503M$19M$29M$640M$200M$431M$861M$568M$320M$181M$381M$150M$289M$100M$119M$719M$381M$142M$261M$245M$192M$211M$217M$253M$218M$225M$253M$435M$152M$129MUnknown$299M$225M$331M$340M$204M$419M$380M$401M$282M$682M$151M$390M$421M$219M$498M$325M$152M$538M$450M$255M$195M$139M$298M$624M$266M$179M$315M$403M$358M$251M$195M$792M$542M$261M$237M$231M$275M$497M$557M$417M$275M$218M$334M$277M$423M$422M$402M$400M$525M$259M$351M$172M$240M$374M$676M$96M$507M$295M$300M$397M$349M$268M$507M$305M$450M$277M$365M$487M$640M$293M$658M$341M$218M$302M$300M$100M$456M$370M$410M$475M$299M$251M$121MUnknown$342M$550M$545M$315M$3B$527M$183M$192M$408M$202M$566M$226M$356M$296M$296M$365M$432M$373M$94M$206M$700M$231M$2B$211M$310M$143M$394M$163M$329M$352M$174M$440M$660M$160M$632M$910M$294M$271M$236M$228M$323M$183M$303M$181M$328M$240M$318M$170M$384M$169M$141M$241M$271M$286M$426M$511M$382M$436M$156M$287M$390M$115M$475M$335M$738M$102MUnknown$130M$399M$215M$128M$336M$201M$610M$291M$241M$246M$165M$325M$257M$260M$482M$148M$111M$192M$317M$271M$189M$230M$148M$382M$365M$337M$430M$281M$124M$118M$161M$315M$309M$347M$189M$264M$197M$167M$236M$323M$339M$192M$150M$205M$292M$205M$140M$120M$172M$404M$258M$134M$169M$200M$433M$130M$274M$210M$361M$223M$107M$217M$132M$277M$221M$226M$524M$243M$187M$160M$200MUnknown$294M$150M$238M$526M$241M$538M$141M$406M$165M$570MUnknown$182M$254M$305M$196M$269M$128M$209M$145M$259M$258M$294M$277M$299M$314M$45M$152M$362M$800M$337M$93M$17M$135MUnknownUnknown$143M$205M$299M$282M$265M$110M$202M$325M$126M$91M$174M$463M$151M$172M$220M$449M$223M$192M$252M$254M$51M$60M$195M$100M$166M$130M$226M$62M$273M$250M$2B$330M$484M$310M$127M$328M$331M$154M$163M$157M$340M$161M$255M$371M$135M$172M$215M$114M$239M$126M$376M$336M$257M$210M$181M$51M$156M$163M$585M$128M$308M$187M$70M$200M$131M$492M$620M<br>Country=%{location}<extra></extra>\",\"hovertext\":[\"United States\"],\"locationmode\":\"country names\",\"locations\":[\"United States\"],\"name\":\"$7B$2B$3B$14B$3B$7B$4B$2B$476M$979M$3B$734M$2B$427M$400M$4B$1B$1B$1B$799M$800M$1B$294M$572M$1B$564M$1B$333M$691M$343M$1B$497M$2B$1B$2B$1B$679M$770M$775M$1B$2B$549M$1B$660M$820M$1B$2B$2B$863M$447M$1B$603M$583M$912M$849M$424M$660M$1B$645M$629M$728M$433M$891M$1B$1B$415M$587M$826M$910M$412M$405M$729M$644M$691M$559M$497M$647M$567M$426M$462M$926M$633M$371M$1B$1B$128M$119M$555M$864M$468M$505M$542M$381M$434M$643M$1B$294M$435M$489M$352M$477M$125M$404M$498M$493M$657M$440M$792M$263M$2B$603M$324M$379M$367M$414M$350M$1B$1B$495M$664M$1B$864M$523M$667M$720M$535M$110M$870M$614M$504M$881M$856M$413M$553M$445M$335M$450M$1M$1B$859M$125M$660M$714M$225M$500M$582M$314M$366M$465M$730M$607M$987M$313M$395M$496M$357M$722M$407M$818M$248M$507M$414M$407M$314M$200M$417M$999M$880M$777M$398M$666M$558M$461M$326M$379M$334M$399M$698M$483M$551M$665M$628M$475M$722M$360M$500M$487M$1B$351M$523M$711M$775M$474M$525M$535M$187M$329M$330M$170M$240M$419M$496M$427M$339M$127M$45M$503M$19M$29M$640M$200M$431M$861M$568M$320M$181M$381M$150M$289M$100M$119M$719M$381M$142M$261M$245M$192M$211M$217M$253M$218M$225M$253M$435M$152M$129MUnknown$299M$225M$331M$340M$204M$419M$380M$401M$282M$682M$151M$390M$421M$219M$498M$325M$152M$538M$450M$255M$195M$139M$298M$624M$266M$179M$315M$403M$358M$251M$195M$792M$542M$261M$237M$231M$275M$497M$557M$417M$275M$218M$334M$277M$423M$422M$402M$400M$525M$259M$351M$172M$240M$374M$676M$96M$507M$295M$300M$397M$349M$268M$507M$305M$450M$277M$365M$487M$640M$293M$658M$341M$218M$302M$300M$100M$456M$370M$410M$475M$299M$251M$121MUnknown$342M$550M$545M$315M$3B$527M$183M$192M$408M$202M$566M$226M$356M$296M$296M$365M$432M$373M$94M$206M$700M$231M$2B$211M$310M$143M$394M$163M$329M$352M$174M$440M$660M$160M$632M$910M$294M$271M$236M$228M$323M$183M$303M$181M$328M$240M$318M$170M$384M$169M$141M$241M$271M$286M$426M$511M$382M$436M$156M$287M$390M$115M$475M$335M$738M$102MUnknown$130M$399M$215M$128M$336M$201M$610M$291M$241M$246M$165M$325M$257M$260M$482M$148M$111M$192M$317M$271M$189M$230M$148M$382M$365M$337M$430M$281M$124M$118M$161M$315M$309M$347M$189M$264M$197M$167M$236M$323M$339M$192M$150M$205M$292M$205M$140M$120M$172M$404M$258M$134M$169M$200M$433M$130M$274M$210M$361M$223M$107M$217M$132M$277M$221M$226M$524M$243M$187M$160M$200MUnknown$294M$150M$238M$526M$241M$538M$141M$406M$165M$570MUnknown$182M$254M$305M$196M$269M$128M$209M$145M$259M$258M$294M$277M$299M$314M$45M$152M$362M$800M$337M$93M$17M$135MUnknownUnknown$143M$205M$299M$282M$265M$110M$202M$325M$126M$91M$174M$463M$151M$172M$220M$449M$223M$192M$252M$254M$51M$60M$195M$100M$166M$130M$226M$62M$273M$250M$2B$330M$484M$310M$127M$328M$331M$154M$163M$157M$340M$161M$255M$371M$135M$172M$215M$114M$239M$126M$376M$336M$257M$210M$181M$51M$156M$163M$585M$128M$308M$187M$70M$200M$131M$492M$620M\",\"showlegend\":true,\"showscale\":false,\"z\":[1],\"type\":\"choropleth\"},{\"colorscale\":[[0.0,\"#FF6692\"],[1.0,\"#FF6692\"]],\"geo\":\"geo\",\"hovertemplate\":\"<b>%{hovertext}</b><br><br>Funding=$71M$2B$844M$216M$770M$397M$287M$62M$178M$67M$33M$408M<br>Country=%{location}<extra></extra>\",\"hovertext\":[\"South Korea\"],\"locationmode\":\"country names\",\"locations\":[\"South Korea\"],\"name\":\"$71M$2B$844M$216M$770M$397M$287M$62M$178M$67M$33M$408M\",\"showlegend\":true,\"showscale\":false,\"z\":[1],\"type\":\"choropleth\"},{\"colorscale\":[[0.0,\"#B6E880\"],[1.0,\"#B6E880\"]],\"geo\":\"geo\",\"hovertemplate\":\"<b>%{hovertext}</b><br><br>Funding=$607M$920M$599MUnknown$230M$483M$299M$386M$474M$433M$165M$45M$191M$186M$534M$64M$156M$235M$217M<br>Country=%{location}<extra></extra>\",\"hovertext\":[\"Canada\"],\"locationmode\":\"country names\",\"locations\":[\"Canada\"],\"name\":\"$607M$920M$599MUnknown$230M$483M$299M$386M$474M$433M$165M$45M$191M$186M$534M$64M$156M$235M$217M\",\"showlegend\":true,\"showscale\":false,\"z\":[1],\"type\":\"choropleth\"},{\"colorscale\":[[0.0,\"#FF97FF\"],[1.0,\"#FF97FF\"]],\"geo\":\"geo\",\"hovertemplate\":\"<b>%{hovertext}</b><br><br>Funding=$600M$425M$532M$583M$417M$203M$190M$274M$305M$161M$98M$264M$633M$86M$265M$185M$325M$221M$92M$190M<br>Country=%{location}<extra></extra>\",\"hovertext\":[\"Israel\"],\"locationmode\":\"country names\",\"locations\":[\"Israel\"],\"name\":\"$600M$425M$532M$583M$417M$203M$190M$274M$305M$161M$98M$264M$633M$86M$265M$185M$325M$221M$92M$190M\",\"showlegend\":true,\"showscale\":false,\"z\":[1],\"type\":\"choropleth\"},{\"colorscale\":[[0.0,\"#FECB52\"],[1.0,\"#FECB52\"]],\"geo\":\"geo\",\"hovertemplate\":\"<b>%{hovertext}</b><br><br>Funding=$5B$1B$438M$245M$333M$215M<br>Country=%{location}<extra></extra>\",\"hovertext\":[\"Indonesia\"],\"locationmode\":\"country names\",\"locations\":[\"Indonesia\"],\"name\":\"$5B$1B$438M$245M$333M$215M\",\"showlegend\":true,\"showscale\":false,\"z\":[1],\"type\":\"choropleth\"},{\"colorscale\":[[0.0,\"#636efa\"],[1.0,\"#636efa\"]],\"geo\":\"geo\",\"hovertemplate\":\"<b>%{hovertext}</b><br><br>Funding=$596M$229M$237M<br>Country=%{location}<extra></extra>\",\"hovertext\":[\"Belgium\"],\"locationmode\":\"country names\",\"locations\":[\"Belgium\"],\"name\":\"$596M$229M$237M\",\"showlegend\":true,\"showscale\":false,\"z\":[1],\"type\":\"choropleth\"},{\"colorscale\":[[0.0,\"#EF553B\"],[1.0,\"#EF553B\"]],\"geo\":\"geo\",\"hovertemplate\":\"<b>%{hovertext}</b><br><br>Funding=$577M<br>Country=%{location}<extra></extra>\",\"hovertext\":[\"Malaysia\"],\"locationmode\":\"country names\",\"locations\":[\"Malaysia\"],\"name\":\"$577M\",\"showlegend\":true,\"showscale\":false,\"z\":[1],\"type\":\"choropleth\"},{\"colorscale\":[[0.0,\"#00cc96\"],[1.0,\"#00cc96\"]],\"geo\":\"geo\",\"hovertemplate\":\"<b>%{hovertext}</b><br><br>Funding=$572M$802M$280M$257M$222M$166M$284M$125M<br>Country=%{location}<extra></extra>\",\"hovertext\":[\"Australia\"],\"locationmode\":\"country names\",\"locations\":[\"Australia\"],\"name\":\"$572M$802M$280M$257M$222M$166M$284M$125M\",\"showlegend\":true,\"showscale\":false,\"z\":[1],\"type\":\"choropleth\"},{\"colorscale\":[[0.0,\"#ab63fa\"],[1.0,\"#ab63fa\"]],\"geo\":\"geo\",\"hovertemplate\":\"<b>%{hovertext}</b><br><br>Funding=$570M<br>Country=%{location}<extra></extra>\",\"hovertext\":[\"Nigeria\"],\"locationmode\":\"country names\",\"locations\":[\"Nigeria\"],\"name\":\"$570M\",\"showlegend\":true,\"showscale\":false,\"z\":[1],\"type\":\"choropleth\"},{\"colorscale\":[[0.0,\"#FFA15A\"],[1.0,\"#FFA15A\"]],\"geo\":\"geo\",\"hovertemplate\":\"<b>%{hovertext}</b><br><br>Funding=$562M<br>Country=%{location}<extra></extra>\",\"hovertext\":[\"Lithuania\"],\"locationmode\":\"country names\",\"locations\":[\"Lithuania\"],\"name\":\"$562M\",\"showlegend\":true,\"showscale\":false,\"z\":[1],\"type\":\"choropleth\"},{\"colorscale\":[[0.0,\"#19d3f3\"],[1.0,\"#19d3f3\"]],\"geo\":\"geo\",\"hovertemplate\":\"<b>%{hovertext}</b><br><br>Funding=$556M$547M<br>Country=%{location}<extra></extra>\",\"hovertext\":[\"South Africa\"],\"locationmode\":\"country names\",\"locations\":[\"South Africa\"],\"name\":\"$556M$547M\",\"showlegend\":true,\"showscale\":false,\"z\":[1],\"type\":\"choropleth\"},{\"colorscale\":[[0.0,\"#FF6692\"],[1.0,\"#FF6692\"]],\"geo\":\"geo\",\"hovertemplate\":\"<b>%{hovertext}</b><br><br>Funding=$546M$685M<br>Country=%{location}<extra></extra>\",\"hovertext\":[\"Austria\"],\"locationmode\":\"country names\",\"locations\":[\"Austria\"],\"name\":\"$546M$685M\",\"showlegend\":true,\"showscale\":false,\"z\":[1],\"type\":\"choropleth\"},{\"colorscale\":[[0.0,\"#B6E880\"],[1.0,\"#B6E880\"]],\"geo\":\"geo\",\"hovertemplate\":\"<b>%{hovertext}</b><br><br>Funding=$544M<br>Country=%{location}<extra></extra>\",\"hovertext\":[\"Argentina\"],\"locationmode\":\"country names\",\"locations\":[\"Argentina\"],\"name\":\"$544M\",\"showlegend\":true,\"showscale\":false,\"z\":[1],\"type\":\"choropleth\"},{\"colorscale\":[[0.0,\"#FF97FF\"],[1.0,\"#FF97FF\"]],\"geo\":\"geo\",\"hovertemplate\":\"<b>%{hovertext}</b><br><br>Funding=$4B$5B$3B$2B$742M$297M$922M$4B$869M$1B$734M$761M$903M$776M$1B$54M$531M$75M$274M$789M$543M$1B$591M$600M$1B$1B$393M$634M$221M$435M$376M$612M$509M$301M$441M$371M$227M$249M$2B$665M$456M$177M$521M$448M$427M$310M$194M$573M$458M$193M$109M$185M$166M$111M$247M$240M$352M$107M$685M$137M$489M$218M$424M$249M$292M<br>Country=%{location}<extra></extra>\",\"hovertext\":[\"India\"],\"locationmode\":\"country names\",\"locations\":[\"India\"],\"name\":\"$4B$5B$3B$2B$742M$297M$922M$4B$869M$1B$734M$761M$903M$776M$1B$54M$531M$75M$274M$789M$543M$1B$591M$600M$1B$1B$393M$634M$221M$435M$376M$612M$509M$301M$441M$371M$227M$249M$2B$665M$456M$177M$521M$448M$427M$310M$194M$573M$458M$193M$109M$185M$166M$111M$247M$240M$352M$107M$685M$137M$489M$218M$424M$249M$292M\",\"showlegend\":true,\"showscale\":false,\"z\":[1],\"type\":\"choropleth\"},{\"colorscale\":[[0.0,\"#FECB52\"],[1.0,\"#FECB52\"]],\"geo\":\"geo\",\"hovertemplate\":\"<b>%{hovertext}</b><br><br>Funding=$4B$4B$569M$151M$509M$516M<br>Country=%{location}<extra></extra>\",\"hovertext\":[\"Sweden\"],\"locationmode\":\"country names\",\"locations\":[\"Sweden\"],\"name\":\"$4B$4B$569M$151M$509M$516M\",\"showlegend\":true,\"showscale\":false,\"z\":[1],\"type\":\"choropleth\"}],                        {\"template\":{\"data\":{\"histogram2dcontour\":[{\"type\":\"histogram2dcontour\",\"colorbar\":{\"outlinewidth\":0,\"ticks\":\"\"},\"colorscale\":[[0.0,\"#0d0887\"],[0.1111111111111111,\"#46039f\"],[0.2222222222222222,\"#7201a8\"],[0.3333333333333333,\"#9c179e\"],[0.4444444444444444,\"#bd3786\"],[0.5555555555555556,\"#d8576b\"],[0.6666666666666666,\"#ed7953\"],[0.7777777777777778,\"#fb9f3a\"],[0.8888888888888888,\"#fdca26\"],[1.0,\"#f0f921\"]]}],\"choropleth\":[{\"type\":\"choropleth\",\"colorbar\":{\"outlinewidth\":0,\"ticks\":\"\"}}],\"histogram2d\":[{\"type\":\"histogram2d\",\"colorbar\":{\"outlinewidth\":0,\"ticks\":\"\"},\"colorscale\":[[0.0,\"#0d0887\"],[0.1111111111111111,\"#46039f\"],[0.2222222222222222,\"#7201a8\"],[0.3333333333333333,\"#9c179e\"],[0.4444444444444444,\"#bd3786\"],[0.5555555555555556,\"#d8576b\"],[0.6666666666666666,\"#ed7953\"],[0.7777777777777778,\"#fb9f3a\"],[0.8888888888888888,\"#fdca26\"],[1.0,\"#f0f921\"]]}],\"heatmap\":[{\"type\":\"heatmap\",\"colorbar\":{\"outlinewidth\":0,\"ticks\":\"\"},\"colorscale\":[[0.0,\"#0d0887\"],[0.1111111111111111,\"#46039f\"],[0.2222222222222222,\"#7201a8\"],[0.3333333333333333,\"#9c179e\"],[0.4444444444444444,\"#bd3786\"],[0.5555555555555556,\"#d8576b\"],[0.6666666666666666,\"#ed7953\"],[0.7777777777777778,\"#fb9f3a\"],[0.8888888888888888,\"#fdca26\"],[1.0,\"#f0f921\"]]}],\"heatmapgl\":[{\"type\":\"heatmapgl\",\"colorbar\":{\"outlinewidth\":0,\"ticks\":\"\"},\"colorscale\":[[0.0,\"#0d0887\"],[0.1111111111111111,\"#46039f\"],[0.2222222222222222,\"#7201a8\"],[0.3333333333333333,\"#9c179e\"],[0.4444444444444444,\"#bd3786\"],[0.5555555555555556,\"#d8576b\"],[0.6666666666666666,\"#ed7953\"],[0.7777777777777778,\"#fb9f3a\"],[0.8888888888888888,\"#fdca26\"],[1.0,\"#f0f921\"]]}],\"contourcarpet\":[{\"type\":\"contourcarpet\",\"colorbar\":{\"outlinewidth\":0,\"ticks\":\"\"}}],\"contour\":[{\"type\":\"contour\",\"colorbar\":{\"outlinewidth\":0,\"ticks\":\"\"},\"colorscale\":[[0.0,\"#0d0887\"],[0.1111111111111111,\"#46039f\"],[0.2222222222222222,\"#7201a8\"],[0.3333333333333333,\"#9c179e\"],[0.4444444444444444,\"#bd3786\"],[0.5555555555555556,\"#d8576b\"],[0.6666666666666666,\"#ed7953\"],[0.7777777777777778,\"#fb9f3a\"],[0.8888888888888888,\"#fdca26\"],[1.0,\"#f0f921\"]]}],\"surface\":[{\"type\":\"surface\",\"colorbar\":{\"outlinewidth\":0,\"ticks\":\"\"},\"colorscale\":[[0.0,\"#0d0887\"],[0.1111111111111111,\"#46039f\"],[0.2222222222222222,\"#7201a8\"],[0.3333333333333333,\"#9c179e\"],[0.4444444444444444,\"#bd3786\"],[0.5555555555555556,\"#d8576b\"],[0.6666666666666666,\"#ed7953\"],[0.7777777777777778,\"#fb9f3a\"],[0.8888888888888888,\"#fdca26\"],[1.0,\"#f0f921\"]]}],\"mesh3d\":[{\"type\":\"mesh3d\",\"colorbar\":{\"outlinewidth\":0,\"ticks\":\"\"}}],\"scatter\":[{\"fillpattern\":{\"fillmode\":\"overlay\",\"size\":10,\"solidity\":0.2},\"type\":\"scatter\"}],\"parcoords\":[{\"type\":\"parcoords\",\"line\":{\"colorbar\":{\"outlinewidth\":0,\"ticks\":\"\"}}}],\"scatterpolargl\":[{\"type\":\"scatterpolargl\",\"marker\":{\"colorbar\":{\"outlinewidth\":0,\"ticks\":\"\"}}}],\"bar\":[{\"error_x\":{\"color\":\"#2a3f5f\"},\"error_y\":{\"color\":\"#2a3f5f\"},\"marker\":{\"line\":{\"color\":\"#E5ECF6\",\"width\":0.5},\"pattern\":{\"fillmode\":\"overlay\",\"size\":10,\"solidity\":0.2}},\"type\":\"bar\"}],\"scattergeo\":[{\"type\":\"scattergeo\",\"marker\":{\"colorbar\":{\"outlinewidth\":0,\"ticks\":\"\"}}}],\"scatterpolar\":[{\"type\":\"scatterpolar\",\"marker\":{\"colorbar\":{\"outlinewidth\":0,\"ticks\":\"\"}}}],\"histogram\":[{\"marker\":{\"pattern\":{\"fillmode\":\"overlay\",\"size\":10,\"solidity\":0.2}},\"type\":\"histogram\"}],\"scattergl\":[{\"type\":\"scattergl\",\"marker\":{\"colorbar\":{\"outlinewidth\":0,\"ticks\":\"\"}}}],\"scatter3d\":[{\"type\":\"scatter3d\",\"line\":{\"colorbar\":{\"outlinewidth\":0,\"ticks\":\"\"}},\"marker\":{\"colorbar\":{\"outlinewidth\":0,\"ticks\":\"\"}}}],\"scattermapbox\":[{\"type\":\"scattermapbox\",\"marker\":{\"colorbar\":{\"outlinewidth\":0,\"ticks\":\"\"}}}],\"scatterternary\":[{\"type\":\"scatterternary\",\"marker\":{\"colorbar\":{\"outlinewidth\":0,\"ticks\":\"\"}}}],\"scattercarpet\":[{\"type\":\"scattercarpet\",\"marker\":{\"colorbar\":{\"outlinewidth\":0,\"ticks\":\"\"}}}],\"carpet\":[{\"aaxis\":{\"endlinecolor\":\"#2a3f5f\",\"gridcolor\":\"white\",\"linecolor\":\"white\",\"minorgridcolor\":\"white\",\"startlinecolor\":\"#2a3f5f\"},\"baxis\":{\"endlinecolor\":\"#2a3f5f\",\"gridcolor\":\"white\",\"linecolor\":\"white\",\"minorgridcolor\":\"white\",\"startlinecolor\":\"#2a3f5f\"},\"type\":\"carpet\"}],\"table\":[{\"cells\":{\"fill\":{\"color\":\"#EBF0F8\"},\"line\":{\"color\":\"white\"}},\"header\":{\"fill\":{\"color\":\"#C8D4E3\"},\"line\":{\"color\":\"white\"}},\"type\":\"table\"}],\"barpolar\":[{\"marker\":{\"line\":{\"color\":\"#E5ECF6\",\"width\":0.5},\"pattern\":{\"fillmode\":\"overlay\",\"size\":10,\"solidity\":0.2}},\"type\":\"barpolar\"}],\"pie\":[{\"automargin\":true,\"type\":\"pie\"}]},\"layout\":{\"autotypenumbers\":\"strict\",\"colorway\":[\"#636efa\",\"#EF553B\",\"#00cc96\",\"#ab63fa\",\"#FFA15A\",\"#19d3f3\",\"#FF6692\",\"#B6E880\",\"#FF97FF\",\"#FECB52\"],\"font\":{\"color\":\"#2a3f5f\"},\"hovermode\":\"closest\",\"hoverlabel\":{\"align\":\"left\"},\"paper_bgcolor\":\"white\",\"plot_bgcolor\":\"#E5ECF6\",\"polar\":{\"bgcolor\":\"#E5ECF6\",\"angularaxis\":{\"gridcolor\":\"white\",\"linecolor\":\"white\",\"ticks\":\"\"},\"radialaxis\":{\"gridcolor\":\"white\",\"linecolor\":\"white\",\"ticks\":\"\"}},\"ternary\":{\"bgcolor\":\"#E5ECF6\",\"aaxis\":{\"gridcolor\":\"white\",\"linecolor\":\"white\",\"ticks\":\"\"},\"baxis\":{\"gridcolor\":\"white\",\"linecolor\":\"white\",\"ticks\":\"\"},\"caxis\":{\"gridcolor\":\"white\",\"linecolor\":\"white\",\"ticks\":\"\"}},\"coloraxis\":{\"colorbar\":{\"outlinewidth\":0,\"ticks\":\"\"}},\"colorscale\":{\"sequential\":[[0.0,\"#0d0887\"],[0.1111111111111111,\"#46039f\"],[0.2222222222222222,\"#7201a8\"],[0.3333333333333333,\"#9c179e\"],[0.4444444444444444,\"#bd3786\"],[0.5555555555555556,\"#d8576b\"],[0.6666666666666666,\"#ed7953\"],[0.7777777777777778,\"#fb9f3a\"],[0.8888888888888888,\"#fdca26\"],[1.0,\"#f0f921\"]],\"sequentialminus\":[[0.0,\"#0d0887\"],[0.1111111111111111,\"#46039f\"],[0.2222222222222222,\"#7201a8\"],[0.3333333333333333,\"#9c179e\"],[0.4444444444444444,\"#bd3786\"],[0.5555555555555556,\"#d8576b\"],[0.6666666666666666,\"#ed7953\"],[0.7777777777777778,\"#fb9f3a\"],[0.8888888888888888,\"#fdca26\"],[1.0,\"#f0f921\"]],\"diverging\":[[0,\"#8e0152\"],[0.1,\"#c51b7d\"],[0.2,\"#de77ae\"],[0.3,\"#f1b6da\"],[0.4,\"#fde0ef\"],[0.5,\"#f7f7f7\"],[0.6,\"#e6f5d0\"],[0.7,\"#b8e186\"],[0.8,\"#7fbc41\"],[0.9,\"#4d9221\"],[1,\"#276419\"]]},\"xaxis\":{\"gridcolor\":\"white\",\"linecolor\":\"white\",\"ticks\":\"\",\"title\":{\"standoff\":15},\"zerolinecolor\":\"white\",\"automargin\":true,\"zerolinewidth\":2},\"yaxis\":{\"gridcolor\":\"white\",\"linecolor\":\"white\",\"ticks\":\"\",\"title\":{\"standoff\":15},\"zerolinecolor\":\"white\",\"automargin\":true,\"zerolinewidth\":2},\"scene\":{\"xaxis\":{\"backgroundcolor\":\"#E5ECF6\",\"gridcolor\":\"white\",\"linecolor\":\"white\",\"showbackground\":true,\"ticks\":\"\",\"zerolinecolor\":\"white\",\"gridwidth\":2},\"yaxis\":{\"backgroundcolor\":\"#E5ECF6\",\"gridcolor\":\"white\",\"linecolor\":\"white\",\"showbackground\":true,\"ticks\":\"\",\"zerolinecolor\":\"white\",\"gridwidth\":2},\"zaxis\":{\"backgroundcolor\":\"#E5ECF6\",\"gridcolor\":\"white\",\"linecolor\":\"white\",\"showbackground\":true,\"ticks\":\"\",\"zerolinecolor\":\"white\",\"gridwidth\":2}},\"shapedefaults\":{\"line\":{\"color\":\"#2a3f5f\"}},\"annotationdefaults\":{\"arrowcolor\":\"#2a3f5f\",\"arrowhead\":0,\"arrowwidth\":1},\"geo\":{\"bgcolor\":\"white\",\"landcolor\":\"#E5ECF6\",\"subunitcolor\":\"white\",\"showland\":true,\"showlakes\":true,\"lakecolor\":\"white\"},\"title\":{\"x\":0.05},\"mapbox\":{\"style\":\"light\"}}},\"geo\":{\"domain\":{\"x\":[0.0,1.0],\"y\":[0.0,1.0]},\"center\":{}},\"legend\":{\"title\":{\"text\":\"Funding\"},\"tracegroupgap\":0},\"title\":{\"text\":\"Top 10 Countries by Funding\"}},                        {\"responsive\": true}                    ).then(function(){\n",
       "                            \n",
       "var gd = document.getElementById('136af4ae-2f33-4342-b25d-a953a889eba7');\n",
       "var x = new MutationObserver(function (mutations, observer) {{\n",
       "        var display = window.getComputedStyle(gd).display;\n",
       "        if (!display || display === 'none') {{\n",
       "            console.log([gd, 'removed!']);\n",
       "            Plotly.purge(gd);\n",
       "            observer.disconnect();\n",
       "        }}\n",
       "}});\n",
       "\n",
       "// Listen for the removal of the full notebook cells\n",
       "var notebookContainer = gd.closest('#notebook-container');\n",
       "if (notebookContainer) {{\n",
       "    x.observe(notebookContainer, {childList: true});\n",
       "}}\n",
       "\n",
       "// Listen for the clearing of the current output cell\n",
       "var outputEl = gd.closest('.output');\n",
       "if (outputEl) {{\n",
       "    x.observe(outputEl, {childList: true});\n",
       "}}\n",
       "\n",
       "                        })                };                });            </script>        </div>"
      ]
     },
     "metadata": {},
     "output_type": "display_data"
    }
   ],
   "source": [
    "# Group the data by country and sum the funding for each country\n",
    "funding_by_country = df.groupby('Country')['Funding'].sum().reset_index()\n",
    "\n",
    "# Sort the data by funding in descending order and select the top 10 countries\n",
    "top_10_countries = funding_by_country.sort_values(by='Funding', ascending=False).head(20)\n",
    "\n",
    "# Create a map of the top 10 countries by funding\n",
    "fig = px.choropleth(top_10_countries, locations='Country', locationmode='country names',\n",
    "                    color='Funding', hover_name='Country', range_color=[0, top_10_countries['Funding'].max()],\n",
    "                    title='Top 10 Countries by Funding')\n",
    "fig.show()"
   ]
  },
  {
   "cell_type": "markdown",
   "id": "3a58ea8a",
   "metadata": {},
   "source": [
    "**Some observations:**\n",
    "\n",
    "1. Funding Distribution: The map provides a visual representation of the funding distribution across different countries. It is evident that certain countries have received significantly higher funding compared to others.\n",
    "\n",
    "2. Top Funding Countries: The top 10 countries with the highest funding are highlighted on the map. These countries have attracted substantial investments and are likely to have a strong presence in the startup and unicorn ecosystem.\n",
    "\n",
    "3. Funding Disparities: There are noticeable disparities in funding between countries. Some countries have a concentrated area of dark shades, indicating they have secured a large portion of the total funding, while others have lighter shades, suggesting lower funding levels.\n",
    "\n",
    "4. Regional Patterns: The map may reveal regional patterns in funding distribution. It is possible to observe clusters of countries with higher funding amounts within specific regions, indicating regional hubs or ecosystems that attract significant investment.\n",
    "\n",
    "5. Funding Opportunities: The map can help identify countries with lower funding levels, presenting potential opportunities for investors or startups looking for emerging markets or untapped potential."
   ]
  },
  {
   "cell_type": "code",
   "execution_count": 153,
   "id": "1b5e175f",
   "metadata": {},
   "outputs": [
    {
     "data": {
      "text/html": [
       "<div>\n",
       "<style scoped>\n",
       "    .dataframe tbody tr th:only-of-type {\n",
       "        vertical-align: middle;\n",
       "    }\n",
       "\n",
       "    .dataframe tbody tr th {\n",
       "        vertical-align: top;\n",
       "    }\n",
       "\n",
       "    .dataframe thead th {\n",
       "        text-align: right;\n",
       "    }\n",
       "</style>\n",
       "<table border=\"1\" class=\"dataframe\">\n",
       "  <thead>\n",
       "    <tr style=\"text-align: right;\">\n",
       "      <th></th>\n",
       "      <th>Company Name</th>\n",
       "      <th>Valuation</th>\n",
       "      <th>Date</th>\n",
       "      <th>Industry</th>\n",
       "      <th>City</th>\n",
       "      <th>Country</th>\n",
       "      <th>Continent</th>\n",
       "      <th>Year Founded</th>\n",
       "      <th>Funding</th>\n",
       "      <th>Investors</th>\n",
       "      <th>Year Joined</th>\n",
       "      <th>Company</th>\n",
       "    </tr>\n",
       "  </thead>\n",
       "  <tbody>\n",
       "    <tr>\n",
       "      <th>0</th>\n",
       "      <td>Bytedance</td>\n",
       "      <td>180</td>\n",
       "      <td>2017-04-07</td>\n",
       "      <td>Artificial intelligence</td>\n",
       "      <td>Beijing</td>\n",
       "      <td>China</td>\n",
       "      <td>Asia</td>\n",
       "      <td>2012</td>\n",
       "      <td>8.0</td>\n",
       "      <td>Sequoia Capital China, SIG Asia Investments, S...</td>\n",
       "      <td>2017</td>\n",
       "      <td>Bytedance</td>\n",
       "    </tr>\n",
       "    <tr>\n",
       "      <th>1</th>\n",
       "      <td>SpaceX</td>\n",
       "      <td>100</td>\n",
       "      <td>2012-12-01</td>\n",
       "      <td>Other</td>\n",
       "      <td>Hawthorne</td>\n",
       "      <td>United States</td>\n",
       "      <td>North America</td>\n",
       "      <td>2002</td>\n",
       "      <td>7.0</td>\n",
       "      <td>Founders Fund, Draper Fisher Jurvetson, Rothen...</td>\n",
       "      <td>2012</td>\n",
       "      <td>SpaceX</td>\n",
       "    </tr>\n",
       "    <tr>\n",
       "      <th>2</th>\n",
       "      <td>SHEIN</td>\n",
       "      <td>100</td>\n",
       "      <td>2018-07-03</td>\n",
       "      <td>E-commerce &amp; direct-to-consumer</td>\n",
       "      <td>Shenzhen</td>\n",
       "      <td>China</td>\n",
       "      <td>Asia</td>\n",
       "      <td>2008</td>\n",
       "      <td>2.0</td>\n",
       "      <td>Tiger Global Management, Sequoia Capital China...</td>\n",
       "      <td>2018</td>\n",
       "      <td>SHEIN</td>\n",
       "    </tr>\n",
       "    <tr>\n",
       "      <th>3</th>\n",
       "      <td>Stripe</td>\n",
       "      <td>95</td>\n",
       "      <td>2014-01-23</td>\n",
       "      <td>Fintech</td>\n",
       "      <td>San Francisco</td>\n",
       "      <td>United States</td>\n",
       "      <td>North America</td>\n",
       "      <td>2010</td>\n",
       "      <td>2.0</td>\n",
       "      <td>Khosla Ventures, LowercaseCapital, capitalG</td>\n",
       "      <td>2014</td>\n",
       "      <td>Stripe</td>\n",
       "    </tr>\n",
       "    <tr>\n",
       "      <th>4</th>\n",
       "      <td>Klarna</td>\n",
       "      <td>46</td>\n",
       "      <td>2011-12-12</td>\n",
       "      <td>Fintech</td>\n",
       "      <td>Stockholm</td>\n",
       "      <td>Sweden</td>\n",
       "      <td>Europe</td>\n",
       "      <td>2005</td>\n",
       "      <td>4.0</td>\n",
       "      <td>Institutional Venture Partners, Sequoia Capita...</td>\n",
       "      <td>2011</td>\n",
       "      <td>Klarna</td>\n",
       "    </tr>\n",
       "  </tbody>\n",
       "</table>\n",
       "</div>"
      ],
      "text/plain": [
       "  Company Name  Valuation        Date                         Industry  \\\n",
       "0    Bytedance        180  2017-04-07          Artificial intelligence   \n",
       "1       SpaceX        100  2012-12-01                            Other   \n",
       "2        SHEIN        100  2018-07-03  E-commerce & direct-to-consumer   \n",
       "3       Stripe         95  2014-01-23                          Fintech   \n",
       "4       Klarna         46  2011-12-12                          Fintech   \n",
       "\n",
       "            City        Country      Continent  Year Founded  Funding  \\\n",
       "0        Beijing          China           Asia          2012      8.0   \n",
       "1      Hawthorne  United States  North America          2002      7.0   \n",
       "2       Shenzhen          China           Asia          2008      2.0   \n",
       "3  San Francisco  United States  North America          2010      2.0   \n",
       "4      Stockholm         Sweden         Europe          2005      4.0   \n",
       "\n",
       "                                           Investors  Year Joined    Company  \n",
       "0  Sequoia Capital China, SIG Asia Investments, S...         2017  Bytedance  \n",
       "1  Founders Fund, Draper Fisher Jurvetson, Rothen...         2012     SpaceX  \n",
       "2  Tiger Global Management, Sequoia Capital China...         2018      SHEIN  \n",
       "3        Khosla Ventures, LowercaseCapital, capitalG         2014     Stripe  \n",
       "4  Institutional Venture Partners, Sequoia Capita...         2011     Klarna  "
      ]
     },
     "execution_count": 153,
     "metadata": {},
     "output_type": "execute_result"
    }
   ],
   "source": [
    "#Top 5 companies with most Valuation\n",
    "df[['Company', 'Valuation']]=df[['Company Name', 'Valuation']].sort_values(by='Valuation', ascending=False)\n",
    "df.head()"
   ]
  },
  {
   "cell_type": "markdown",
   "id": "22fa3c53",
   "metadata": {},
   "source": [
    "## TOP 5 COUNTRIES WITH MOST UNICORN"
   ]
  },
  {
   "cell_type": "code",
   "execution_count": 159,
   "id": "706a2bca",
   "metadata": {},
   "outputs": [
    {
     "data": {
      "text/plain": [
       "United States     562\n",
       "China             173\n",
       "India              65\n",
       "United Kingdom     43\n",
       "Germany            26\n",
       "Name: Country, dtype: int64"
      ]
     },
     "execution_count": 159,
     "metadata": {},
     "output_type": "execute_result"
    }
   ],
   "source": [
    "#Top 5 Countries with most UNICORN  \n",
    "df.Country.value_counts().head(5)"
   ]
  },
  {
   "cell_type": "code",
   "execution_count": 191,
   "id": "3a25b7c6",
   "metadata": {},
   "outputs": [
    {
     "data": {
      "image/png": "[encoded data removed]",
      "text/plain": [
       "<Figure size 640x480 with 1 Axes>"
      ]
     },
     "metadata": {},
     "output_type": "display_data"
    }
   ],
   "source": [
    "# Count the number of companies in each country\n",
    "country_counts = df['Country'].value_counts().head(5)\n",
    "\n",
    "# Plot a bar graph of the top 5 countries\n",
    "country_counts.plot(kind='bar')\n",
    "\n",
    "# Set the title and axis labels\n",
    "plt.title('Top 5 Countries with the Most Unicorn Companies')\n",
    "plt.xlabel('Country')\n",
    "plt.ylabel('Number of Companies')\n",
    "\n",
    "# Display the plot\n",
    "plt.show()"
   ]
  },
  {
   "cell_type": "markdown",
   "id": "beb4c78f",
   "metadata": {},
   "source": [
    "**Some observations based on this plot:**\n",
    "\n",
    "1. The United States has the highest number of unicorn companies, followed by China, India, the United Kingdom, and Germany.\n",
    "2. The number of unicorn companies in the top 5 countries varies, with the United States having a significantly larger number compared to the other countries.\n",
    "3. The top 5 countries are spread across different continents, indicating a global distribution of unicorn companies.\n",
    "\n",
    "**This bar graph provides a clear visual representation of the number of unicorn companies in each country, allowing for easy comparison between the top countries. It can be useful for identifying the countries with the most vibrant startup ecosystems and investment opportunities.**"
   ]
  },
  {
   "cell_type": "markdown",
   "id": "cd90b82d",
   "metadata": {},
   "source": [
    "## TOP 10 CITIES WITH THE MOST UNICORNS"
   ]
  },
  {
   "cell_type": "code",
   "execution_count": 213,
   "id": "1b753005",
   "metadata": {},
   "outputs": [
    {
     "name": "stdout",
     "output_type": "stream",
     "text": [
      "Top 10 Cities with the Most Unicorns:\n",
      "San Francisco    152\n",
      "New York         103\n",
      "Beijing           63\n",
      "Shanghai          44\n",
      "London            34\n",
      "Bengaluru         29\n",
      "Paris             19\n",
      "Shenzhen          19\n",
      "Palo Alto         18\n",
      "Berlin            17\n",
      "Name: City, dtype: int64\n"
     ]
    }
   ],
   "source": [
    "# Print the top 10 cities with the most unicorns\n",
    "print(\"Top 10 Cities with the Most Unicorns:\")\n",
    "print(top_cities)"
   ]
  },
  {
   "cell_type": "code",
   "execution_count": 225,
   "id": "770c00cc",
   "metadata": {},
   "outputs": [
    {
     "data": {
      "image/png": "[encoded data removed]",
      "text/plain": [
       "<Figure size 1000x800 with 1 Axes>"
      ]
     },
     "metadata": {},
     "output_type": "display_data"
    }
   ],
   "source": [
    "# Group the data by city and count the number of unicorns in each city\n",
    "city_counts = df['City'].value_counts()\n",
    "\n",
    "# Get the top 10 cities with the most unicorns\n",
    "top_cities = city_counts.head(10)\n",
    "\n",
    "# Create a bar plot to visualize the top cities\n",
    "plt.figure(figsize=(10, 8))\n",
    "top_cities.plot(kind='bar')\n",
    "\n",
    "# Set the title and labels for the plot\n",
    "plt.title(\"Top Cities with the Most Unicorns\")\n",
    "plt.xlabel(\"City\")\n",
    "plt.ylabel(\"Number of Unicorns\")\n",
    "\n",
    "# Show the plot\n",
    "plt.show()\n"
   ]
  },
  {
   "cell_type": "markdown",
   "id": "6f71255a",
   "metadata": {},
   "source": [
    "**Some observations based on this bar plot:**\n",
    "\n",
    "1. San Francisco has the highest number of unicorn companies, with over 50.\n",
    "\n",
    "2. Other cities in the top 10 include New York, Beijing, Shanghai, London, Bengaluru, Hangzhou, Boston, Stockholm, and Tel Aviv.\n",
    "\n",
    "3. The number of unicorn companies in the top 10 cities varies widely, with San Francisco having more than twice as many unicorn companies as the next highest city.\n",
    "\n",
    "4. The top 10 cities are located in North America, Europe, and Asia, indicating that unicorn companies are distributed globally."
   ]
  },
  {
   "cell_type": "markdown",
   "id": "8119c84d",
   "metadata": {},
   "source": [
    "## TOP 5 INVESTORS WHO HAVE FUNDED THE MOST UNICORNS"
   ]
  },
  {
   "cell_type": "code",
   "execution_count": 193,
   "id": "0ff73a0e",
   "metadata": {},
   "outputs": [
    {
     "name": "stdout",
     "output_type": "stream",
     "text": [
      "Top 5 investors who have funded the most unicorns:\n",
      "Accel                      60\n",
      "Tiger Global Management    53\n",
      "Andreessen Horowitz        53\n",
      "Sequoia Capital China      48\n",
      "Insight Partners           47\n",
      "Name: Investors, dtype: int64\n"
     ]
    }
   ],
   "source": [
    "#Top 5 investors who have funded the most unicorns\n",
    "\n",
    "# Create a list of all investors\n",
    "all_investors = df['Investors'].str.split(', ').explode().reset_index(drop=True)\n",
    "\n",
    "# Count the number of unicorns each investor has funded\n",
    "investor_counts = all_investors.value_counts().head(5)\n",
    "\n",
    "# Print the top 5 investors\n",
    "print(\"Top 5 investors who have funded the most unicorns:\")\n",
    "print(investor_counts)"
   ]
  },
  {
   "cell_type": "code",
   "execution_count": 215,
   "id": "a7e560e1",
   "metadata": {},
   "outputs": [
    {
     "data": {
      "image/png": "[encoded data removed]",
      "text/plain": [
       "<Figure size 640x480 with 1 Axes>"
      ]
     },
     "metadata": {},
     "output_type": "display_data"
    }
   ],
   "source": [
    "# Create a list of all investors\n",
    "all_investors = df['Investors'].str.split(', ').explode().reset_index(drop=True)\n",
    "\n",
    "# Count the number of unicorns each investor has funded\n",
    "investor_counts = all_investors.value_counts().head(5)\n",
    "\n",
    "# Plot a bar graph of the top 5 investors\n",
    "investor_counts.plot(kind='bar')\n",
    "\n",
    "# Set the title and axis labels\n",
    "plt.title('Top 5 Investors who Funded the Most Unicorns')\n",
    "plt.xlabel('Investors')\n",
    "plt.ylabel('Number of Unicorns')\n",
    "\n",
    "# Display the plot\n",
    "plt.show()"
   ]
  },
  {
   "cell_type": "markdown",
   "id": "27d6c2ee",
   "metadata": {},
   "source": [
    "**Some observations:**\n",
    "\n",
    "1. Accel is the top investor who has funded the most unicorns, followed by Tiger Global Management,Andreessen Horowitz, Sequoia Capital China and insight Partners.\n",
    "\n",
    "2. Based on the provided information, here are the top 5 investors who have funded the most unicorns and the number of unicorns they have funded:\n",
    "\n",
    "  Accel: 60 unicorns\n",
    "\n",
    "  Tiger Global Management: 53 unicorns\n",
    "\n",
    "  Andreessen Horowitz: 53 unicorns\n",
    "\n",
    "  Sequoia Capital China: 48 unicorns\n",
    "\n",
    "  Insight Partners: 47 unicorns\n",
    "\n",
    "3. The top investors who have funded the most unicorns are all venture capital firms, indicating that venture capital plays a significant role in funding unicorn companies.\n",
    "\n",
    "4. These investors have a significant presence in the unicorn ecosystem and have been instrumental in funding some of the most successful startups globally. Their investments have enabled these startups to grow and scale, contributing to job creation, innovation, and economic growth."
   ]
  },
  {
   "cell_type": "markdown",
   "id": "32925b5a",
   "metadata": {},
   "source": [
    "## Heat Map of Unicorn Companies"
   ]
  },
  {
   "cell_type": "code",
   "execution_count": 201,
   "id": "04de837c",
   "metadata": {},
   "outputs": [
    {
     "name": "stderr",
     "output_type": "stream",
     "text": [
      "C:\\Users\\Windows 11\\AppData\\Local\\Temp\\ipykernel_15488\\2571926580.py:8: FutureWarning:\n",
      "\n",
      "The default value of numeric_only in DataFrame.corr is deprecated. In a future version, it will default to False. Select only valid columns or specify the value of numeric_only to silence this warning.\n",
      "\n"
     ]
    },
    {
     "data": {
      "image/png": "[encoded data removed]",
      "text/plain": [
       "<Figure size 1000x800 with 2 Axes>"
      ]
     },
     "metadata": {},
     "output_type": "display_data"
    }
   ],
   "source": [
    "# Select the variables for the heat map\n",
    "variables = ['Valuation', 'Industry', 'Country', 'ROI']\n",
    "\n",
    "# Create a subset of the data with the selected variables\n",
    "subset = df[variables]\n",
    "\n",
    "# Compute the correlation matrix\n",
    "correlation_matrix = subset.corr()\n",
    "\n",
    "# Create the heat map using seaborn\n",
    "plt.figure(figsize=(10, 8))\n",
    "sns.heatmap(correlation_matrix, annot=True, cmap=\"coolwarm\")\n",
    "\n",
    "# Set the title of the heat map\n",
    "plt.title(\"Heat Map of Unicorn Companies\")\n",
    "\n",
    "# Show the plot\n",
    "plt.show()"
   ]
  },
  {
   "cell_type": "markdown",
   "id": "424c8489",
   "metadata": {},
   "source": [
    "**Based on the heat map created using the variables 'Valuation', 'Industry', 'Country', and 'ROI', we can make the following observations:**\n",
    "\n",
    "1. Valuation has a strong positive correlation with ROI, indicating that companies with higher valuations tend to generate higher returns on investment.\n",
    "\n",
    "2. Industry has a weak positive correlation with Valuation and ROI, suggesting that certain industries may be more likely to produce high-valued and high-ROI companies.\n",
    "\n",
    "3. Country has a weak positive correlation with Valuation and ROI, indicating that certain countries may be more likely to produce high-valued and high-ROI companies.\n",
    "\n",
    "4. ROI has a weak positive correlation with Industry and Country, suggesting that certain industries and countries may be more likely to produce high-ROI companies.\n",
    "\n",
    "**These observations provide insights into the relationships between the variables in the dataset and can help unicorn companies make data-driven decisions when selecting potential investments or partnerships. For example, unicorn companies may prioritize investing in companies with high valuations and ROI, particularly in industries or countries that have shown a propensity for producing such companies.**"
   ]
  },
  {
   "cell_type": "markdown",
   "id": "96b4ba0e",
   "metadata": {},
   "source": [
    "## Scatter Plot of Unicorn Companies"
   ]
  },
  {
   "cell_type": "code",
   "execution_count": 202,
   "id": "5c162411",
   "metadata": {},
   "outputs": [
    {
     "data": {
      "image/png": "[encoded data removed]",
      "text/plain": [
       "<Figure size 1000x800 with 1 Axes>"
      ]
     },
     "metadata": {},
     "output_type": "display_data"
    }
   ],
   "source": [
    "# Create a scatter plot using seaborn\n",
    "plt.figure(figsize=(10, 8))\n",
    "sns.scatterplot(data=df, x=\"Year Founded\", y=\"Valuation\", hue=\"Continent\", size=\"Funding\")\n",
    "\n",
    "# Set the title of the scatter plot\n",
    "plt.title(\"Scatter Plot of Unicorn Companies\")\n",
    "\n",
    "# Show the plot\n",
    "plt.show()"
   ]
  },
  {
   "cell_type": "markdown",
   "id": "8b8129ed",
   "metadata": {},
   "source": [
    "**The Scatter Plot shows the relationship between the year each company was founded and its valuation, as well as the size of the dots representing the funding amount for each company and the color of the dots representing the continent where each company is located, we can make the following observations:**\n",
    "\n",
    "1. There is a general trend of increasing valuations for unicorn companies over time. This trend is particularly evident for companies founded in the last decade.\n",
    "\n",
    "2. The size of the dots representing the funding amount for each company varies widely, with some companies receiving significantly more funding than others.\n",
    "\n",
    "3. The color of the dots representing the continent where each company is located shows that unicorn companies are concentrated in North America and Asia, with fewer companies in Europe and other regions.\n",
    "\n",
    "4. There are some outliers in the scatter plot, particularly companies with high valuations and/or high funding amounts that were founded relatively recently.\n",
    "\n",
    "**These observations provide insights into the characteristics of unicorn companies and can help unicorn companies make data-driven decisions when selecting potential investments or partnerships. For example, unicorn companies may prioritize investing in companies founded in recent years with high valuations and/or high funding amounts, particularly in North America and Asia where unicorn companies are most concentrated.**"
   ]
  },
  {
   "cell_type": "markdown",
   "id": "c994d2bd",
   "metadata": {},
   "source": [
    "# OVERALL RECOMMENDATION:\n",
    "    \n",
    "\n",
    "**Four (4) data-driven overall recommendations to help unicorn companies create good business models and make decisions that focus on high-growth potential, diverse investment portfolios, and experienced leadership:**\n",
    "\n",
    "**1. Prioritize companies with experienced leadership: The data shows that companies with experienced leadership are more likely to succeed and generate higher returns for investors. Therefore, unicorn companies should prioritize investing in or partnering with companies that have a leadership team with a proven track record of success in their industry.**\n",
    "    \n",
    "\n",
    "**2. Diversify investment portfolio: The data shows that unicorn companies come from a variety of industries, including mobile & telecommunications, fintech, e-commerce & direct-to-consumer, and supply chain logistics. Therefore, unicorn companies should consider diversifying their investment portfolio by investing in companies from different industries to reduce risk and maximize returns.**\n",
    "    \n",
    "\n",
    "**3. Focus on companies with high-growth potential: The data shows that the majority of unicorn companies in the dataset joined the unicorn club between 2017 and 2021, indicating significant growth potential in recent years. Unicorn companies should focus on identifying and investing in companies with high-growth potential to maximize returns.**\n",
    "    \n",
    "\n",
    "**4. Leverage technology and data analytics: The data shows that technology and data analytics have played a significant role in the growth and success of unicorn companies. Therefore, unicorn companies should leverage technology and data analytics to improve their business models, identify growth opportunities, and make data-driven decisions.**\n",
    "    \n",
    "    \n",
    "\n",
    "**By following these four recommendations, unicorn companies can create good business models, make informed investment decisions, and maximize returns for their investors.**"
   ]
  },
  {
   "cell_type": "code",
   "execution_count": null,
   "id": "8b1de1a1",
   "metadata": {},
   "outputs": [],
   "source": []
  }
 ],
 "metadata": {
  "kernelspec": {
   "display_name": "Python 3 (ipykernel)",
   "language": "python",
   "name": "python3"
  },
  "language_info": {
   "codemirror_mode": {
    "name": "ipython",
    "version": 3
   },
   "file_extension": ".py",
   "mimetype": "text/x-python",
   "name": "python",
   "nbconvert_exporter": "python",
   "pygments_lexer": "ipython3",
   "version": "3.11.4"
  }
 },
 "nbformat": 4,
 "nbformat_minor": 5
}
